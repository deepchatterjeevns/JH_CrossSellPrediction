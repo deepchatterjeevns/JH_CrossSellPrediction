{
  "nbformat": 4,
  "nbformat_minor": 0,
  "metadata": {
    "colab": {
      "name": "JH_CrossSell_v2.ipynb",
      "provenance": [],
      "collapsed_sections": [
        "UbagX17NGa55",
        "RV57-dFINKg6"
      ],
      "toc_visible": true
    },
    "kernelspec": {
      "name": "python3",
      "display_name": "Python 3"
    },
    "accelerator": "GPU"
  },
  "cells": [
    {
      "cell_type": "code",
      "metadata": {
        "id": "g1spEWiWYGwQ",
        "colab_type": "code",
        "colab": {
          "base_uri": "https://localhost:8080/",
          "height": 339
        },
        "outputId": "acbb437c-2f59-432e-a605-ea080a9c6a61"
      },
      "source": [
        "!pip install catboost"
      ],
      "execution_count": null,
      "outputs": [
        {
          "output_type": "stream",
          "text": [
            "Collecting catboost\n",
            "\u001b[?25l  Downloading https://files.pythonhosted.org/packages/90/86/c3dcb600b4f9e7584ed90ea9d30a717fb5c0111574675f442c3e7bc19535/catboost-0.24.1-cp36-none-manylinux1_x86_64.whl (66.1MB)\n",
            "\u001b[K     |████████████████████████████████| 66.1MB 46kB/s \n",
            "\u001b[?25hRequirement already satisfied: pandas>=0.24.0 in /usr/local/lib/python3.6/dist-packages (from catboost) (1.0.5)\n",
            "Requirement already satisfied: numpy>=1.16.0 in /usr/local/lib/python3.6/dist-packages (from catboost) (1.18.5)\n",
            "Requirement already satisfied: matplotlib in /usr/local/lib/python3.6/dist-packages (from catboost) (3.2.2)\n",
            "Requirement already satisfied: six in /usr/local/lib/python3.6/dist-packages (from catboost) (1.15.0)\n",
            "Requirement already satisfied: scipy in /usr/local/lib/python3.6/dist-packages (from catboost) (1.4.1)\n",
            "Requirement already satisfied: graphviz in /usr/local/lib/python3.6/dist-packages (from catboost) (0.10.1)\n",
            "Requirement already satisfied: plotly in /usr/local/lib/python3.6/dist-packages (from catboost) (4.4.1)\n",
            "Requirement already satisfied: pytz>=2017.2 in /usr/local/lib/python3.6/dist-packages (from pandas>=0.24.0->catboost) (2018.9)\n",
            "Requirement already satisfied: python-dateutil>=2.6.1 in /usr/local/lib/python3.6/dist-packages (from pandas>=0.24.0->catboost) (2.8.1)\n",
            "Requirement already satisfied: cycler>=0.10 in /usr/local/lib/python3.6/dist-packages (from matplotlib->catboost) (0.10.0)\n",
            "Requirement already satisfied: kiwisolver>=1.0.1 in /usr/local/lib/python3.6/dist-packages (from matplotlib->catboost) (1.2.0)\n",
            "Requirement already satisfied: pyparsing!=2.0.4,!=2.1.2,!=2.1.6,>=2.0.1 in /usr/local/lib/python3.6/dist-packages (from matplotlib->catboost) (2.4.7)\n",
            "Requirement already satisfied: retrying>=1.3.3 in /usr/local/lib/python3.6/dist-packages (from plotly->catboost) (1.3.3)\n",
            "Installing collected packages: catboost\n",
            "Successfully installed catboost-0.24.1\n"
          ],
          "name": "stdout"
        }
      ]
    },
    {
      "cell_type": "code",
      "metadata": {
        "id": "zNPN6PnFBeid",
        "colab_type": "code",
        "colab": {
          "base_uri": "https://localhost:8080/",
          "height": 70
        },
        "outputId": "68c4be6f-b7df-4b63-f269-4bb2346216e3"
      },
      "source": [
        "import pandas as pd\n",
        "import numpy as np\n",
        "import matplotlib.pyplot as plt\n",
        "import seaborn as sns\n",
        "\n",
        "from sklearn.metrics import classification_report, confusion_matrix, accuracy_score, f1_score\n",
        "from sklearn.metrics import accuracy_score\n",
        "from sklearn.metrics import matthews_corrcoef\n",
        "\n",
        "from sklearn.model_selection import train_test_split\n",
        "import lightgbm as lgb\n",
        "from sklearn.model_selection import StratifiedKFold,KFold,GroupKFold\n",
        "from sklearn.utils import resample\n",
        "from catboost import CatBoostClassifier\n",
        "from sklearn.preprocessing import KBinsDiscretizer"
      ],
      "execution_count": null,
      "outputs": [
        {
          "output_type": "stream",
          "text": [
            "/usr/local/lib/python3.6/dist-packages/statsmodels/tools/_testing.py:19: FutureWarning: pandas.util.testing is deprecated. Use the functions in the public API at pandas.testing instead.\n",
            "  import pandas.util.testing as tm\n"
          ],
          "name": "stderr"
        }
      ]
    },
    {
      "cell_type": "markdown",
      "metadata": {
        "id": "aILsegM4Bu7C",
        "colab_type": "text"
      },
      "source": [
        "# Data Analysis"
      ]
    },
    {
      "cell_type": "code",
      "metadata": {
        "id": "Qr0tbRVTByCZ",
        "colab_type": "code",
        "colab": {}
      },
      "source": [
        "train = pd.read_csv(\"/content/drive/My Drive/JH_CrossSellPrediction/train.csv\")\n",
        "test = pd.read_csv(\"/content/drive/My Drive/JH_CrossSellPrediction/test.csv\")\n",
        "submission = pd.read_csv(\"/content/drive/My Drive/JH_CrossSellPrediction/sample_submission_iA3afxn.csv\")"
      ],
      "execution_count": null,
      "outputs": []
    },
    {
      "cell_type": "markdown",
      "metadata": {
        "id": "-F3Xx8gqB-8k",
        "colab_type": "text"
      },
      "source": [
        "## Check null and basic class counts and so on"
      ]
    },
    {
      "cell_type": "code",
      "metadata": {
        "id": "FuFk-injCJEe",
        "colab_type": "code",
        "colab": {
          "base_uri": "https://localhost:8080/",
          "height": 235
        },
        "outputId": "70d454a8-274c-4d5e-ae77-48bd7608e4e7"
      },
      "source": [
        "train.isnull().sum()"
      ],
      "execution_count": null,
      "outputs": [
        {
          "output_type": "execute_result",
          "data": {
            "text/plain": [
              "id                      0\n",
              "Gender                  0\n",
              "Age                     0\n",
              "Driving_License         0\n",
              "Region_Code             0\n",
              "Previously_Insured      0\n",
              "Vehicle_Age             0\n",
              "Vehicle_Damage          0\n",
              "Annual_Premium          0\n",
              "Policy_Sales_Channel    0\n",
              "Vintage                 0\n",
              "Response                0\n",
              "dtype: int64"
            ]
          },
          "metadata": {
            "tags": []
          },
          "execution_count": 4
        }
      ]
    },
    {
      "cell_type": "code",
      "metadata": {
        "id": "45Bo4Y9tCKtf",
        "colab_type": "code",
        "colab": {
          "base_uri": "https://localhost:8080/",
          "height": 218
        },
        "outputId": "6e0f5734-ffca-443e-c150-d8ec139f1802"
      },
      "source": [
        "test.isnull().sum()"
      ],
      "execution_count": null,
      "outputs": [
        {
          "output_type": "execute_result",
          "data": {
            "text/plain": [
              "id                      0\n",
              "Gender                  0\n",
              "Age                     0\n",
              "Driving_License         0\n",
              "Region_Code             0\n",
              "Previously_Insured      0\n",
              "Vehicle_Age             0\n",
              "Vehicle_Damage          0\n",
              "Annual_Premium          0\n",
              "Policy_Sales_Channel    0\n",
              "Vintage                 0\n",
              "dtype: int64"
            ]
          },
          "metadata": {
            "tags": []
          },
          "execution_count": 5
        }
      ]
    },
    {
      "cell_type": "code",
      "metadata": {
        "id": "2EU_4JyvCNTV",
        "colab_type": "code",
        "colab": {
          "base_uri": "https://localhost:8080/",
          "height": 67
        },
        "outputId": "8d199de5-e7a4-46db-b556-f40b66580685"
      },
      "source": [
        "train['Response'].value_counts()"
      ],
      "execution_count": null,
      "outputs": [
        {
          "output_type": "execute_result",
          "data": {
            "text/plain": [
              "0    334399\n",
              "1     46710\n",
              "Name: Response, dtype: int64"
            ]
          },
          "metadata": {
            "tags": []
          },
          "execution_count": 6
        }
      ]
    },
    {
      "cell_type": "code",
      "metadata": {
        "id": "-yEa2u_7CakJ",
        "colab_type": "code",
        "colab": {
          "base_uri": "https://localhost:8080/",
          "height": 215
        },
        "outputId": "f0606fd0-baea-4aa5-f2b8-52e17ece6da4"
      },
      "source": [
        "train.head()"
      ],
      "execution_count": null,
      "outputs": [
        {
          "output_type": "execute_result",
          "data": {
            "text/html": [
              "<div>\n",
              "<style scoped>\n",
              "    .dataframe tbody tr th:only-of-type {\n",
              "        vertical-align: middle;\n",
              "    }\n",
              "\n",
              "    .dataframe tbody tr th {\n",
              "        vertical-align: top;\n",
              "    }\n",
              "\n",
              "    .dataframe thead th {\n",
              "        text-align: right;\n",
              "    }\n",
              "</style>\n",
              "<table border=\"1\" class=\"dataframe\">\n",
              "  <thead>\n",
              "    <tr style=\"text-align: right;\">\n",
              "      <th></th>\n",
              "      <th>id</th>\n",
              "      <th>Gender</th>\n",
              "      <th>Age</th>\n",
              "      <th>Driving_License</th>\n",
              "      <th>Region_Code</th>\n",
              "      <th>Previously_Insured</th>\n",
              "      <th>Vehicle_Age</th>\n",
              "      <th>Vehicle_Damage</th>\n",
              "      <th>Annual_Premium</th>\n",
              "      <th>Policy_Sales_Channel</th>\n",
              "      <th>Vintage</th>\n",
              "      <th>Response</th>\n",
              "    </tr>\n",
              "  </thead>\n",
              "  <tbody>\n",
              "    <tr>\n",
              "      <th>0</th>\n",
              "      <td>1</td>\n",
              "      <td>Male</td>\n",
              "      <td>44</td>\n",
              "      <td>1</td>\n",
              "      <td>28.0</td>\n",
              "      <td>0</td>\n",
              "      <td>&gt; 2 Years</td>\n",
              "      <td>Yes</td>\n",
              "      <td>40454.0</td>\n",
              "      <td>26.0</td>\n",
              "      <td>217</td>\n",
              "      <td>1</td>\n",
              "    </tr>\n",
              "    <tr>\n",
              "      <th>1</th>\n",
              "      <td>2</td>\n",
              "      <td>Male</td>\n",
              "      <td>76</td>\n",
              "      <td>1</td>\n",
              "      <td>3.0</td>\n",
              "      <td>0</td>\n",
              "      <td>1-2 Year</td>\n",
              "      <td>No</td>\n",
              "      <td>33536.0</td>\n",
              "      <td>26.0</td>\n",
              "      <td>183</td>\n",
              "      <td>0</td>\n",
              "    </tr>\n",
              "    <tr>\n",
              "      <th>2</th>\n",
              "      <td>3</td>\n",
              "      <td>Male</td>\n",
              "      <td>47</td>\n",
              "      <td>1</td>\n",
              "      <td>28.0</td>\n",
              "      <td>0</td>\n",
              "      <td>&gt; 2 Years</td>\n",
              "      <td>Yes</td>\n",
              "      <td>38294.0</td>\n",
              "      <td>26.0</td>\n",
              "      <td>27</td>\n",
              "      <td>1</td>\n",
              "    </tr>\n",
              "    <tr>\n",
              "      <th>3</th>\n",
              "      <td>4</td>\n",
              "      <td>Male</td>\n",
              "      <td>21</td>\n",
              "      <td>1</td>\n",
              "      <td>11.0</td>\n",
              "      <td>1</td>\n",
              "      <td>&lt; 1 Year</td>\n",
              "      <td>No</td>\n",
              "      <td>28619.0</td>\n",
              "      <td>152.0</td>\n",
              "      <td>203</td>\n",
              "      <td>0</td>\n",
              "    </tr>\n",
              "    <tr>\n",
              "      <th>4</th>\n",
              "      <td>5</td>\n",
              "      <td>Female</td>\n",
              "      <td>29</td>\n",
              "      <td>1</td>\n",
              "      <td>41.0</td>\n",
              "      <td>1</td>\n",
              "      <td>&lt; 1 Year</td>\n",
              "      <td>No</td>\n",
              "      <td>27496.0</td>\n",
              "      <td>152.0</td>\n",
              "      <td>39</td>\n",
              "      <td>0</td>\n",
              "    </tr>\n",
              "  </tbody>\n",
              "</table>\n",
              "</div>"
            ],
            "text/plain": [
              "   id  Gender  Age  ...  Policy_Sales_Channel  Vintage  Response\n",
              "0   1    Male   44  ...                  26.0      217         1\n",
              "1   2    Male   76  ...                  26.0      183         0\n",
              "2   3    Male   47  ...                  26.0       27         1\n",
              "3   4    Male   21  ...                 152.0      203         0\n",
              "4   5  Female   29  ...                 152.0       39         0\n",
              "\n",
              "[5 rows x 12 columns]"
            ]
          },
          "metadata": {
            "tags": []
          },
          "execution_count": 7
        }
      ]
    },
    {
      "cell_type": "markdown",
      "metadata": {
        "id": "zvogl7PUCetZ",
        "colab_type": "text"
      },
      "source": [
        "# Basic normalization, ohe and label encoding"
      ]
    },
    {
      "cell_type": "code",
      "metadata": {
        "id": "5W3LvUYvCwov",
        "colab_type": "code",
        "colab": {}
      },
      "source": [
        "## We will label encode for variable Vehicle_Age, Vehicle Damage\n",
        "## OHE for Male /Female (as it is not ordinal)\n",
        "## Age, AnnualPremium,Vintage standardization (z value)"
      ],
      "execution_count": null,
      "outputs": []
    },
    {
      "cell_type": "code",
      "metadata": {
        "id": "SsXq923ODH-Q",
        "colab_type": "code",
        "colab": {}
      },
      "source": [
        "def combine_df(train,test):\n",
        "  train['is_train'] = 1\n",
        "  test['is_train'] = 0\n",
        "  return pd.concat([train,test],axis=0)"
      ],
      "execution_count": null,
      "outputs": []
    },
    {
      "cell_type": "code",
      "metadata": {
        "id": "JQizN9FXD0Jt",
        "colab_type": "code",
        "colab": {}
      },
      "source": [
        "combined = combine_df(train,test)"
      ],
      "execution_count": null,
      "outputs": []
    },
    {
      "cell_type": "code",
      "metadata": {
        "id": "r6TjupRbD2tr",
        "colab_type": "code",
        "colab": {
          "base_uri": "https://localhost:8080/",
          "height": 84
        },
        "outputId": "708de5be-5fbd-4890-c0fe-f171ac113f8f"
      },
      "source": [
        "combined['Vehicle_Age'].value_counts()"
      ],
      "execution_count": null,
      "outputs": [
        {
          "output_type": "execute_result",
          "data": {
            "text/plain": [
              "1-2 Year     267015\n",
              "< 1 Year     219805\n",
              "> 2 Years     21326\n",
              "Name: Vehicle_Age, dtype: int64"
            ]
          },
          "metadata": {
            "tags": []
          },
          "execution_count": 11
        }
      ]
    },
    {
      "cell_type": "code",
      "metadata": {
        "id": "aTUkr_nfD8D7",
        "colab_type": "code",
        "colab": {
          "base_uri": "https://localhost:8080/",
          "height": 67
        },
        "outputId": "4f8a7fc4-38cc-44b4-ec7d-290e58be4cbd"
      },
      "source": [
        "combined['Vehicle_Damage'].value_counts()"
      ],
      "execution_count": null,
      "outputs": [
        {
          "output_type": "execute_result",
          "data": {
            "text/plain": [
              "Yes    256248\n",
              "No     251898\n",
              "Name: Vehicle_Damage, dtype: int64"
            ]
          },
          "metadata": {
            "tags": []
          },
          "execution_count": 12
        }
      ]
    },
    {
      "cell_type": "code",
      "metadata": {
        "id": "bQDqXsNOERWh",
        "colab_type": "code",
        "colab": {}
      },
      "source": [
        "vehicle_age = {\"< 1 Year\": 1,\n",
        "               \"1-2 Year\": 2,\n",
        "               \"> 2 Years\":3}\n",
        "vehicle_damage = {\"Yes\":1,\"No\":0}\n",
        "\n",
        "combined['Vehicle_Age'] = combined['Vehicle_Age'].map(vehicle_age)\n",
        "combined['Vehicle_Damage'] = combined['Vehicle_Damage'].map(vehicle_damage)"
      ],
      "execution_count": null,
      "outputs": []
    },
    {
      "cell_type": "code",
      "metadata": {
        "id": "pOJPCs62orEy",
        "colab_type": "code",
        "colab": {
          "base_uri": "https://localhost:8080/",
          "height": 67
        },
        "outputId": "6d7d1fc8-ec45-4018-ce23-30b2bb2fa36f"
      },
      "source": [
        "combined['Gender'].value_counts()"
      ],
      "execution_count": null,
      "outputs": [
        {
          "output_type": "execute_result",
          "data": {
            "text/plain": [
              "Male      274325\n",
              "Female    233821\n",
              "Name: Gender, dtype: int64"
            ]
          },
          "metadata": {
            "tags": []
          },
          "execution_count": 14
        }
      ]
    },
    {
      "cell_type": "code",
      "metadata": {
        "id": "CiLS14BcFCG5",
        "colab_type": "code",
        "colab": {}
      },
      "source": [
        "combined = pd.get_dummies(combined,columns=['Gender'])"
      ],
      "execution_count": null,
      "outputs": []
    },
    {
      "cell_type": "code",
      "metadata": {
        "id": "taerLBTrFLya",
        "colab_type": "code",
        "colab": {
          "base_uri": "https://localhost:8080/",
          "height": 215
        },
        "outputId": "819637dd-499a-47d9-92e8-24f96072a9b3"
      },
      "source": [
        "combined.head()"
      ],
      "execution_count": null,
      "outputs": [
        {
          "output_type": "execute_result",
          "data": {
            "text/html": [
              "<div>\n",
              "<style scoped>\n",
              "    .dataframe tbody tr th:only-of-type {\n",
              "        vertical-align: middle;\n",
              "    }\n",
              "\n",
              "    .dataframe tbody tr th {\n",
              "        vertical-align: top;\n",
              "    }\n",
              "\n",
              "    .dataframe thead th {\n",
              "        text-align: right;\n",
              "    }\n",
              "</style>\n",
              "<table border=\"1\" class=\"dataframe\">\n",
              "  <thead>\n",
              "    <tr style=\"text-align: right;\">\n",
              "      <th></th>\n",
              "      <th>id</th>\n",
              "      <th>Age</th>\n",
              "      <th>Driving_License</th>\n",
              "      <th>Region_Code</th>\n",
              "      <th>Previously_Insured</th>\n",
              "      <th>Vehicle_Age</th>\n",
              "      <th>Vehicle_Damage</th>\n",
              "      <th>Annual_Premium</th>\n",
              "      <th>Policy_Sales_Channel</th>\n",
              "      <th>Vintage</th>\n",
              "      <th>Response</th>\n",
              "      <th>is_train</th>\n",
              "      <th>Gender_Female</th>\n",
              "      <th>Gender_Male</th>\n",
              "    </tr>\n",
              "  </thead>\n",
              "  <tbody>\n",
              "    <tr>\n",
              "      <th>0</th>\n",
              "      <td>1</td>\n",
              "      <td>44</td>\n",
              "      <td>1</td>\n",
              "      <td>28.0</td>\n",
              "      <td>0</td>\n",
              "      <td>3</td>\n",
              "      <td>1</td>\n",
              "      <td>40454.0</td>\n",
              "      <td>26.0</td>\n",
              "      <td>217</td>\n",
              "      <td>1.0</td>\n",
              "      <td>1</td>\n",
              "      <td>0</td>\n",
              "      <td>1</td>\n",
              "    </tr>\n",
              "    <tr>\n",
              "      <th>1</th>\n",
              "      <td>2</td>\n",
              "      <td>76</td>\n",
              "      <td>1</td>\n",
              "      <td>3.0</td>\n",
              "      <td>0</td>\n",
              "      <td>2</td>\n",
              "      <td>0</td>\n",
              "      <td>33536.0</td>\n",
              "      <td>26.0</td>\n",
              "      <td>183</td>\n",
              "      <td>0.0</td>\n",
              "      <td>1</td>\n",
              "      <td>0</td>\n",
              "      <td>1</td>\n",
              "    </tr>\n",
              "    <tr>\n",
              "      <th>2</th>\n",
              "      <td>3</td>\n",
              "      <td>47</td>\n",
              "      <td>1</td>\n",
              "      <td>28.0</td>\n",
              "      <td>0</td>\n",
              "      <td>3</td>\n",
              "      <td>1</td>\n",
              "      <td>38294.0</td>\n",
              "      <td>26.0</td>\n",
              "      <td>27</td>\n",
              "      <td>1.0</td>\n",
              "      <td>1</td>\n",
              "      <td>0</td>\n",
              "      <td>1</td>\n",
              "    </tr>\n",
              "    <tr>\n",
              "      <th>3</th>\n",
              "      <td>4</td>\n",
              "      <td>21</td>\n",
              "      <td>1</td>\n",
              "      <td>11.0</td>\n",
              "      <td>1</td>\n",
              "      <td>1</td>\n",
              "      <td>0</td>\n",
              "      <td>28619.0</td>\n",
              "      <td>152.0</td>\n",
              "      <td>203</td>\n",
              "      <td>0.0</td>\n",
              "      <td>1</td>\n",
              "      <td>0</td>\n",
              "      <td>1</td>\n",
              "    </tr>\n",
              "    <tr>\n",
              "      <th>4</th>\n",
              "      <td>5</td>\n",
              "      <td>29</td>\n",
              "      <td>1</td>\n",
              "      <td>41.0</td>\n",
              "      <td>1</td>\n",
              "      <td>1</td>\n",
              "      <td>0</td>\n",
              "      <td>27496.0</td>\n",
              "      <td>152.0</td>\n",
              "      <td>39</td>\n",
              "      <td>0.0</td>\n",
              "      <td>1</td>\n",
              "      <td>1</td>\n",
              "      <td>0</td>\n",
              "    </tr>\n",
              "  </tbody>\n",
              "</table>\n",
              "</div>"
            ],
            "text/plain": [
              "   id  Age  Driving_License  ...  is_train  Gender_Female  Gender_Male\n",
              "0   1   44                1  ...         1              0            1\n",
              "1   2   76                1  ...         1              0            1\n",
              "2   3   47                1  ...         1              0            1\n",
              "3   4   21                1  ...         1              0            1\n",
              "4   5   29                1  ...         1              1            0\n",
              "\n",
              "[5 rows x 14 columns]"
            ]
          },
          "metadata": {
            "tags": []
          },
          "execution_count": 16
        }
      ]
    },
    {
      "cell_type": "code",
      "metadata": {
        "id": "XLdzpjquFMuP",
        "colab_type": "code",
        "colab": {}
      },
      "source": [
        "def z_score(x, x_mean, x_std):\n",
        "  return (x - x_mean) / x_std"
      ],
      "execution_count": null,
      "outputs": []
    },
    {
      "cell_type": "code",
      "metadata": {
        "id": "640c9C2TFpRp",
        "colab_type": "code",
        "colab": {}
      },
      "source": [
        "# Age_mean = combined['Age'].mean()\n",
        "# Age_std = combined['Age'].std()\n",
        "# combined['Age'] = combined['Age'].apply(z_score, args=(Age_mean, Age_std))"
      ],
      "execution_count": null,
      "outputs": []
    },
    {
      "cell_type": "code",
      "metadata": {
        "id": "q-A-Rga1F4_g",
        "colab_type": "code",
        "colab": {}
      },
      "source": [
        "# Premium_mean = combined['Annual_Premium'].mean()\n",
        "# Premium_std = combined['Annual_Premium'].std()\n",
        "# combined['Annual_Premium'] = combined['Annual_Premium'].apply(z_score, args=(Premium_mean, Premium_std))"
      ],
      "execution_count": null,
      "outputs": []
    },
    {
      "cell_type": "code",
      "metadata": {
        "id": "ARDmuafkGKy2",
        "colab_type": "code",
        "colab": {}
      },
      "source": [
        "# Vintage_mean = combined['Vintage'].mean()\n",
        "# Vintage_std = combined['Vintage'].std()\n",
        "# combined['Vintage'] = combined['Vintage'].apply(z_score, args=(Vintage_mean, Vintage_std))"
      ],
      "execution_count": null,
      "outputs": []
    },
    {
      "cell_type": "code",
      "metadata": {
        "id": "wOcR44EkGVzO",
        "colab_type": "code",
        "colab": {
          "base_uri": "https://localhost:8080/",
          "height": 215
        },
        "outputId": "1efa93c5-946f-408b-c478-1174cf5fa9d3"
      },
      "source": [
        "combined.head()"
      ],
      "execution_count": null,
      "outputs": [
        {
          "output_type": "execute_result",
          "data": {
            "text/html": [
              "<div>\n",
              "<style scoped>\n",
              "    .dataframe tbody tr th:only-of-type {\n",
              "        vertical-align: middle;\n",
              "    }\n",
              "\n",
              "    .dataframe tbody tr th {\n",
              "        vertical-align: top;\n",
              "    }\n",
              "\n",
              "    .dataframe thead th {\n",
              "        text-align: right;\n",
              "    }\n",
              "</style>\n",
              "<table border=\"1\" class=\"dataframe\">\n",
              "  <thead>\n",
              "    <tr style=\"text-align: right;\">\n",
              "      <th></th>\n",
              "      <th>id</th>\n",
              "      <th>Age</th>\n",
              "      <th>Driving_License</th>\n",
              "      <th>Region_Code</th>\n",
              "      <th>Previously_Insured</th>\n",
              "      <th>Vehicle_Age</th>\n",
              "      <th>Vehicle_Damage</th>\n",
              "      <th>Annual_Premium</th>\n",
              "      <th>Policy_Sales_Channel</th>\n",
              "      <th>Vintage</th>\n",
              "      <th>Response</th>\n",
              "      <th>is_train</th>\n",
              "      <th>Gender_Female</th>\n",
              "      <th>Gender_Male</th>\n",
              "    </tr>\n",
              "  </thead>\n",
              "  <tbody>\n",
              "    <tr>\n",
              "      <th>0</th>\n",
              "      <td>1</td>\n",
              "      <td>44</td>\n",
              "      <td>1</td>\n",
              "      <td>28.0</td>\n",
              "      <td>0</td>\n",
              "      <td>3</td>\n",
              "      <td>1</td>\n",
              "      <td>40454.0</td>\n",
              "      <td>26.0</td>\n",
              "      <td>217</td>\n",
              "      <td>1.0</td>\n",
              "      <td>1</td>\n",
              "      <td>0</td>\n",
              "      <td>1</td>\n",
              "    </tr>\n",
              "    <tr>\n",
              "      <th>1</th>\n",
              "      <td>2</td>\n",
              "      <td>76</td>\n",
              "      <td>1</td>\n",
              "      <td>3.0</td>\n",
              "      <td>0</td>\n",
              "      <td>2</td>\n",
              "      <td>0</td>\n",
              "      <td>33536.0</td>\n",
              "      <td>26.0</td>\n",
              "      <td>183</td>\n",
              "      <td>0.0</td>\n",
              "      <td>1</td>\n",
              "      <td>0</td>\n",
              "      <td>1</td>\n",
              "    </tr>\n",
              "    <tr>\n",
              "      <th>2</th>\n",
              "      <td>3</td>\n",
              "      <td>47</td>\n",
              "      <td>1</td>\n",
              "      <td>28.0</td>\n",
              "      <td>0</td>\n",
              "      <td>3</td>\n",
              "      <td>1</td>\n",
              "      <td>38294.0</td>\n",
              "      <td>26.0</td>\n",
              "      <td>27</td>\n",
              "      <td>1.0</td>\n",
              "      <td>1</td>\n",
              "      <td>0</td>\n",
              "      <td>1</td>\n",
              "    </tr>\n",
              "    <tr>\n",
              "      <th>3</th>\n",
              "      <td>4</td>\n",
              "      <td>21</td>\n",
              "      <td>1</td>\n",
              "      <td>11.0</td>\n",
              "      <td>1</td>\n",
              "      <td>1</td>\n",
              "      <td>0</td>\n",
              "      <td>28619.0</td>\n",
              "      <td>152.0</td>\n",
              "      <td>203</td>\n",
              "      <td>0.0</td>\n",
              "      <td>1</td>\n",
              "      <td>0</td>\n",
              "      <td>1</td>\n",
              "    </tr>\n",
              "    <tr>\n",
              "      <th>4</th>\n",
              "      <td>5</td>\n",
              "      <td>29</td>\n",
              "      <td>1</td>\n",
              "      <td>41.0</td>\n",
              "      <td>1</td>\n",
              "      <td>1</td>\n",
              "      <td>0</td>\n",
              "      <td>27496.0</td>\n",
              "      <td>152.0</td>\n",
              "      <td>39</td>\n",
              "      <td>0.0</td>\n",
              "      <td>1</td>\n",
              "      <td>1</td>\n",
              "      <td>0</td>\n",
              "    </tr>\n",
              "  </tbody>\n",
              "</table>\n",
              "</div>"
            ],
            "text/plain": [
              "   id  Age  Driving_License  ...  is_train  Gender_Female  Gender_Male\n",
              "0   1   44                1  ...         1              0            1\n",
              "1   2   76                1  ...         1              0            1\n",
              "2   3   47                1  ...         1              0            1\n",
              "3   4   21                1  ...         1              0            1\n",
              "4   5   29                1  ...         1              1            0\n",
              "\n",
              "[5 rows x 14 columns]"
            ]
          },
          "metadata": {
            "tags": []
          },
          "execution_count": 21
        }
      ]
    },
    {
      "cell_type": "code",
      "metadata": {
        "id": "OXobBJIMl1JU",
        "colab_type": "code",
        "colab": {
          "base_uri": "https://localhost:8080/",
          "height": 34
        },
        "outputId": "7aa929fd-b376-41a3-e3d8-6971d23d70e0"
      },
      "source": [
        "combined.shape"
      ],
      "execution_count": null,
      "outputs": [
        {
          "output_type": "execute_result",
          "data": {
            "text/plain": [
              "(508146, 14)"
            ]
          },
          "metadata": {
            "tags": []
          },
          "execution_count": 22
        }
      ]
    },
    {
      "cell_type": "code",
      "metadata": {
        "id": "TUoAPi-8l3vI",
        "colab_type": "code",
        "colab": {
          "base_uri": "https://localhost:8080/",
          "height": 34
        },
        "outputId": "087b066f-7c18-4ed2-a4cb-8d449f227da7"
      },
      "source": [
        "combined.drop_duplicates().shape"
      ],
      "execution_count": null,
      "outputs": [
        {
          "output_type": "execute_result",
          "data": {
            "text/plain": [
              "(508146, 14)"
            ]
          },
          "metadata": {
            "tags": []
          },
          "execution_count": 23
        }
      ]
    },
    {
      "cell_type": "markdown",
      "metadata": {
        "id": "7QZEpwTjBTc5",
        "colab_type": "text"
      },
      "source": [
        "# Feature Engineering"
      ]
    },
    {
      "cell_type": "code",
      "metadata": {
        "id": "QVoSNRVtBxLM",
        "colab_type": "code",
        "colab": {}
      },
      "source": [
        "combined['mean_Age_per_region_code']=combined.groupby(['Region_Code'])['Age'].transform('mean')\n",
        "combined['sum_Age_per_region_code']=combined.groupby(['Region_Code'])['Age'].transform('sum')\n",
        "combined['max_Age_per_region_code']=combined.groupby(['Region_Code'])['Age'].transform('max')\n",
        "combined['min_Age_per_region_code']=combined.groupby(['Region_Code'])['Age'].transform('min')"
      ],
      "execution_count": null,
      "outputs": []
    },
    {
      "cell_type": "code",
      "metadata": {
        "id": "2fpDf9p0D8Fd",
        "colab_type": "code",
        "colab": {}
      },
      "source": [
        "combined['mean_Annual_Premium_per_region_code']=combined.groupby(['Region_Code'])['Annual_Premium'].transform('mean')\n",
        "combined['sum_Annual_Premium_per_region_code']=combined.groupby(['Region_Code'])['Annual_Premium'].transform('sum')\n",
        "combined['max_Annual_Premium_per_region_code']=combined.groupby(['Region_Code'])['Annual_Premium'].transform('max')\n",
        "combined['min_Annual_Premium_per_region_code']=combined.groupby(['Region_Code'])['Annual_Premium'].transform('min')"
      ],
      "execution_count": null,
      "outputs": []
    },
    {
      "cell_type": "code",
      "metadata": {
        "id": "gVwmAI71EHXz",
        "colab_type": "code",
        "colab": {}
      },
      "source": [
        "combined['mean_Vintage_per_region_code']=combined.groupby(['Region_Code'])['Vintage'].transform('mean')\n",
        "combined['sum_Vintage_per_region_code']=combined.groupby(['Region_Code'])['Vintage'].transform('sum')\n",
        "combined['max_Vintage_per_region_code']=combined.groupby(['Region_Code'])['Vintage'].transform('max')\n",
        "combined['min_Vintage_per_region_code']=combined.groupby(['Region_Code'])['Vintage'].transform('min')"
      ],
      "execution_count": null,
      "outputs": []
    },
    {
      "cell_type": "code",
      "metadata": {
        "id": "Ir72b1iHIrDf",
        "colab_type": "code",
        "colab": {}
      },
      "source": [
        "combined['mean_Age_per_channel']=combined.groupby(['Policy_Sales_Channel'])['Age'].transform('mean')\n",
        "combined['sum_Age_per_channel']=combined.groupby(['Policy_Sales_Channel'])['Age'].transform('sum')\n",
        "combined['max_Age_per_channel']=combined.groupby(['Policy_Sales_Channel'])['Age'].transform('max')\n",
        "combined['min_Age_per_channel']=combined.groupby(['Policy_Sales_Channel'])['Age'].transform('min')"
      ],
      "execution_count": null,
      "outputs": []
    },
    {
      "cell_type": "code",
      "metadata": {
        "id": "cHhWzJg3I_rQ",
        "colab_type": "code",
        "colab": {}
      },
      "source": [
        "combined['mean_Annual_Premium_per_channel']=combined.groupby(['Policy_Sales_Channel'])['Annual_Premium'].transform('mean')\n",
        "combined['sum_Annual_Premium_per_channel']=combined.groupby(['Policy_Sales_Channel'])['Annual_Premium'].transform('sum')\n",
        "combined['max_Annual_Premium_per_channel']=combined.groupby(['Policy_Sales_Channel'])['Annual_Premium'].transform('max')\n",
        "combined['min_Annual_Premium_per_channel']=combined.groupby(['Policy_Sales_Channel'])['Annual_Premium'].transform('min')"
      ],
      "execution_count": null,
      "outputs": []
    },
    {
      "cell_type": "code",
      "metadata": {
        "id": "TcMG0CNEJDGE",
        "colab_type": "code",
        "colab": {}
      },
      "source": [
        "combined['mean_Vintage_per_channel']=combined.groupby(['Policy_Sales_Channel'])['Vintage'].transform('mean')\n",
        "combined['sum_Vintage_per_channel']=combined.groupby(['Policy_Sales_Channel'])['Vintage'].transform('sum')\n",
        "combined['max_Vintage_per_channel']=combined.groupby(['Policy_Sales_Channel'])['Vintage'].transform('max')\n",
        "combined['min_Vintage_per_channel']=combined.groupby(['Policy_Sales_Channel'])['Vintage'].transform('min')"
      ],
      "execution_count": null,
      "outputs": []
    },
    {
      "cell_type": "code",
      "metadata": {
        "colab_type": "code",
        "id": "SHNr3tAxJaxN",
        "colab": {}
      },
      "source": [
        "combined['mean_Age_per_vehicle_age']=combined.groupby(['Vehicle_Age'])['Age'].transform('mean')\n",
        "combined['sum_Age_per_vehicle_age']=combined.groupby(['Vehicle_Age'])['Age'].transform('sum')\n",
        "combined['max_Age_per_vehicle_age']=combined.groupby(['Vehicle_Age'])['Age'].transform('max')\n",
        "combined['min_Age_per_vehicle_age']=combined.groupby(['Vehicle_Age'])['Age'].transform('min')"
      ],
      "execution_count": null,
      "outputs": []
    },
    {
      "cell_type": "code",
      "metadata": {
        "colab_type": "code",
        "id": "9ikVdEdeJaxY",
        "colab": {}
      },
      "source": [
        "combined['mean_Annual_Premium_per_vehicle_age']=combined.groupby(['Vehicle_Age'])['Annual_Premium'].transform('mean')\n",
        "combined['sum_Annual_Premium_per_vehicle_age']=combined.groupby(['Vehicle_Age'])['Annual_Premium'].transform('sum')\n",
        "combined['max_Annual_Premium_per_vehicle_age']=combined.groupby(['Vehicle_Age'])['Annual_Premium'].transform('max')\n",
        "combined['min_Annual_Premium_per_vehicle_age']=combined.groupby(['Vehicle_Age'])['Annual_Premium'].transform('min')"
      ],
      "execution_count": null,
      "outputs": []
    },
    {
      "cell_type": "code",
      "metadata": {
        "colab_type": "code",
        "id": "U69HDPwiJaxg",
        "colab": {}
      },
      "source": [
        "combined['mean_Vintage_per_vehicle_age']=combined.groupby(['Vehicle_Age'])['Vintage'].transform('mean')\n",
        "combined['sum_Vintage_per_vehicle_age']=combined.groupby(['Vehicle_Age'])['Vintage'].transform('sum')\n",
        "combined['max_Vintage_per_vehicle_age']=combined.groupby(['Vehicle_Age'])['Vintage'].transform('max')\n",
        "combined['min_Vintage_per_vehicle_age']=combined.groupby(['Vehicle_Age'])['Vintage'].transform('min')"
      ],
      "execution_count": null,
      "outputs": []
    },
    {
      "cell_type": "code",
      "metadata": {
        "colab_type": "code",
        "id": "YsfDJZlaJ62U",
        "colab": {}
      },
      "source": [
        "combined['mean_Age_per_vehicle_damage']=combined.groupby(['Vehicle_Damage'])['Age'].transform('mean')\n",
        "combined['sum_Age_per_vehicle_damage']=combined.groupby(['Vehicle_Damage'])['Age'].transform('sum')\n",
        "combined['max_Age_per_vehicle_damage']=combined.groupby(['Vehicle_Damage'])['Age'].transform('max')\n",
        "combined['min_Age_per_vehicle_damage']=combined.groupby(['Vehicle_Damage'])['Age'].transform('min')"
      ],
      "execution_count": null,
      "outputs": []
    },
    {
      "cell_type": "code",
      "metadata": {
        "colab_type": "code",
        "id": "_jg_QwWyJ62Y",
        "colab": {}
      },
      "source": [
        "combined['mean_Annual_Premium_per_vehicle_damage']=combined.groupby(['Vehicle_Damage'])['Annual_Premium'].transform('mean')\n",
        "combined['sum_Annual_Premium_per_vehicle_damage']=combined.groupby(['Vehicle_Damage'])['Annual_Premium'].transform('sum')\n",
        "combined['max_Annual_Premium_per_vehicle_damage']=combined.groupby(['Vehicle_Damage'])['Annual_Premium'].transform('max')\n",
        "combined['min_Annual_Premium_per_vehicle_damage']=combined.groupby(['Vehicle_Damage'])['Annual_Premium'].transform('min')"
      ],
      "execution_count": null,
      "outputs": []
    },
    {
      "cell_type": "code",
      "metadata": {
        "colab_type": "code",
        "id": "_3nDxa8uJ62b",
        "colab": {}
      },
      "source": [
        "combined['mean_Vintage_per_vehicle_damage']=combined.groupby(['Vehicle_Damage'])['Vintage'].transform('mean')\n",
        "combined['sum_Vintage_per_vehicle_damage']=combined.groupby(['Vehicle_Damage'])['Vintage'].transform('sum')\n",
        "combined['max_Vintage_per_vehicle_damage']=combined.groupby(['Vehicle_Damage'])['Vintage'].transform('max')\n",
        "combined['min_Vintage_per_vehicle_damage']=combined.groupby(['Vehicle_Damage'])['Vintage'].transform('min')"
      ],
      "execution_count": null,
      "outputs": []
    },
    {
      "cell_type": "code",
      "metadata": {
        "colab_type": "code",
        "id": "_4FuqtHsKO_Q",
        "colab": {}
      },
      "source": [
        "combined['mean_Age_per_Previously_Insured']=combined.groupby(['Previously_Insured'])['Age'].transform('mean')\n",
        "combined['sum_Age_per_Previously_Insured']=combined.groupby(['Previously_Insured'])['Age'].transform('sum')\n",
        "combined['max_Age_per_Previously_Insured']=combined.groupby(['Previously_Insured'])['Age'].transform('max')\n",
        "combined['min_Age_per_Previously_Insured']=combined.groupby(['Previously_Insured'])['Age'].transform('min')"
      ],
      "execution_count": null,
      "outputs": []
    },
    {
      "cell_type": "code",
      "metadata": {
        "colab_type": "code",
        "id": "e9fAyTIWKO_Z",
        "colab": {}
      },
      "source": [
        "combined['mean_Annual_Premium_per_Previously_Insured']=combined.groupby(['Previously_Insured'])['Annual_Premium'].transform('mean')\n",
        "combined['sum_Annual_Premium_per_Previously_Insured']=combined.groupby(['Previously_Insured'])['Annual_Premium'].transform('sum')\n",
        "combined['max_Annual_Premium_per_Previously_Insured']=combined.groupby(['Previously_Insured'])['Annual_Premium'].transform('max')\n",
        "combined['min_Annual_Premium_per_Previously_Insured']=combined.groupby(['Previously_Insured'])['Annual_Premium'].transform('min')"
      ],
      "execution_count": null,
      "outputs": []
    },
    {
      "cell_type": "code",
      "metadata": {
        "colab_type": "code",
        "id": "BSGmX5-XKO_i",
        "colab": {}
      },
      "source": [
        "combined['mean_Vintage_per_Previously_Insured']=combined.groupby(['Previously_Insured'])['Vintage'].transform('mean')\n",
        "combined['sum_Vintage_per_Previously_Insured']=combined.groupby(['Previously_Insured'])['Vintage'].transform('sum')\n",
        "combined['max_Vintage_per_Previously_Insured']=combined.groupby(['Previously_Insured'])['Vintage'].transform('max')\n",
        "combined['min_Vintage_per_Previously_Insured']=combined.groupby(['Previously_Insured'])['Vintage'].transform('min')"
      ],
      "execution_count": null,
      "outputs": []
    },
    {
      "cell_type": "code",
      "metadata": {
        "colab_type": "code",
        "id": "_wkL_odfmGM3",
        "colab": {}
      },
      "source": [
        "combined['mean_Age_per_Driving_License']=combined.groupby(['Driving_License'])['Age'].transform('mean')\n",
        "combined['sum_Age_per_Driving_License']=combined.groupby(['Driving_License'])['Age'].transform('sum')\n",
        "combined['max_Age_per_Driving_License']=combined.groupby(['Driving_License'])['Age'].transform('max')\n",
        "combined['min_Age_per_Driving_License']=combined.groupby(['Driving_License'])['Age'].transform('min')"
      ],
      "execution_count": null,
      "outputs": []
    },
    {
      "cell_type": "code",
      "metadata": {
        "colab_type": "code",
        "id": "o7AeGH8ImGNC",
        "colab": {}
      },
      "source": [
        "combined['mean_Annual_Premium_per_Driving_License']=combined.groupby(['Driving_License'])['Annual_Premium'].transform('mean')\n",
        "combined['sum_Annual_Premium_per_Driving_License']=combined.groupby(['Driving_License'])['Annual_Premium'].transform('sum')\n",
        "combined['max_Annual_Premium_per_Driving_License']=combined.groupby(['Driving_License'])['Annual_Premium'].transform('max')\n",
        "combined['min_Annual_Premium_per_Driving_License']=combined.groupby(['Driving_License'])['Annual_Premium'].transform('min')"
      ],
      "execution_count": null,
      "outputs": []
    },
    {
      "cell_type": "code",
      "metadata": {
        "colab_type": "code",
        "id": "19QxOiOmmGNM",
        "colab": {}
      },
      "source": [
        "combined['mean_Vintage_per_Driving_License']=combined.groupby(['Driving_License'])['Vintage'].transform('mean')\n",
        "combined['sum_Vintage_per_Driving_License']=combined.groupby(['Driving_License'])['Vintage'].transform('sum')\n",
        "combined['max_Vintage_per_Driving_License']=combined.groupby(['Driving_License'])['Vintage'].transform('max')\n",
        "combined['min_Vintage_per_Driving_License']=combined.groupby(['Driving_License'])['Vintage'].transform('min')"
      ],
      "execution_count": null,
      "outputs": []
    },
    {
      "cell_type": "code",
      "metadata": {
        "id": "7z3qF1XSmd5a",
        "colab_type": "code",
        "colab": {
          "base_uri": "https://localhost:8080/",
          "height": 244
        },
        "outputId": "ce2ec46b-f7ec-45c9-8798-a1a802256ea9"
      },
      "source": [
        "combined.head()"
      ],
      "execution_count": null,
      "outputs": [
        {
          "output_type": "execute_result",
          "data": {
            "text/html": [
              "<div>\n",
              "<style scoped>\n",
              "    .dataframe tbody tr th:only-of-type {\n",
              "        vertical-align: middle;\n",
              "    }\n",
              "\n",
              "    .dataframe tbody tr th {\n",
              "        vertical-align: top;\n",
              "    }\n",
              "\n",
              "    .dataframe thead th {\n",
              "        text-align: right;\n",
              "    }\n",
              "</style>\n",
              "<table border=\"1\" class=\"dataframe\">\n",
              "  <thead>\n",
              "    <tr style=\"text-align: right;\">\n",
              "      <th></th>\n",
              "      <th>id</th>\n",
              "      <th>Age</th>\n",
              "      <th>Driving_License</th>\n",
              "      <th>Region_Code</th>\n",
              "      <th>Previously_Insured</th>\n",
              "      <th>Vehicle_Age</th>\n",
              "      <th>Vehicle_Damage</th>\n",
              "      <th>Annual_Premium</th>\n",
              "      <th>Policy_Sales_Channel</th>\n",
              "      <th>Vintage</th>\n",
              "      <th>Response</th>\n",
              "      <th>is_train</th>\n",
              "      <th>Gender_Female</th>\n",
              "      <th>Gender_Male</th>\n",
              "      <th>mean_Age_per_region_code</th>\n",
              "      <th>sum_Age_per_region_code</th>\n",
              "      <th>max_Age_per_region_code</th>\n",
              "      <th>min_Age_per_region_code</th>\n",
              "      <th>mean_Annual_Premium_per_region_code</th>\n",
              "      <th>sum_Annual_Premium_per_region_code</th>\n",
              "      <th>max_Annual_Premium_per_region_code</th>\n",
              "      <th>min_Annual_Premium_per_region_code</th>\n",
              "      <th>mean_Vintage_per_region_code</th>\n",
              "      <th>sum_Vintage_per_region_code</th>\n",
              "      <th>max_Vintage_per_region_code</th>\n",
              "      <th>min_Vintage_per_region_code</th>\n",
              "      <th>mean_Age_per_channel</th>\n",
              "      <th>sum_Age_per_channel</th>\n",
              "      <th>max_Age_per_channel</th>\n",
              "      <th>min_Age_per_channel</th>\n",
              "      <th>mean_Annual_Premium_per_channel</th>\n",
              "      <th>sum_Annual_Premium_per_channel</th>\n",
              "      <th>max_Annual_Premium_per_channel</th>\n",
              "      <th>min_Annual_Premium_per_channel</th>\n",
              "      <th>mean_Vintage_per_channel</th>\n",
              "      <th>sum_Vintage_per_channel</th>\n",
              "      <th>max_Vintage_per_channel</th>\n",
              "      <th>min_Vintage_per_channel</th>\n",
              "      <th>mean_Age_per_vehicle_age</th>\n",
              "      <th>sum_Age_per_vehicle_age</th>\n",
              "      <th>...</th>\n",
              "      <th>mean_Vintage_per_vehicle_age</th>\n",
              "      <th>sum_Vintage_per_vehicle_age</th>\n",
              "      <th>max_Vintage_per_vehicle_age</th>\n",
              "      <th>min_Vintage_per_vehicle_age</th>\n",
              "      <th>mean_Age_per_vehicle_damage</th>\n",
              "      <th>sum_Age_per_vehicle_damage</th>\n",
              "      <th>max_Age_per_vehicle_damage</th>\n",
              "      <th>min_Age_per_vehicle_damage</th>\n",
              "      <th>mean_Annual_Premium_per_vehicle_damage</th>\n",
              "      <th>sum_Annual_Premium_per_vehicle_damage</th>\n",
              "      <th>max_Annual_Premium_per_vehicle_damage</th>\n",
              "      <th>min_Annual_Premium_per_vehicle_damage</th>\n",
              "      <th>mean_Vintage_per_vehicle_damage</th>\n",
              "      <th>sum_Vintage_per_vehicle_damage</th>\n",
              "      <th>max_Vintage_per_vehicle_damage</th>\n",
              "      <th>min_Vintage_per_vehicle_damage</th>\n",
              "      <th>mean_Age_per_Previously_Insured</th>\n",
              "      <th>sum_Age_per_Previously_Insured</th>\n",
              "      <th>max_Age_per_Previously_Insured</th>\n",
              "      <th>min_Age_per_Previously_Insured</th>\n",
              "      <th>mean_Annual_Premium_per_Previously_Insured</th>\n",
              "      <th>sum_Annual_Premium_per_Previously_Insured</th>\n",
              "      <th>max_Annual_Premium_per_Previously_Insured</th>\n",
              "      <th>min_Annual_Premium_per_Previously_Insured</th>\n",
              "      <th>mean_Vintage_per_Previously_Insured</th>\n",
              "      <th>sum_Vintage_per_Previously_Insured</th>\n",
              "      <th>max_Vintage_per_Previously_Insured</th>\n",
              "      <th>min_Vintage_per_Previously_Insured</th>\n",
              "      <th>mean_Age_per_Driving_License</th>\n",
              "      <th>sum_Age_per_Driving_License</th>\n",
              "      <th>max_Age_per_Driving_License</th>\n",
              "      <th>min_Age_per_Driving_License</th>\n",
              "      <th>mean_Annual_Premium_per_Driving_License</th>\n",
              "      <th>sum_Annual_Premium_per_Driving_License</th>\n",
              "      <th>max_Annual_Premium_per_Driving_License</th>\n",
              "      <th>min_Annual_Premium_per_Driving_License</th>\n",
              "      <th>mean_Vintage_per_Driving_License</th>\n",
              "      <th>sum_Vintage_per_Driving_License</th>\n",
              "      <th>max_Vintage_per_Driving_License</th>\n",
              "      <th>min_Vintage_per_Driving_License</th>\n",
              "    </tr>\n",
              "  </thead>\n",
              "  <tbody>\n",
              "    <tr>\n",
              "      <th>0</th>\n",
              "      <td>1</td>\n",
              "      <td>44</td>\n",
              "      <td>1</td>\n",
              "      <td>28.0</td>\n",
              "      <td>0</td>\n",
              "      <td>3</td>\n",
              "      <td>1</td>\n",
              "      <td>40454.0</td>\n",
              "      <td>26.0</td>\n",
              "      <td>217</td>\n",
              "      <td>1.0</td>\n",
              "      <td>1</td>\n",
              "      <td>0</td>\n",
              "      <td>1</td>\n",
              "      <td>46.223536</td>\n",
              "      <td>6560830</td>\n",
              "      <td>85</td>\n",
              "      <td>20</td>\n",
              "      <td>38649.878763</td>\n",
              "      <td>5.485848e+09</td>\n",
              "      <td>540165.0</td>\n",
              "      <td>2630.0</td>\n",
              "      <td>154.266618</td>\n",
              "      <td>21896141</td>\n",
              "      <td>299</td>\n",
              "      <td>10</td>\n",
              "      <td>50.630664</td>\n",
              "      <td>5396925</td>\n",
              "      <td>85</td>\n",
              "      <td>20</td>\n",
              "      <td>33639.830863</td>\n",
              "      <td>3.585804e+09</td>\n",
              "      <td>540165.0</td>\n",
              "      <td>2630.0</td>\n",
              "      <td>154.405070</td>\n",
              "      <td>16458654</td>\n",
              "      <td>299</td>\n",
              "      <td>10</td>\n",
              "      <td>55.111085</td>\n",
              "      <td>1175299</td>\n",
              "      <td>...</td>\n",
              "      <td>154.740739</td>\n",
              "      <td>3300001</td>\n",
              "      <td>299</td>\n",
              "      <td>10</td>\n",
              "      <td>42.932081</td>\n",
              "      <td>11001260</td>\n",
              "      <td>85</td>\n",
              "      <td>20</td>\n",
              "      <td>30716.024137</td>\n",
              "      <td>7.870920e+09</td>\n",
              "      <td>540165.0</td>\n",
              "      <td>2630.0</td>\n",
              "      <td>154.250671</td>\n",
              "      <td>39526426</td>\n",
              "      <td>299</td>\n",
              "      <td>10</td>\n",
              "      <td>42.454976</td>\n",
              "      <td>11678345</td>\n",
              "      <td>85</td>\n",
              "      <td>20</td>\n",
              "      <td>30479.076437</td>\n",
              "      <td>8.384062e+09</td>\n",
              "      <td>540165.0</td>\n",
              "      <td>2630.0</td>\n",
              "      <td>154.211978</td>\n",
              "      <td>42420014</td>\n",
              "      <td>299</td>\n",
              "      <td>10</td>\n",
              "      <td>38.752254</td>\n",
              "      <td>19651152</td>\n",
              "      <td>85</td>\n",
              "      <td>20</td>\n",
              "      <td>30545.029002</td>\n",
              "      <td>1.548929e+10</td>\n",
              "      <td>540165.0</td>\n",
              "      <td>2630.0</td>\n",
              "      <td>154.336886</td>\n",
              "      <td>78263772</td>\n",
              "      <td>299</td>\n",
              "      <td>10</td>\n",
              "    </tr>\n",
              "    <tr>\n",
              "      <th>1</th>\n",
              "      <td>2</td>\n",
              "      <td>76</td>\n",
              "      <td>1</td>\n",
              "      <td>3.0</td>\n",
              "      <td>0</td>\n",
              "      <td>2</td>\n",
              "      <td>0</td>\n",
              "      <td>33536.0</td>\n",
              "      <td>26.0</td>\n",
              "      <td>183</td>\n",
              "      <td>0.0</td>\n",
              "      <td>1</td>\n",
              "      <td>0</td>\n",
              "      <td>1</td>\n",
              "      <td>36.980970</td>\n",
              "      <td>456678</td>\n",
              "      <td>82</td>\n",
              "      <td>20</td>\n",
              "      <td>24465.445218</td>\n",
              "      <td>3.021238e+08</td>\n",
              "      <td>424578.0</td>\n",
              "      <td>2630.0</td>\n",
              "      <td>154.864442</td>\n",
              "      <td>1912421</td>\n",
              "      <td>299</td>\n",
              "      <td>10</td>\n",
              "      <td>50.630664</td>\n",
              "      <td>5396925</td>\n",
              "      <td>85</td>\n",
              "      <td>20</td>\n",
              "      <td>33639.830863</td>\n",
              "      <td>3.585804e+09</td>\n",
              "      <td>540165.0</td>\n",
              "      <td>2630.0</td>\n",
              "      <td>154.405070</td>\n",
              "      <td>16458654</td>\n",
              "      <td>299</td>\n",
              "      <td>10</td>\n",
              "      <td>49.017962</td>\n",
              "      <td>13088531</td>\n",
              "      <td>...</td>\n",
              "      <td>154.193603</td>\n",
              "      <td>41172005</td>\n",
              "      <td>299</td>\n",
              "      <td>10</td>\n",
              "      <td>34.613534</td>\n",
              "      <td>8719080</td>\n",
              "      <td>85</td>\n",
              "      <td>20</td>\n",
              "      <td>30390.091791</td>\n",
              "      <td>7.655203e+09</td>\n",
              "      <td>540165.0</td>\n",
              "      <td>2630.0</td>\n",
              "      <td>154.431119</td>\n",
              "      <td>38900890</td>\n",
              "      <td>299</td>\n",
              "      <td>10</td>\n",
              "      <td>42.454976</td>\n",
              "      <td>11678345</td>\n",
              "      <td>85</td>\n",
              "      <td>20</td>\n",
              "      <td>30479.076437</td>\n",
              "      <td>8.384062e+09</td>\n",
              "      <td>540165.0</td>\n",
              "      <td>2630.0</td>\n",
              "      <td>154.211978</td>\n",
              "      <td>42420014</td>\n",
              "      <td>299</td>\n",
              "      <td>10</td>\n",
              "      <td>38.752254</td>\n",
              "      <td>19651152</td>\n",
              "      <td>85</td>\n",
              "      <td>20</td>\n",
              "      <td>30545.029002</td>\n",
              "      <td>1.548929e+10</td>\n",
              "      <td>540165.0</td>\n",
              "      <td>2630.0</td>\n",
              "      <td>154.336886</td>\n",
              "      <td>78263772</td>\n",
              "      <td>299</td>\n",
              "      <td>10</td>\n",
              "    </tr>\n",
              "    <tr>\n",
              "      <th>2</th>\n",
              "      <td>3</td>\n",
              "      <td>47</td>\n",
              "      <td>1</td>\n",
              "      <td>28.0</td>\n",
              "      <td>0</td>\n",
              "      <td>3</td>\n",
              "      <td>1</td>\n",
              "      <td>38294.0</td>\n",
              "      <td>26.0</td>\n",
              "      <td>27</td>\n",
              "      <td>1.0</td>\n",
              "      <td>1</td>\n",
              "      <td>0</td>\n",
              "      <td>1</td>\n",
              "      <td>46.223536</td>\n",
              "      <td>6560830</td>\n",
              "      <td>85</td>\n",
              "      <td>20</td>\n",
              "      <td>38649.878763</td>\n",
              "      <td>5.485848e+09</td>\n",
              "      <td>540165.0</td>\n",
              "      <td>2630.0</td>\n",
              "      <td>154.266618</td>\n",
              "      <td>21896141</td>\n",
              "      <td>299</td>\n",
              "      <td>10</td>\n",
              "      <td>50.630664</td>\n",
              "      <td>5396925</td>\n",
              "      <td>85</td>\n",
              "      <td>20</td>\n",
              "      <td>33639.830863</td>\n",
              "      <td>3.585804e+09</td>\n",
              "      <td>540165.0</td>\n",
              "      <td>2630.0</td>\n",
              "      <td>154.405070</td>\n",
              "      <td>16458654</td>\n",
              "      <td>299</td>\n",
              "      <td>10</td>\n",
              "      <td>55.111085</td>\n",
              "      <td>1175299</td>\n",
              "      <td>...</td>\n",
              "      <td>154.740739</td>\n",
              "      <td>3300001</td>\n",
              "      <td>299</td>\n",
              "      <td>10</td>\n",
              "      <td>42.932081</td>\n",
              "      <td>11001260</td>\n",
              "      <td>85</td>\n",
              "      <td>20</td>\n",
              "      <td>30716.024137</td>\n",
              "      <td>7.870920e+09</td>\n",
              "      <td>540165.0</td>\n",
              "      <td>2630.0</td>\n",
              "      <td>154.250671</td>\n",
              "      <td>39526426</td>\n",
              "      <td>299</td>\n",
              "      <td>10</td>\n",
              "      <td>42.454976</td>\n",
              "      <td>11678345</td>\n",
              "      <td>85</td>\n",
              "      <td>20</td>\n",
              "      <td>30479.076437</td>\n",
              "      <td>8.384062e+09</td>\n",
              "      <td>540165.0</td>\n",
              "      <td>2630.0</td>\n",
              "      <td>154.211978</td>\n",
              "      <td>42420014</td>\n",
              "      <td>299</td>\n",
              "      <td>10</td>\n",
              "      <td>38.752254</td>\n",
              "      <td>19651152</td>\n",
              "      <td>85</td>\n",
              "      <td>20</td>\n",
              "      <td>30545.029002</td>\n",
              "      <td>1.548929e+10</td>\n",
              "      <td>540165.0</td>\n",
              "      <td>2630.0</td>\n",
              "      <td>154.336886</td>\n",
              "      <td>78263772</td>\n",
              "      <td>299</td>\n",
              "      <td>10</td>\n",
              "    </tr>\n",
              "    <tr>\n",
              "      <th>3</th>\n",
              "      <td>4</td>\n",
              "      <td>21</td>\n",
              "      <td>1</td>\n",
              "      <td>11.0</td>\n",
              "      <td>1</td>\n",
              "      <td>1</td>\n",
              "      <td>0</td>\n",
              "      <td>28619.0</td>\n",
              "      <td>152.0</td>\n",
              "      <td>203</td>\n",
              "      <td>0.0</td>\n",
              "      <td>1</td>\n",
              "      <td>0</td>\n",
              "      <td>1</td>\n",
              "      <td>34.235480</td>\n",
              "      <td>422055</td>\n",
              "      <td>82</td>\n",
              "      <td>20</td>\n",
              "      <td>27655.183160</td>\n",
              "      <td>3.409331e+08</td>\n",
              "      <td>193637.0</td>\n",
              "      <td>2630.0</td>\n",
              "      <td>154.520360</td>\n",
              "      <td>1904927</td>\n",
              "      <td>299</td>\n",
              "      <td>10</td>\n",
              "      <td>26.211884</td>\n",
              "      <td>4705636</td>\n",
              "      <td>80</td>\n",
              "      <td>20</td>\n",
              "      <td>30898.685511</td>\n",
              "      <td>5.547025e+09</td>\n",
              "      <td>495106.0</td>\n",
              "      <td>2630.0</td>\n",
              "      <td>154.624338</td>\n",
              "      <td>27758625</td>\n",
              "      <td>299</td>\n",
              "      <td>10</td>\n",
              "      <td>24.824322</td>\n",
              "      <td>5456510</td>\n",
              "      <td>...</td>\n",
              "      <td>154.479243</td>\n",
              "      <td>33955310</td>\n",
              "      <td>299</td>\n",
              "      <td>10</td>\n",
              "      <td>34.613534</td>\n",
              "      <td>8719080</td>\n",
              "      <td>85</td>\n",
              "      <td>20</td>\n",
              "      <td>30390.091791</td>\n",
              "      <td>7.655203e+09</td>\n",
              "      <td>540165.0</td>\n",
              "      <td>2630.0</td>\n",
              "      <td>154.431119</td>\n",
              "      <td>38900890</td>\n",
              "      <td>299</td>\n",
              "      <td>10</td>\n",
              "      <td>34.504634</td>\n",
              "      <td>8041995</td>\n",
              "      <td>85</td>\n",
              "      <td>20</td>\n",
              "      <td>30643.414704</td>\n",
              "      <td>7.142061e+09</td>\n",
              "      <td>540165.0</td>\n",
              "      <td>2630.0</td>\n",
              "      <td>154.491363</td>\n",
              "      <td>36007302</td>\n",
              "      <td>299</td>\n",
              "      <td>10</td>\n",
              "      <td>38.752254</td>\n",
              "      <td>19651152</td>\n",
              "      <td>85</td>\n",
              "      <td>20</td>\n",
              "      <td>30545.029002</td>\n",
              "      <td>1.548929e+10</td>\n",
              "      <td>540165.0</td>\n",
              "      <td>2630.0</td>\n",
              "      <td>154.336886</td>\n",
              "      <td>78263772</td>\n",
              "      <td>299</td>\n",
              "      <td>10</td>\n",
              "    </tr>\n",
              "    <tr>\n",
              "      <th>4</th>\n",
              "      <td>5</td>\n",
              "      <td>29</td>\n",
              "      <td>1</td>\n",
              "      <td>41.0</td>\n",
              "      <td>1</td>\n",
              "      <td>1</td>\n",
              "      <td>0</td>\n",
              "      <td>27496.0</td>\n",
              "      <td>152.0</td>\n",
              "      <td>39</td>\n",
              "      <td>0.0</td>\n",
              "      <td>1</td>\n",
              "      <td>1</td>\n",
              "      <td>0</td>\n",
              "      <td>36.404016</td>\n",
              "      <td>888258</td>\n",
              "      <td>83</td>\n",
              "      <td>20</td>\n",
              "      <td>30948.979918</td>\n",
              "      <td>7.551551e+08</td>\n",
              "      <td>339396.0</td>\n",
              "      <td>2630.0</td>\n",
              "      <td>154.851189</td>\n",
              "      <td>3778369</td>\n",
              "      <td>299</td>\n",
              "      <td>10</td>\n",
              "      <td>26.211884</td>\n",
              "      <td>4705636</td>\n",
              "      <td>80</td>\n",
              "      <td>20</td>\n",
              "      <td>30898.685511</td>\n",
              "      <td>5.547025e+09</td>\n",
              "      <td>495106.0</td>\n",
              "      <td>2630.0</td>\n",
              "      <td>154.624338</td>\n",
              "      <td>27758625</td>\n",
              "      <td>299</td>\n",
              "      <td>10</td>\n",
              "      <td>24.824322</td>\n",
              "      <td>5456510</td>\n",
              "      <td>...</td>\n",
              "      <td>154.479243</td>\n",
              "      <td>33955310</td>\n",
              "      <td>299</td>\n",
              "      <td>10</td>\n",
              "      <td>34.613534</td>\n",
              "      <td>8719080</td>\n",
              "      <td>85</td>\n",
              "      <td>20</td>\n",
              "      <td>30390.091791</td>\n",
              "      <td>7.655203e+09</td>\n",
              "      <td>540165.0</td>\n",
              "      <td>2630.0</td>\n",
              "      <td>154.431119</td>\n",
              "      <td>38900890</td>\n",
              "      <td>299</td>\n",
              "      <td>10</td>\n",
              "      <td>34.504634</td>\n",
              "      <td>8041995</td>\n",
              "      <td>85</td>\n",
              "      <td>20</td>\n",
              "      <td>30643.414704</td>\n",
              "      <td>7.142061e+09</td>\n",
              "      <td>540165.0</td>\n",
              "      <td>2630.0</td>\n",
              "      <td>154.491363</td>\n",
              "      <td>36007302</td>\n",
              "      <td>299</td>\n",
              "      <td>10</td>\n",
              "      <td>38.752254</td>\n",
              "      <td>19651152</td>\n",
              "      <td>85</td>\n",
              "      <td>20</td>\n",
              "      <td>30545.029002</td>\n",
              "      <td>1.548929e+10</td>\n",
              "      <td>540165.0</td>\n",
              "      <td>2630.0</td>\n",
              "      <td>154.336886</td>\n",
              "      <td>78263772</td>\n",
              "      <td>299</td>\n",
              "      <td>10</td>\n",
              "    </tr>\n",
              "  </tbody>\n",
              "</table>\n",
              "<p>5 rows × 86 columns</p>\n",
              "</div>"
            ],
            "text/plain": [
              "   id  Age  ...  max_Vintage_per_Driving_License  min_Vintage_per_Driving_License\n",
              "0   1   44  ...                              299                               10\n",
              "1   2   76  ...                              299                               10\n",
              "2   3   47  ...                              299                               10\n",
              "3   4   21  ...                              299                               10\n",
              "4   5   29  ...                              299                               10\n",
              "\n",
              "[5 rows x 86 columns]"
            ]
          },
          "metadata": {
            "tags": []
          },
          "execution_count": 42
        }
      ]
    },
    {
      "cell_type": "code",
      "metadata": {
        "id": "PJoK0SGdnJ2F",
        "colab_type": "code",
        "colab": {
          "base_uri": "https://localhost:8080/",
          "height": 168
        },
        "outputId": "3728a339-8c51-4dc3-e9c9-f511ec927791"
      },
      "source": [
        "combined['Vintage'].describe()"
      ],
      "execution_count": null,
      "outputs": [
        {
          "output_type": "execute_result",
          "data": {
            "text/plain": [
              "count    508146.000000\n",
              "mean        154.340123\n",
              "std          83.668793\n",
              "min          10.000000\n",
              "25%          82.000000\n",
              "50%         154.000000\n",
              "75%         227.000000\n",
              "max         299.000000\n",
              "Name: Vintage, dtype: float64"
            ]
          },
          "metadata": {
            "tags": []
          },
          "execution_count": 43
        }
      ]
    },
    {
      "cell_type": "code",
      "metadata": {
        "id": "-4tN82cLpMxF",
        "colab_type": "code",
        "colab": {}
      },
      "source": [
        "combined['Premium_by_age'] = combined['Annual_Premium'] / combined['Age']"
      ],
      "execution_count": null,
      "outputs": []
    },
    {
      "cell_type": "code",
      "metadata": {
        "id": "cCYUI4cgpVz4",
        "colab_type": "code",
        "colab": {
          "base_uri": "https://localhost:8080/",
          "height": 244
        },
        "outputId": "fc5cc524-2c43-40b7-cb6b-3a9cbf45cc1d"
      },
      "source": [
        "combined.head()"
      ],
      "execution_count": null,
      "outputs": [
        {
          "output_type": "execute_result",
          "data": {
            "text/html": [
              "<div>\n",
              "<style scoped>\n",
              "    .dataframe tbody tr th:only-of-type {\n",
              "        vertical-align: middle;\n",
              "    }\n",
              "\n",
              "    .dataframe tbody tr th {\n",
              "        vertical-align: top;\n",
              "    }\n",
              "\n",
              "    .dataframe thead th {\n",
              "        text-align: right;\n",
              "    }\n",
              "</style>\n",
              "<table border=\"1\" class=\"dataframe\">\n",
              "  <thead>\n",
              "    <tr style=\"text-align: right;\">\n",
              "      <th></th>\n",
              "      <th>id</th>\n",
              "      <th>Age</th>\n",
              "      <th>Driving_License</th>\n",
              "      <th>Region_Code</th>\n",
              "      <th>Previously_Insured</th>\n",
              "      <th>Vehicle_Age</th>\n",
              "      <th>Vehicle_Damage</th>\n",
              "      <th>Annual_Premium</th>\n",
              "      <th>Policy_Sales_Channel</th>\n",
              "      <th>Vintage</th>\n",
              "      <th>Response</th>\n",
              "      <th>is_train</th>\n",
              "      <th>Gender_Female</th>\n",
              "      <th>Gender_Male</th>\n",
              "      <th>mean_Age_per_region_code</th>\n",
              "      <th>sum_Age_per_region_code</th>\n",
              "      <th>max_Age_per_region_code</th>\n",
              "      <th>min_Age_per_region_code</th>\n",
              "      <th>mean_Annual_Premium_per_region_code</th>\n",
              "      <th>sum_Annual_Premium_per_region_code</th>\n",
              "      <th>max_Annual_Premium_per_region_code</th>\n",
              "      <th>min_Annual_Premium_per_region_code</th>\n",
              "      <th>mean_Vintage_per_region_code</th>\n",
              "      <th>sum_Vintage_per_region_code</th>\n",
              "      <th>max_Vintage_per_region_code</th>\n",
              "      <th>min_Vintage_per_region_code</th>\n",
              "      <th>mean_Age_per_channel</th>\n",
              "      <th>sum_Age_per_channel</th>\n",
              "      <th>max_Age_per_channel</th>\n",
              "      <th>min_Age_per_channel</th>\n",
              "      <th>mean_Annual_Premium_per_channel</th>\n",
              "      <th>sum_Annual_Premium_per_channel</th>\n",
              "      <th>max_Annual_Premium_per_channel</th>\n",
              "      <th>min_Annual_Premium_per_channel</th>\n",
              "      <th>mean_Vintage_per_channel</th>\n",
              "      <th>sum_Vintage_per_channel</th>\n",
              "      <th>max_Vintage_per_channel</th>\n",
              "      <th>min_Vintage_per_channel</th>\n",
              "      <th>mean_Age_per_vehicle_age</th>\n",
              "      <th>sum_Age_per_vehicle_age</th>\n",
              "      <th>...</th>\n",
              "      <th>sum_Vintage_per_vehicle_age</th>\n",
              "      <th>max_Vintage_per_vehicle_age</th>\n",
              "      <th>min_Vintage_per_vehicle_age</th>\n",
              "      <th>mean_Age_per_vehicle_damage</th>\n",
              "      <th>sum_Age_per_vehicle_damage</th>\n",
              "      <th>max_Age_per_vehicle_damage</th>\n",
              "      <th>min_Age_per_vehicle_damage</th>\n",
              "      <th>mean_Annual_Premium_per_vehicle_damage</th>\n",
              "      <th>sum_Annual_Premium_per_vehicle_damage</th>\n",
              "      <th>max_Annual_Premium_per_vehicle_damage</th>\n",
              "      <th>min_Annual_Premium_per_vehicle_damage</th>\n",
              "      <th>mean_Vintage_per_vehicle_damage</th>\n",
              "      <th>sum_Vintage_per_vehicle_damage</th>\n",
              "      <th>max_Vintage_per_vehicle_damage</th>\n",
              "      <th>min_Vintage_per_vehicle_damage</th>\n",
              "      <th>mean_Age_per_Previously_Insured</th>\n",
              "      <th>sum_Age_per_Previously_Insured</th>\n",
              "      <th>max_Age_per_Previously_Insured</th>\n",
              "      <th>min_Age_per_Previously_Insured</th>\n",
              "      <th>mean_Annual_Premium_per_Previously_Insured</th>\n",
              "      <th>sum_Annual_Premium_per_Previously_Insured</th>\n",
              "      <th>max_Annual_Premium_per_Previously_Insured</th>\n",
              "      <th>min_Annual_Premium_per_Previously_Insured</th>\n",
              "      <th>mean_Vintage_per_Previously_Insured</th>\n",
              "      <th>sum_Vintage_per_Previously_Insured</th>\n",
              "      <th>max_Vintage_per_Previously_Insured</th>\n",
              "      <th>min_Vintage_per_Previously_Insured</th>\n",
              "      <th>mean_Age_per_Driving_License</th>\n",
              "      <th>sum_Age_per_Driving_License</th>\n",
              "      <th>max_Age_per_Driving_License</th>\n",
              "      <th>min_Age_per_Driving_License</th>\n",
              "      <th>mean_Annual_Premium_per_Driving_License</th>\n",
              "      <th>sum_Annual_Premium_per_Driving_License</th>\n",
              "      <th>max_Annual_Premium_per_Driving_License</th>\n",
              "      <th>min_Annual_Premium_per_Driving_License</th>\n",
              "      <th>mean_Vintage_per_Driving_License</th>\n",
              "      <th>sum_Vintage_per_Driving_License</th>\n",
              "      <th>max_Vintage_per_Driving_License</th>\n",
              "      <th>min_Vintage_per_Driving_License</th>\n",
              "      <th>Premium_by_age</th>\n",
              "    </tr>\n",
              "  </thead>\n",
              "  <tbody>\n",
              "    <tr>\n",
              "      <th>0</th>\n",
              "      <td>1</td>\n",
              "      <td>44</td>\n",
              "      <td>1</td>\n",
              "      <td>28.0</td>\n",
              "      <td>0</td>\n",
              "      <td>3</td>\n",
              "      <td>1</td>\n",
              "      <td>40454.0</td>\n",
              "      <td>26.0</td>\n",
              "      <td>217</td>\n",
              "      <td>1.0</td>\n",
              "      <td>1</td>\n",
              "      <td>0</td>\n",
              "      <td>1</td>\n",
              "      <td>46.223536</td>\n",
              "      <td>6560830</td>\n",
              "      <td>85</td>\n",
              "      <td>20</td>\n",
              "      <td>38649.878763</td>\n",
              "      <td>5.485848e+09</td>\n",
              "      <td>540165.0</td>\n",
              "      <td>2630.0</td>\n",
              "      <td>154.266618</td>\n",
              "      <td>21896141</td>\n",
              "      <td>299</td>\n",
              "      <td>10</td>\n",
              "      <td>50.630664</td>\n",
              "      <td>5396925</td>\n",
              "      <td>85</td>\n",
              "      <td>20</td>\n",
              "      <td>33639.830863</td>\n",
              "      <td>3.585804e+09</td>\n",
              "      <td>540165.0</td>\n",
              "      <td>2630.0</td>\n",
              "      <td>154.405070</td>\n",
              "      <td>16458654</td>\n",
              "      <td>299</td>\n",
              "      <td>10</td>\n",
              "      <td>55.111085</td>\n",
              "      <td>1175299</td>\n",
              "      <td>...</td>\n",
              "      <td>3300001</td>\n",
              "      <td>299</td>\n",
              "      <td>10</td>\n",
              "      <td>42.932081</td>\n",
              "      <td>11001260</td>\n",
              "      <td>85</td>\n",
              "      <td>20</td>\n",
              "      <td>30716.024137</td>\n",
              "      <td>7.870920e+09</td>\n",
              "      <td>540165.0</td>\n",
              "      <td>2630.0</td>\n",
              "      <td>154.250671</td>\n",
              "      <td>39526426</td>\n",
              "      <td>299</td>\n",
              "      <td>10</td>\n",
              "      <td>42.454976</td>\n",
              "      <td>11678345</td>\n",
              "      <td>85</td>\n",
              "      <td>20</td>\n",
              "      <td>30479.076437</td>\n",
              "      <td>8.384062e+09</td>\n",
              "      <td>540165.0</td>\n",
              "      <td>2630.0</td>\n",
              "      <td>154.211978</td>\n",
              "      <td>42420014</td>\n",
              "      <td>299</td>\n",
              "      <td>10</td>\n",
              "      <td>38.752254</td>\n",
              "      <td>19651152</td>\n",
              "      <td>85</td>\n",
              "      <td>20</td>\n",
              "      <td>30545.029002</td>\n",
              "      <td>1.548929e+10</td>\n",
              "      <td>540165.0</td>\n",
              "      <td>2630.0</td>\n",
              "      <td>154.336886</td>\n",
              "      <td>78263772</td>\n",
              "      <td>299</td>\n",
              "      <td>10</td>\n",
              "      <td>919.409091</td>\n",
              "    </tr>\n",
              "    <tr>\n",
              "      <th>1</th>\n",
              "      <td>2</td>\n",
              "      <td>76</td>\n",
              "      <td>1</td>\n",
              "      <td>3.0</td>\n",
              "      <td>0</td>\n",
              "      <td>2</td>\n",
              "      <td>0</td>\n",
              "      <td>33536.0</td>\n",
              "      <td>26.0</td>\n",
              "      <td>183</td>\n",
              "      <td>0.0</td>\n",
              "      <td>1</td>\n",
              "      <td>0</td>\n",
              "      <td>1</td>\n",
              "      <td>36.980970</td>\n",
              "      <td>456678</td>\n",
              "      <td>82</td>\n",
              "      <td>20</td>\n",
              "      <td>24465.445218</td>\n",
              "      <td>3.021238e+08</td>\n",
              "      <td>424578.0</td>\n",
              "      <td>2630.0</td>\n",
              "      <td>154.864442</td>\n",
              "      <td>1912421</td>\n",
              "      <td>299</td>\n",
              "      <td>10</td>\n",
              "      <td>50.630664</td>\n",
              "      <td>5396925</td>\n",
              "      <td>85</td>\n",
              "      <td>20</td>\n",
              "      <td>33639.830863</td>\n",
              "      <td>3.585804e+09</td>\n",
              "      <td>540165.0</td>\n",
              "      <td>2630.0</td>\n",
              "      <td>154.405070</td>\n",
              "      <td>16458654</td>\n",
              "      <td>299</td>\n",
              "      <td>10</td>\n",
              "      <td>49.017962</td>\n",
              "      <td>13088531</td>\n",
              "      <td>...</td>\n",
              "      <td>41172005</td>\n",
              "      <td>299</td>\n",
              "      <td>10</td>\n",
              "      <td>34.613534</td>\n",
              "      <td>8719080</td>\n",
              "      <td>85</td>\n",
              "      <td>20</td>\n",
              "      <td>30390.091791</td>\n",
              "      <td>7.655203e+09</td>\n",
              "      <td>540165.0</td>\n",
              "      <td>2630.0</td>\n",
              "      <td>154.431119</td>\n",
              "      <td>38900890</td>\n",
              "      <td>299</td>\n",
              "      <td>10</td>\n",
              "      <td>42.454976</td>\n",
              "      <td>11678345</td>\n",
              "      <td>85</td>\n",
              "      <td>20</td>\n",
              "      <td>30479.076437</td>\n",
              "      <td>8.384062e+09</td>\n",
              "      <td>540165.0</td>\n",
              "      <td>2630.0</td>\n",
              "      <td>154.211978</td>\n",
              "      <td>42420014</td>\n",
              "      <td>299</td>\n",
              "      <td>10</td>\n",
              "      <td>38.752254</td>\n",
              "      <td>19651152</td>\n",
              "      <td>85</td>\n",
              "      <td>20</td>\n",
              "      <td>30545.029002</td>\n",
              "      <td>1.548929e+10</td>\n",
              "      <td>540165.0</td>\n",
              "      <td>2630.0</td>\n",
              "      <td>154.336886</td>\n",
              "      <td>78263772</td>\n",
              "      <td>299</td>\n",
              "      <td>10</td>\n",
              "      <td>441.263158</td>\n",
              "    </tr>\n",
              "    <tr>\n",
              "      <th>2</th>\n",
              "      <td>3</td>\n",
              "      <td>47</td>\n",
              "      <td>1</td>\n",
              "      <td>28.0</td>\n",
              "      <td>0</td>\n",
              "      <td>3</td>\n",
              "      <td>1</td>\n",
              "      <td>38294.0</td>\n",
              "      <td>26.0</td>\n",
              "      <td>27</td>\n",
              "      <td>1.0</td>\n",
              "      <td>1</td>\n",
              "      <td>0</td>\n",
              "      <td>1</td>\n",
              "      <td>46.223536</td>\n",
              "      <td>6560830</td>\n",
              "      <td>85</td>\n",
              "      <td>20</td>\n",
              "      <td>38649.878763</td>\n",
              "      <td>5.485848e+09</td>\n",
              "      <td>540165.0</td>\n",
              "      <td>2630.0</td>\n",
              "      <td>154.266618</td>\n",
              "      <td>21896141</td>\n",
              "      <td>299</td>\n",
              "      <td>10</td>\n",
              "      <td>50.630664</td>\n",
              "      <td>5396925</td>\n",
              "      <td>85</td>\n",
              "      <td>20</td>\n",
              "      <td>33639.830863</td>\n",
              "      <td>3.585804e+09</td>\n",
              "      <td>540165.0</td>\n",
              "      <td>2630.0</td>\n",
              "      <td>154.405070</td>\n",
              "      <td>16458654</td>\n",
              "      <td>299</td>\n",
              "      <td>10</td>\n",
              "      <td>55.111085</td>\n",
              "      <td>1175299</td>\n",
              "      <td>...</td>\n",
              "      <td>3300001</td>\n",
              "      <td>299</td>\n",
              "      <td>10</td>\n",
              "      <td>42.932081</td>\n",
              "      <td>11001260</td>\n",
              "      <td>85</td>\n",
              "      <td>20</td>\n",
              "      <td>30716.024137</td>\n",
              "      <td>7.870920e+09</td>\n",
              "      <td>540165.0</td>\n",
              "      <td>2630.0</td>\n",
              "      <td>154.250671</td>\n",
              "      <td>39526426</td>\n",
              "      <td>299</td>\n",
              "      <td>10</td>\n",
              "      <td>42.454976</td>\n",
              "      <td>11678345</td>\n",
              "      <td>85</td>\n",
              "      <td>20</td>\n",
              "      <td>30479.076437</td>\n",
              "      <td>8.384062e+09</td>\n",
              "      <td>540165.0</td>\n",
              "      <td>2630.0</td>\n",
              "      <td>154.211978</td>\n",
              "      <td>42420014</td>\n",
              "      <td>299</td>\n",
              "      <td>10</td>\n",
              "      <td>38.752254</td>\n",
              "      <td>19651152</td>\n",
              "      <td>85</td>\n",
              "      <td>20</td>\n",
              "      <td>30545.029002</td>\n",
              "      <td>1.548929e+10</td>\n",
              "      <td>540165.0</td>\n",
              "      <td>2630.0</td>\n",
              "      <td>154.336886</td>\n",
              "      <td>78263772</td>\n",
              "      <td>299</td>\n",
              "      <td>10</td>\n",
              "      <td>814.765957</td>\n",
              "    </tr>\n",
              "    <tr>\n",
              "      <th>3</th>\n",
              "      <td>4</td>\n",
              "      <td>21</td>\n",
              "      <td>1</td>\n",
              "      <td>11.0</td>\n",
              "      <td>1</td>\n",
              "      <td>1</td>\n",
              "      <td>0</td>\n",
              "      <td>28619.0</td>\n",
              "      <td>152.0</td>\n",
              "      <td>203</td>\n",
              "      <td>0.0</td>\n",
              "      <td>1</td>\n",
              "      <td>0</td>\n",
              "      <td>1</td>\n",
              "      <td>34.235480</td>\n",
              "      <td>422055</td>\n",
              "      <td>82</td>\n",
              "      <td>20</td>\n",
              "      <td>27655.183160</td>\n",
              "      <td>3.409331e+08</td>\n",
              "      <td>193637.0</td>\n",
              "      <td>2630.0</td>\n",
              "      <td>154.520360</td>\n",
              "      <td>1904927</td>\n",
              "      <td>299</td>\n",
              "      <td>10</td>\n",
              "      <td>26.211884</td>\n",
              "      <td>4705636</td>\n",
              "      <td>80</td>\n",
              "      <td>20</td>\n",
              "      <td>30898.685511</td>\n",
              "      <td>5.547025e+09</td>\n",
              "      <td>495106.0</td>\n",
              "      <td>2630.0</td>\n",
              "      <td>154.624338</td>\n",
              "      <td>27758625</td>\n",
              "      <td>299</td>\n",
              "      <td>10</td>\n",
              "      <td>24.824322</td>\n",
              "      <td>5456510</td>\n",
              "      <td>...</td>\n",
              "      <td>33955310</td>\n",
              "      <td>299</td>\n",
              "      <td>10</td>\n",
              "      <td>34.613534</td>\n",
              "      <td>8719080</td>\n",
              "      <td>85</td>\n",
              "      <td>20</td>\n",
              "      <td>30390.091791</td>\n",
              "      <td>7.655203e+09</td>\n",
              "      <td>540165.0</td>\n",
              "      <td>2630.0</td>\n",
              "      <td>154.431119</td>\n",
              "      <td>38900890</td>\n",
              "      <td>299</td>\n",
              "      <td>10</td>\n",
              "      <td>34.504634</td>\n",
              "      <td>8041995</td>\n",
              "      <td>85</td>\n",
              "      <td>20</td>\n",
              "      <td>30643.414704</td>\n",
              "      <td>7.142061e+09</td>\n",
              "      <td>540165.0</td>\n",
              "      <td>2630.0</td>\n",
              "      <td>154.491363</td>\n",
              "      <td>36007302</td>\n",
              "      <td>299</td>\n",
              "      <td>10</td>\n",
              "      <td>38.752254</td>\n",
              "      <td>19651152</td>\n",
              "      <td>85</td>\n",
              "      <td>20</td>\n",
              "      <td>30545.029002</td>\n",
              "      <td>1.548929e+10</td>\n",
              "      <td>540165.0</td>\n",
              "      <td>2630.0</td>\n",
              "      <td>154.336886</td>\n",
              "      <td>78263772</td>\n",
              "      <td>299</td>\n",
              "      <td>10</td>\n",
              "      <td>1362.809524</td>\n",
              "    </tr>\n",
              "    <tr>\n",
              "      <th>4</th>\n",
              "      <td>5</td>\n",
              "      <td>29</td>\n",
              "      <td>1</td>\n",
              "      <td>41.0</td>\n",
              "      <td>1</td>\n",
              "      <td>1</td>\n",
              "      <td>0</td>\n",
              "      <td>27496.0</td>\n",
              "      <td>152.0</td>\n",
              "      <td>39</td>\n",
              "      <td>0.0</td>\n",
              "      <td>1</td>\n",
              "      <td>1</td>\n",
              "      <td>0</td>\n",
              "      <td>36.404016</td>\n",
              "      <td>888258</td>\n",
              "      <td>83</td>\n",
              "      <td>20</td>\n",
              "      <td>30948.979918</td>\n",
              "      <td>7.551551e+08</td>\n",
              "      <td>339396.0</td>\n",
              "      <td>2630.0</td>\n",
              "      <td>154.851189</td>\n",
              "      <td>3778369</td>\n",
              "      <td>299</td>\n",
              "      <td>10</td>\n",
              "      <td>26.211884</td>\n",
              "      <td>4705636</td>\n",
              "      <td>80</td>\n",
              "      <td>20</td>\n",
              "      <td>30898.685511</td>\n",
              "      <td>5.547025e+09</td>\n",
              "      <td>495106.0</td>\n",
              "      <td>2630.0</td>\n",
              "      <td>154.624338</td>\n",
              "      <td>27758625</td>\n",
              "      <td>299</td>\n",
              "      <td>10</td>\n",
              "      <td>24.824322</td>\n",
              "      <td>5456510</td>\n",
              "      <td>...</td>\n",
              "      <td>33955310</td>\n",
              "      <td>299</td>\n",
              "      <td>10</td>\n",
              "      <td>34.613534</td>\n",
              "      <td>8719080</td>\n",
              "      <td>85</td>\n",
              "      <td>20</td>\n",
              "      <td>30390.091791</td>\n",
              "      <td>7.655203e+09</td>\n",
              "      <td>540165.0</td>\n",
              "      <td>2630.0</td>\n",
              "      <td>154.431119</td>\n",
              "      <td>38900890</td>\n",
              "      <td>299</td>\n",
              "      <td>10</td>\n",
              "      <td>34.504634</td>\n",
              "      <td>8041995</td>\n",
              "      <td>85</td>\n",
              "      <td>20</td>\n",
              "      <td>30643.414704</td>\n",
              "      <td>7.142061e+09</td>\n",
              "      <td>540165.0</td>\n",
              "      <td>2630.0</td>\n",
              "      <td>154.491363</td>\n",
              "      <td>36007302</td>\n",
              "      <td>299</td>\n",
              "      <td>10</td>\n",
              "      <td>38.752254</td>\n",
              "      <td>19651152</td>\n",
              "      <td>85</td>\n",
              "      <td>20</td>\n",
              "      <td>30545.029002</td>\n",
              "      <td>1.548929e+10</td>\n",
              "      <td>540165.0</td>\n",
              "      <td>2630.0</td>\n",
              "      <td>154.336886</td>\n",
              "      <td>78263772</td>\n",
              "      <td>299</td>\n",
              "      <td>10</td>\n",
              "      <td>948.137931</td>\n",
              "    </tr>\n",
              "  </tbody>\n",
              "</table>\n",
              "<p>5 rows × 87 columns</p>\n",
              "</div>"
            ],
            "text/plain": [
              "   id  Age  ...  min_Vintage_per_Driving_License  Premium_by_age\n",
              "0   1   44  ...                               10      919.409091\n",
              "1   2   76  ...                               10      441.263158\n",
              "2   3   47  ...                               10      814.765957\n",
              "3   4   21  ...                               10     1362.809524\n",
              "4   5   29  ...                               10      948.137931\n",
              "\n",
              "[5 rows x 87 columns]"
            ]
          },
          "metadata": {
            "tags": []
          },
          "execution_count": 45
        }
      ]
    },
    {
      "cell_type": "code",
      "metadata": {
        "colab_type": "code",
        "id": "ny_rCsZ8pjDs",
        "colab": {}
      },
      "source": [
        "combined['mean_Age_per_insured_damage']=combined.groupby(['Previously_Insured','Vehicle_Damage'])['Age'].transform('mean')\n",
        "combined['sum_Age_per_insured_damage']=combined.groupby(['Previously_Insured','Vehicle_Damage'])['Age'].transform('sum')\n",
        "combined['max_Age_per_insured_damage']=combined.groupby(['Previously_Insured','Vehicle_Damage'])['Age'].transform('max')\n",
        "combined['min_Age_per_insured_damage']=combined.groupby(['Previously_Insured','Vehicle_Damage'])['Age'].transform('min')"
      ],
      "execution_count": null,
      "outputs": []
    },
    {
      "cell_type": "code",
      "metadata": {
        "colab_type": "code",
        "id": "3TefqyQJpjD8",
        "colab": {}
      },
      "source": [
        "combined['mean_Annual_Premium_per_insured_damage']=combined.groupby(['Previously_Insured','Vehicle_Damage'])['Annual_Premium'].transform('mean')\n",
        "combined['sum_Annual_Premium_per_insured_damage']=combined.groupby(['Previously_Insured','Vehicle_Damage'])['Annual_Premium'].transform('sum')\n",
        "combined['max_Annual_Premium_per_insured_damage']=combined.groupby(['Previously_Insured','Vehicle_Damage'])['Annual_Premium'].transform('max')\n",
        "combined['min_Annual_Premium_per_insured_damage']=combined.groupby(['Previously_Insured','Vehicle_Damage'])['Annual_Premium'].transform('min')"
      ],
      "execution_count": null,
      "outputs": []
    },
    {
      "cell_type": "code",
      "metadata": {
        "colab_type": "code",
        "id": "mFxqN-Q3pjEJ",
        "colab": {}
      },
      "source": [
        "combined['mean_Vintage_per_insured_damage']=combined.groupby(['Previously_Insured','Vehicle_Damage'])['Vintage'].transform('mean')\n",
        "combined['sum_Vintage_per_insured_damage']=combined.groupby(['Previously_Insured','Vehicle_Damage'])['Vintage'].transform('sum')\n",
        "combined['max_Vintage_per_insured_damage']=combined.groupby(['Previously_Insured','Vehicle_Damage'])['Vintage'].transform('max')\n",
        "combined['min_Vintage_per_insured_damage']=combined.groupby(['Previously_Insured','Vehicle_Damage'])['Vintage'].transform('min')"
      ],
      "execution_count": null,
      "outputs": []
    },
    {
      "cell_type": "code",
      "metadata": {
        "id": "rIWThIKCqCWG",
        "colab_type": "code",
        "colab": {
          "base_uri": "https://localhost:8080/",
          "height": 244
        },
        "outputId": "a76c56a5-c400-45d6-9dce-39f1d1eee1ca"
      },
      "source": [
        "combined.head()"
      ],
      "execution_count": null,
      "outputs": [
        {
          "output_type": "execute_result",
          "data": {
            "text/html": [
              "<div>\n",
              "<style scoped>\n",
              "    .dataframe tbody tr th:only-of-type {\n",
              "        vertical-align: middle;\n",
              "    }\n",
              "\n",
              "    .dataframe tbody tr th {\n",
              "        vertical-align: top;\n",
              "    }\n",
              "\n",
              "    .dataframe thead th {\n",
              "        text-align: right;\n",
              "    }\n",
              "</style>\n",
              "<table border=\"1\" class=\"dataframe\">\n",
              "  <thead>\n",
              "    <tr style=\"text-align: right;\">\n",
              "      <th></th>\n",
              "      <th>id</th>\n",
              "      <th>Age</th>\n",
              "      <th>Driving_License</th>\n",
              "      <th>Region_Code</th>\n",
              "      <th>Previously_Insured</th>\n",
              "      <th>Vehicle_Age</th>\n",
              "      <th>Vehicle_Damage</th>\n",
              "      <th>Annual_Premium</th>\n",
              "      <th>Policy_Sales_Channel</th>\n",
              "      <th>Vintage</th>\n",
              "      <th>Response</th>\n",
              "      <th>is_train</th>\n",
              "      <th>Gender_Female</th>\n",
              "      <th>Gender_Male</th>\n",
              "      <th>mean_Age_per_region_code</th>\n",
              "      <th>sum_Age_per_region_code</th>\n",
              "      <th>max_Age_per_region_code</th>\n",
              "      <th>min_Age_per_region_code</th>\n",
              "      <th>mean_Annual_Premium_per_region_code</th>\n",
              "      <th>sum_Annual_Premium_per_region_code</th>\n",
              "      <th>max_Annual_Premium_per_region_code</th>\n",
              "      <th>min_Annual_Premium_per_region_code</th>\n",
              "      <th>mean_Vintage_per_region_code</th>\n",
              "      <th>sum_Vintage_per_region_code</th>\n",
              "      <th>max_Vintage_per_region_code</th>\n",
              "      <th>min_Vintage_per_region_code</th>\n",
              "      <th>mean_Age_per_channel</th>\n",
              "      <th>sum_Age_per_channel</th>\n",
              "      <th>max_Age_per_channel</th>\n",
              "      <th>min_Age_per_channel</th>\n",
              "      <th>mean_Annual_Premium_per_channel</th>\n",
              "      <th>sum_Annual_Premium_per_channel</th>\n",
              "      <th>max_Annual_Premium_per_channel</th>\n",
              "      <th>min_Annual_Premium_per_channel</th>\n",
              "      <th>mean_Vintage_per_channel</th>\n",
              "      <th>sum_Vintage_per_channel</th>\n",
              "      <th>max_Vintage_per_channel</th>\n",
              "      <th>min_Vintage_per_channel</th>\n",
              "      <th>mean_Age_per_vehicle_age</th>\n",
              "      <th>sum_Age_per_vehicle_age</th>\n",
              "      <th>...</th>\n",
              "      <th>sum_Vintage_per_vehicle_damage</th>\n",
              "      <th>max_Vintage_per_vehicle_damage</th>\n",
              "      <th>min_Vintage_per_vehicle_damage</th>\n",
              "      <th>mean_Age_per_Previously_Insured</th>\n",
              "      <th>sum_Age_per_Previously_Insured</th>\n",
              "      <th>max_Age_per_Previously_Insured</th>\n",
              "      <th>min_Age_per_Previously_Insured</th>\n",
              "      <th>mean_Annual_Premium_per_Previously_Insured</th>\n",
              "      <th>sum_Annual_Premium_per_Previously_Insured</th>\n",
              "      <th>max_Annual_Premium_per_Previously_Insured</th>\n",
              "      <th>min_Annual_Premium_per_Previously_Insured</th>\n",
              "      <th>mean_Vintage_per_Previously_Insured</th>\n",
              "      <th>sum_Vintage_per_Previously_Insured</th>\n",
              "      <th>max_Vintage_per_Previously_Insured</th>\n",
              "      <th>min_Vintage_per_Previously_Insured</th>\n",
              "      <th>mean_Age_per_Driving_License</th>\n",
              "      <th>sum_Age_per_Driving_License</th>\n",
              "      <th>max_Age_per_Driving_License</th>\n",
              "      <th>min_Age_per_Driving_License</th>\n",
              "      <th>mean_Annual_Premium_per_Driving_License</th>\n",
              "      <th>sum_Annual_Premium_per_Driving_License</th>\n",
              "      <th>max_Annual_Premium_per_Driving_License</th>\n",
              "      <th>min_Annual_Premium_per_Driving_License</th>\n",
              "      <th>mean_Vintage_per_Driving_License</th>\n",
              "      <th>sum_Vintage_per_Driving_License</th>\n",
              "      <th>max_Vintage_per_Driving_License</th>\n",
              "      <th>min_Vintage_per_Driving_License</th>\n",
              "      <th>Premium_by_age</th>\n",
              "      <th>mean_Age_per_insured_damage</th>\n",
              "      <th>sum_Age_per_insured_damage</th>\n",
              "      <th>max_Age_per_insured_damage</th>\n",
              "      <th>min_Age_per_insured_damage</th>\n",
              "      <th>mean_Annual_Premium_per_insured_damage</th>\n",
              "      <th>sum_Annual_Premium_per_insured_damage</th>\n",
              "      <th>max_Annual_Premium_per_insured_damage</th>\n",
              "      <th>min_Annual_Premium_per_insured_damage</th>\n",
              "      <th>mean_Vintage_per_insured_damage</th>\n",
              "      <th>sum_Vintage_per_insured_damage</th>\n",
              "      <th>max_Vintage_per_insured_damage</th>\n",
              "      <th>min_Vintage_per_insured_damage</th>\n",
              "    </tr>\n",
              "  </thead>\n",
              "  <tbody>\n",
              "    <tr>\n",
              "      <th>0</th>\n",
              "      <td>1</td>\n",
              "      <td>44</td>\n",
              "      <td>1</td>\n",
              "      <td>28.0</td>\n",
              "      <td>0</td>\n",
              "      <td>3</td>\n",
              "      <td>1</td>\n",
              "      <td>40454.0</td>\n",
              "      <td>26.0</td>\n",
              "      <td>217</td>\n",
              "      <td>1.0</td>\n",
              "      <td>1</td>\n",
              "      <td>0</td>\n",
              "      <td>1</td>\n",
              "      <td>46.223536</td>\n",
              "      <td>6560830</td>\n",
              "      <td>85</td>\n",
              "      <td>20</td>\n",
              "      <td>38649.878763</td>\n",
              "      <td>5.485848e+09</td>\n",
              "      <td>540165.0</td>\n",
              "      <td>2630.0</td>\n",
              "      <td>154.266618</td>\n",
              "      <td>21896141</td>\n",
              "      <td>299</td>\n",
              "      <td>10</td>\n",
              "      <td>50.630664</td>\n",
              "      <td>5396925</td>\n",
              "      <td>85</td>\n",
              "      <td>20</td>\n",
              "      <td>33639.830863</td>\n",
              "      <td>3.585804e+09</td>\n",
              "      <td>540165.0</td>\n",
              "      <td>2630.0</td>\n",
              "      <td>154.405070</td>\n",
              "      <td>16458654</td>\n",
              "      <td>299</td>\n",
              "      <td>10</td>\n",
              "      <td>55.111085</td>\n",
              "      <td>1175299</td>\n",
              "      <td>...</td>\n",
              "      <td>39526426</td>\n",
              "      <td>299</td>\n",
              "      <td>10</td>\n",
              "      <td>42.454976</td>\n",
              "      <td>11678345</td>\n",
              "      <td>85</td>\n",
              "      <td>20</td>\n",
              "      <td>30479.076437</td>\n",
              "      <td>8.384062e+09</td>\n",
              "      <td>540165.0</td>\n",
              "      <td>2630.0</td>\n",
              "      <td>154.211978</td>\n",
              "      <td>42420014</td>\n",
              "      <td>299</td>\n",
              "      <td>10</td>\n",
              "      <td>38.752254</td>\n",
              "      <td>19651152</td>\n",
              "      <td>85</td>\n",
              "      <td>20</td>\n",
              "      <td>30545.029002</td>\n",
              "      <td>1.548929e+10</td>\n",
              "      <td>540165.0</td>\n",
              "      <td>2630.0</td>\n",
              "      <td>154.336886</td>\n",
              "      <td>78263772</td>\n",
              "      <td>299</td>\n",
              "      <td>10</td>\n",
              "      <td>919.409091</td>\n",
              "      <td>43.099342</td>\n",
              "      <td>10474347</td>\n",
              "      <td>85</td>\n",
              "      <td>20</td>\n",
              "      <td>30886.442472</td>\n",
              "      <td>7.506270e+09</td>\n",
              "      <td>540165.0</td>\n",
              "      <td>2630.0</td>\n",
              "      <td>154.187394</td>\n",
              "      <td>37471854</td>\n",
              "      <td>299</td>\n",
              "      <td>10</td>\n",
              "    </tr>\n",
              "    <tr>\n",
              "      <th>1</th>\n",
              "      <td>2</td>\n",
              "      <td>76</td>\n",
              "      <td>1</td>\n",
              "      <td>3.0</td>\n",
              "      <td>0</td>\n",
              "      <td>2</td>\n",
              "      <td>0</td>\n",
              "      <td>33536.0</td>\n",
              "      <td>26.0</td>\n",
              "      <td>183</td>\n",
              "      <td>0.0</td>\n",
              "      <td>1</td>\n",
              "      <td>0</td>\n",
              "      <td>1</td>\n",
              "      <td>36.980970</td>\n",
              "      <td>456678</td>\n",
              "      <td>82</td>\n",
              "      <td>20</td>\n",
              "      <td>24465.445218</td>\n",
              "      <td>3.021238e+08</td>\n",
              "      <td>424578.0</td>\n",
              "      <td>2630.0</td>\n",
              "      <td>154.864442</td>\n",
              "      <td>1912421</td>\n",
              "      <td>299</td>\n",
              "      <td>10</td>\n",
              "      <td>50.630664</td>\n",
              "      <td>5396925</td>\n",
              "      <td>85</td>\n",
              "      <td>20</td>\n",
              "      <td>33639.830863</td>\n",
              "      <td>3.585804e+09</td>\n",
              "      <td>540165.0</td>\n",
              "      <td>2630.0</td>\n",
              "      <td>154.405070</td>\n",
              "      <td>16458654</td>\n",
              "      <td>299</td>\n",
              "      <td>10</td>\n",
              "      <td>49.017962</td>\n",
              "      <td>13088531</td>\n",
              "      <td>...</td>\n",
              "      <td>38900890</td>\n",
              "      <td>299</td>\n",
              "      <td>10</td>\n",
              "      <td>42.454976</td>\n",
              "      <td>11678345</td>\n",
              "      <td>85</td>\n",
              "      <td>20</td>\n",
              "      <td>30479.076437</td>\n",
              "      <td>8.384062e+09</td>\n",
              "      <td>540165.0</td>\n",
              "      <td>2630.0</td>\n",
              "      <td>154.211978</td>\n",
              "      <td>42420014</td>\n",
              "      <td>299</td>\n",
              "      <td>10</td>\n",
              "      <td>38.752254</td>\n",
              "      <td>19651152</td>\n",
              "      <td>85</td>\n",
              "      <td>20</td>\n",
              "      <td>30545.029002</td>\n",
              "      <td>1.548929e+10</td>\n",
              "      <td>540165.0</td>\n",
              "      <td>2630.0</td>\n",
              "      <td>154.336886</td>\n",
              "      <td>78263772</td>\n",
              "      <td>299</td>\n",
              "      <td>10</td>\n",
              "      <td>441.263158</td>\n",
              "      <td>37.568585</td>\n",
              "      <td>1203998</td>\n",
              "      <td>84</td>\n",
              "      <td>20</td>\n",
              "      <td>27389.917904</td>\n",
              "      <td>8.777921e+08</td>\n",
              "      <td>337573.0</td>\n",
              "      <td>2630.0</td>\n",
              "      <td>154.398402</td>\n",
              "      <td>4948160</td>\n",
              "      <td>299</td>\n",
              "      <td>10</td>\n",
              "    </tr>\n",
              "    <tr>\n",
              "      <th>2</th>\n",
              "      <td>3</td>\n",
              "      <td>47</td>\n",
              "      <td>1</td>\n",
              "      <td>28.0</td>\n",
              "      <td>0</td>\n",
              "      <td>3</td>\n",
              "      <td>1</td>\n",
              "      <td>38294.0</td>\n",
              "      <td>26.0</td>\n",
              "      <td>27</td>\n",
              "      <td>1.0</td>\n",
              "      <td>1</td>\n",
              "      <td>0</td>\n",
              "      <td>1</td>\n",
              "      <td>46.223536</td>\n",
              "      <td>6560830</td>\n",
              "      <td>85</td>\n",
              "      <td>20</td>\n",
              "      <td>38649.878763</td>\n",
              "      <td>5.485848e+09</td>\n",
              "      <td>540165.0</td>\n",
              "      <td>2630.0</td>\n",
              "      <td>154.266618</td>\n",
              "      <td>21896141</td>\n",
              "      <td>299</td>\n",
              "      <td>10</td>\n",
              "      <td>50.630664</td>\n",
              "      <td>5396925</td>\n",
              "      <td>85</td>\n",
              "      <td>20</td>\n",
              "      <td>33639.830863</td>\n",
              "      <td>3.585804e+09</td>\n",
              "      <td>540165.0</td>\n",
              "      <td>2630.0</td>\n",
              "      <td>154.405070</td>\n",
              "      <td>16458654</td>\n",
              "      <td>299</td>\n",
              "      <td>10</td>\n",
              "      <td>55.111085</td>\n",
              "      <td>1175299</td>\n",
              "      <td>...</td>\n",
              "      <td>39526426</td>\n",
              "      <td>299</td>\n",
              "      <td>10</td>\n",
              "      <td>42.454976</td>\n",
              "      <td>11678345</td>\n",
              "      <td>85</td>\n",
              "      <td>20</td>\n",
              "      <td>30479.076437</td>\n",
              "      <td>8.384062e+09</td>\n",
              "      <td>540165.0</td>\n",
              "      <td>2630.0</td>\n",
              "      <td>154.211978</td>\n",
              "      <td>42420014</td>\n",
              "      <td>299</td>\n",
              "      <td>10</td>\n",
              "      <td>38.752254</td>\n",
              "      <td>19651152</td>\n",
              "      <td>85</td>\n",
              "      <td>20</td>\n",
              "      <td>30545.029002</td>\n",
              "      <td>1.548929e+10</td>\n",
              "      <td>540165.0</td>\n",
              "      <td>2630.0</td>\n",
              "      <td>154.336886</td>\n",
              "      <td>78263772</td>\n",
              "      <td>299</td>\n",
              "      <td>10</td>\n",
              "      <td>814.765957</td>\n",
              "      <td>43.099342</td>\n",
              "      <td>10474347</td>\n",
              "      <td>85</td>\n",
              "      <td>20</td>\n",
              "      <td>30886.442472</td>\n",
              "      <td>7.506270e+09</td>\n",
              "      <td>540165.0</td>\n",
              "      <td>2630.0</td>\n",
              "      <td>154.187394</td>\n",
              "      <td>37471854</td>\n",
              "      <td>299</td>\n",
              "      <td>10</td>\n",
              "    </tr>\n",
              "    <tr>\n",
              "      <th>3</th>\n",
              "      <td>4</td>\n",
              "      <td>21</td>\n",
              "      <td>1</td>\n",
              "      <td>11.0</td>\n",
              "      <td>1</td>\n",
              "      <td>1</td>\n",
              "      <td>0</td>\n",
              "      <td>28619.0</td>\n",
              "      <td>152.0</td>\n",
              "      <td>203</td>\n",
              "      <td>0.0</td>\n",
              "      <td>1</td>\n",
              "      <td>0</td>\n",
              "      <td>1</td>\n",
              "      <td>34.235480</td>\n",
              "      <td>422055</td>\n",
              "      <td>82</td>\n",
              "      <td>20</td>\n",
              "      <td>27655.183160</td>\n",
              "      <td>3.409331e+08</td>\n",
              "      <td>193637.0</td>\n",
              "      <td>2630.0</td>\n",
              "      <td>154.520360</td>\n",
              "      <td>1904927</td>\n",
              "      <td>299</td>\n",
              "      <td>10</td>\n",
              "      <td>26.211884</td>\n",
              "      <td>4705636</td>\n",
              "      <td>80</td>\n",
              "      <td>20</td>\n",
              "      <td>30898.685511</td>\n",
              "      <td>5.547025e+09</td>\n",
              "      <td>495106.0</td>\n",
              "      <td>2630.0</td>\n",
              "      <td>154.624338</td>\n",
              "      <td>27758625</td>\n",
              "      <td>299</td>\n",
              "      <td>10</td>\n",
              "      <td>24.824322</td>\n",
              "      <td>5456510</td>\n",
              "      <td>...</td>\n",
              "      <td>38900890</td>\n",
              "      <td>299</td>\n",
              "      <td>10</td>\n",
              "      <td>34.504634</td>\n",
              "      <td>8041995</td>\n",
              "      <td>85</td>\n",
              "      <td>20</td>\n",
              "      <td>30643.414704</td>\n",
              "      <td>7.142061e+09</td>\n",
              "      <td>540165.0</td>\n",
              "      <td>2630.0</td>\n",
              "      <td>154.491363</td>\n",
              "      <td>36007302</td>\n",
              "      <td>299</td>\n",
              "      <td>10</td>\n",
              "      <td>38.752254</td>\n",
              "      <td>19651152</td>\n",
              "      <td>85</td>\n",
              "      <td>20</td>\n",
              "      <td>30545.029002</td>\n",
              "      <td>1.548929e+10</td>\n",
              "      <td>540165.0</td>\n",
              "      <td>2630.0</td>\n",
              "      <td>154.336886</td>\n",
              "      <td>78263772</td>\n",
              "      <td>299</td>\n",
              "      <td>10</td>\n",
              "      <td>1362.809524</td>\n",
              "      <td>34.182770</td>\n",
              "      <td>7515082</td>\n",
              "      <td>85</td>\n",
              "      <td>20</td>\n",
              "      <td>30827.433491</td>\n",
              "      <td>6.777411e+09</td>\n",
              "      <td>540165.0</td>\n",
              "      <td>2630.0</td>\n",
              "      <td>154.435888</td>\n",
              "      <td>33952730</td>\n",
              "      <td>299</td>\n",
              "      <td>10</td>\n",
              "    </tr>\n",
              "    <tr>\n",
              "      <th>4</th>\n",
              "      <td>5</td>\n",
              "      <td>29</td>\n",
              "      <td>1</td>\n",
              "      <td>41.0</td>\n",
              "      <td>1</td>\n",
              "      <td>1</td>\n",
              "      <td>0</td>\n",
              "      <td>27496.0</td>\n",
              "      <td>152.0</td>\n",
              "      <td>39</td>\n",
              "      <td>0.0</td>\n",
              "      <td>1</td>\n",
              "      <td>1</td>\n",
              "      <td>0</td>\n",
              "      <td>36.404016</td>\n",
              "      <td>888258</td>\n",
              "      <td>83</td>\n",
              "      <td>20</td>\n",
              "      <td>30948.979918</td>\n",
              "      <td>7.551551e+08</td>\n",
              "      <td>339396.0</td>\n",
              "      <td>2630.0</td>\n",
              "      <td>154.851189</td>\n",
              "      <td>3778369</td>\n",
              "      <td>299</td>\n",
              "      <td>10</td>\n",
              "      <td>26.211884</td>\n",
              "      <td>4705636</td>\n",
              "      <td>80</td>\n",
              "      <td>20</td>\n",
              "      <td>30898.685511</td>\n",
              "      <td>5.547025e+09</td>\n",
              "      <td>495106.0</td>\n",
              "      <td>2630.0</td>\n",
              "      <td>154.624338</td>\n",
              "      <td>27758625</td>\n",
              "      <td>299</td>\n",
              "      <td>10</td>\n",
              "      <td>24.824322</td>\n",
              "      <td>5456510</td>\n",
              "      <td>...</td>\n",
              "      <td>38900890</td>\n",
              "      <td>299</td>\n",
              "      <td>10</td>\n",
              "      <td>34.504634</td>\n",
              "      <td>8041995</td>\n",
              "      <td>85</td>\n",
              "      <td>20</td>\n",
              "      <td>30643.414704</td>\n",
              "      <td>7.142061e+09</td>\n",
              "      <td>540165.0</td>\n",
              "      <td>2630.0</td>\n",
              "      <td>154.491363</td>\n",
              "      <td>36007302</td>\n",
              "      <td>299</td>\n",
              "      <td>10</td>\n",
              "      <td>38.752254</td>\n",
              "      <td>19651152</td>\n",
              "      <td>85</td>\n",
              "      <td>20</td>\n",
              "      <td>30545.029002</td>\n",
              "      <td>1.548929e+10</td>\n",
              "      <td>540165.0</td>\n",
              "      <td>2630.0</td>\n",
              "      <td>154.336886</td>\n",
              "      <td>78263772</td>\n",
              "      <td>299</td>\n",
              "      <td>10</td>\n",
              "      <td>948.137931</td>\n",
              "      <td>34.182770</td>\n",
              "      <td>7515082</td>\n",
              "      <td>85</td>\n",
              "      <td>20</td>\n",
              "      <td>30827.433491</td>\n",
              "      <td>6.777411e+09</td>\n",
              "      <td>540165.0</td>\n",
              "      <td>2630.0</td>\n",
              "      <td>154.435888</td>\n",
              "      <td>33952730</td>\n",
              "      <td>299</td>\n",
              "      <td>10</td>\n",
              "    </tr>\n",
              "  </tbody>\n",
              "</table>\n",
              "<p>5 rows × 99 columns</p>\n",
              "</div>"
            ],
            "text/plain": [
              "   id  Age  ...  max_Vintage_per_insured_damage  min_Vintage_per_insured_damage\n",
              "0   1   44  ...                             299                              10\n",
              "1   2   76  ...                             299                              10\n",
              "2   3   47  ...                             299                              10\n",
              "3   4   21  ...                             299                              10\n",
              "4   5   29  ...                             299                              10\n",
              "\n",
              "[5 rows x 99 columns]"
            ]
          },
          "metadata": {
            "tags": []
          },
          "execution_count": 49
        }
      ]
    },
    {
      "cell_type": "code",
      "metadata": {
        "colab_type": "code",
        "id": "yGa_qNQQqI4m",
        "colab": {}
      },
      "source": [
        "combined['mean_Age_per_insured_damage_license']=combined.groupby(['Previously_Insured','Vehicle_Damage','Driving_License'])['Age'].transform('mean')\n",
        "combined['sum_Age_per_insured_damage_license']=combined.groupby(['Previously_Insured','Vehicle_Damage','Driving_License'])['Age'].transform('sum')\n",
        "combined['max_Age_per_insured_damage_license']=combined.groupby(['Previously_Insured','Vehicle_Damage','Driving_License'])['Age'].transform('max')\n",
        "combined['min_Age_per_insured_damage_license']=combined.groupby(['Previously_Insured','Vehicle_Damage','Driving_License'])['Age'].transform('min')"
      ],
      "execution_count": null,
      "outputs": []
    },
    {
      "cell_type": "code",
      "metadata": {
        "colab_type": "code",
        "id": "emuCXQ-RqI40",
        "colab": {}
      },
      "source": [
        "combined['mean_Annual_Premium_per_insured_damage_license']=combined.groupby(['Previously_Insured','Vehicle_Damage','Driving_License'])['Annual_Premium'].transform('mean')\n",
        "combined['sum_Annual_Premium_per_insured_damage_license']=combined.groupby(['Previously_Insured','Vehicle_Damage','Driving_License'])['Annual_Premium'].transform('sum')\n",
        "combined['max_Annual_Premium_per_insured_damage_license']=combined.groupby(['Previously_Insured','Vehicle_Damage','Driving_License'])['Annual_Premium'].transform('max')\n",
        "combined['min_Annual_Premium_per_insured_damage_license']=combined.groupby(['Previously_Insured','Vehicle_Damage','Driving_License'])['Annual_Premium'].transform('min')"
      ],
      "execution_count": null,
      "outputs": []
    },
    {
      "cell_type": "code",
      "metadata": {
        "colab_type": "code",
        "id": "rMBstkFnqI48",
        "colab": {}
      },
      "source": [
        "combined['mean_Vintage_per_insured_damage_license']=combined.groupby(['Previously_Insured','Vehicle_Damage','Driving_License'])['Vintage'].transform('mean')\n",
        "combined['sum_Vintage_per_insured_damage_license']=combined.groupby(['Previously_Insured','Vehicle_Damage','Driving_License'])['Vintage'].transform('sum')\n",
        "combined['max_Vintage_per_insured_damage_license']=combined.groupby(['Previously_Insured','Vehicle_Damage','Driving_License'])['Vintage'].transform('max')\n",
        "combined['min_Vintage_per_insured_damage_license']=combined.groupby(['Previously_Insured','Vehicle_Damage','Driving_License'])['Vintage'].transform('min')"
      ],
      "execution_count": null,
      "outputs": []
    },
    {
      "cell_type": "code",
      "metadata": {
        "id": "VXh_gWNxqvPu",
        "colab_type": "code",
        "colab": {
          "base_uri": "https://localhost:8080/",
          "height": 244
        },
        "outputId": "880a9a59-45e0-46f8-ee1a-e53bc32802a7"
      },
      "source": [
        "combined.head()"
      ],
      "execution_count": null,
      "outputs": [
        {
          "output_type": "execute_result",
          "data": {
            "text/html": [
              "<div>\n",
              "<style scoped>\n",
              "    .dataframe tbody tr th:only-of-type {\n",
              "        vertical-align: middle;\n",
              "    }\n",
              "\n",
              "    .dataframe tbody tr th {\n",
              "        vertical-align: top;\n",
              "    }\n",
              "\n",
              "    .dataframe thead th {\n",
              "        text-align: right;\n",
              "    }\n",
              "</style>\n",
              "<table border=\"1\" class=\"dataframe\">\n",
              "  <thead>\n",
              "    <tr style=\"text-align: right;\">\n",
              "      <th></th>\n",
              "      <th>id</th>\n",
              "      <th>Age</th>\n",
              "      <th>Driving_License</th>\n",
              "      <th>Region_Code</th>\n",
              "      <th>Previously_Insured</th>\n",
              "      <th>Vehicle_Age</th>\n",
              "      <th>Vehicle_Damage</th>\n",
              "      <th>Annual_Premium</th>\n",
              "      <th>Policy_Sales_Channel</th>\n",
              "      <th>Vintage</th>\n",
              "      <th>Response</th>\n",
              "      <th>is_train</th>\n",
              "      <th>Gender_Female</th>\n",
              "      <th>Gender_Male</th>\n",
              "      <th>mean_Age_per_region_code</th>\n",
              "      <th>sum_Age_per_region_code</th>\n",
              "      <th>max_Age_per_region_code</th>\n",
              "      <th>min_Age_per_region_code</th>\n",
              "      <th>mean_Annual_Premium_per_region_code</th>\n",
              "      <th>sum_Annual_Premium_per_region_code</th>\n",
              "      <th>max_Annual_Premium_per_region_code</th>\n",
              "      <th>min_Annual_Premium_per_region_code</th>\n",
              "      <th>mean_Vintage_per_region_code</th>\n",
              "      <th>sum_Vintage_per_region_code</th>\n",
              "      <th>max_Vintage_per_region_code</th>\n",
              "      <th>min_Vintage_per_region_code</th>\n",
              "      <th>mean_Age_per_channel</th>\n",
              "      <th>sum_Age_per_channel</th>\n",
              "      <th>max_Age_per_channel</th>\n",
              "      <th>min_Age_per_channel</th>\n",
              "      <th>mean_Annual_Premium_per_channel</th>\n",
              "      <th>sum_Annual_Premium_per_channel</th>\n",
              "      <th>max_Annual_Premium_per_channel</th>\n",
              "      <th>min_Annual_Premium_per_channel</th>\n",
              "      <th>mean_Vintage_per_channel</th>\n",
              "      <th>sum_Vintage_per_channel</th>\n",
              "      <th>max_Vintage_per_channel</th>\n",
              "      <th>min_Vintage_per_channel</th>\n",
              "      <th>mean_Age_per_vehicle_age</th>\n",
              "      <th>sum_Age_per_vehicle_age</th>\n",
              "      <th>...</th>\n",
              "      <th>sum_Vintage_per_Previously_Insured</th>\n",
              "      <th>max_Vintage_per_Previously_Insured</th>\n",
              "      <th>min_Vintage_per_Previously_Insured</th>\n",
              "      <th>mean_Age_per_Driving_License</th>\n",
              "      <th>sum_Age_per_Driving_License</th>\n",
              "      <th>max_Age_per_Driving_License</th>\n",
              "      <th>min_Age_per_Driving_License</th>\n",
              "      <th>mean_Annual_Premium_per_Driving_License</th>\n",
              "      <th>sum_Annual_Premium_per_Driving_License</th>\n",
              "      <th>max_Annual_Premium_per_Driving_License</th>\n",
              "      <th>min_Annual_Premium_per_Driving_License</th>\n",
              "      <th>mean_Vintage_per_Driving_License</th>\n",
              "      <th>sum_Vintage_per_Driving_License</th>\n",
              "      <th>max_Vintage_per_Driving_License</th>\n",
              "      <th>min_Vintage_per_Driving_License</th>\n",
              "      <th>Premium_by_age</th>\n",
              "      <th>mean_Age_per_insured_damage</th>\n",
              "      <th>sum_Age_per_insured_damage</th>\n",
              "      <th>max_Age_per_insured_damage</th>\n",
              "      <th>min_Age_per_insured_damage</th>\n",
              "      <th>mean_Annual_Premium_per_insured_damage</th>\n",
              "      <th>sum_Annual_Premium_per_insured_damage</th>\n",
              "      <th>max_Annual_Premium_per_insured_damage</th>\n",
              "      <th>min_Annual_Premium_per_insured_damage</th>\n",
              "      <th>mean_Vintage_per_insured_damage</th>\n",
              "      <th>sum_Vintage_per_insured_damage</th>\n",
              "      <th>max_Vintage_per_insured_damage</th>\n",
              "      <th>min_Vintage_per_insured_damage</th>\n",
              "      <th>mean_Age_per_insured_damage_license</th>\n",
              "      <th>sum_Age_per_insured_damage_license</th>\n",
              "      <th>max_Age_per_insured_damage_license</th>\n",
              "      <th>min_Age_per_insured_damage_license</th>\n",
              "      <th>mean_Annual_Premium_per_insured_damage_license</th>\n",
              "      <th>sum_Annual_Premium_per_insured_damage_license</th>\n",
              "      <th>max_Annual_Premium_per_insured_damage_license</th>\n",
              "      <th>min_Annual_Premium_per_insured_damage_license</th>\n",
              "      <th>mean_Vintage_per_insured_damage_license</th>\n",
              "      <th>sum_Vintage_per_insured_damage_license</th>\n",
              "      <th>max_Vintage_per_insured_damage_license</th>\n",
              "      <th>min_Vintage_per_insured_damage_license</th>\n",
              "    </tr>\n",
              "  </thead>\n",
              "  <tbody>\n",
              "    <tr>\n",
              "      <th>0</th>\n",
              "      <td>1</td>\n",
              "      <td>44</td>\n",
              "      <td>1</td>\n",
              "      <td>28.0</td>\n",
              "      <td>0</td>\n",
              "      <td>3</td>\n",
              "      <td>1</td>\n",
              "      <td>40454.0</td>\n",
              "      <td>26.0</td>\n",
              "      <td>217</td>\n",
              "      <td>1.0</td>\n",
              "      <td>1</td>\n",
              "      <td>0</td>\n",
              "      <td>1</td>\n",
              "      <td>46.223536</td>\n",
              "      <td>6560830</td>\n",
              "      <td>85</td>\n",
              "      <td>20</td>\n",
              "      <td>38649.878763</td>\n",
              "      <td>5.485848e+09</td>\n",
              "      <td>540165.0</td>\n",
              "      <td>2630.0</td>\n",
              "      <td>154.266618</td>\n",
              "      <td>21896141</td>\n",
              "      <td>299</td>\n",
              "      <td>10</td>\n",
              "      <td>50.630664</td>\n",
              "      <td>5396925</td>\n",
              "      <td>85</td>\n",
              "      <td>20</td>\n",
              "      <td>33639.830863</td>\n",
              "      <td>3.585804e+09</td>\n",
              "      <td>540165.0</td>\n",
              "      <td>2630.0</td>\n",
              "      <td>154.405070</td>\n",
              "      <td>16458654</td>\n",
              "      <td>299</td>\n",
              "      <td>10</td>\n",
              "      <td>55.111085</td>\n",
              "      <td>1175299</td>\n",
              "      <td>...</td>\n",
              "      <td>42420014</td>\n",
              "      <td>299</td>\n",
              "      <td>10</td>\n",
              "      <td>38.752254</td>\n",
              "      <td>19651152</td>\n",
              "      <td>85</td>\n",
              "      <td>20</td>\n",
              "      <td>30545.029002</td>\n",
              "      <td>1.548929e+10</td>\n",
              "      <td>540165.0</td>\n",
              "      <td>2630.0</td>\n",
              "      <td>154.336886</td>\n",
              "      <td>78263772</td>\n",
              "      <td>299</td>\n",
              "      <td>10</td>\n",
              "      <td>919.409091</td>\n",
              "      <td>43.099342</td>\n",
              "      <td>10474347</td>\n",
              "      <td>85</td>\n",
              "      <td>20</td>\n",
              "      <td>30886.442472</td>\n",
              "      <td>7.506270e+09</td>\n",
              "      <td>540165.0</td>\n",
              "      <td>2630.0</td>\n",
              "      <td>154.187394</td>\n",
              "      <td>37471854</td>\n",
              "      <td>299</td>\n",
              "      <td>10</td>\n",
              "      <td>43.038895</td>\n",
              "      <td>10431380</td>\n",
              "      <td>85</td>\n",
              "      <td>20</td>\n",
              "      <td>30874.077567</td>\n",
              "      <td>7.482981e+09</td>\n",
              "      <td>540165.0</td>\n",
              "      <td>2630.0</td>\n",
              "      <td>154.181598</td>\n",
              "      <td>37369148</td>\n",
              "      <td>299</td>\n",
              "      <td>10</td>\n",
              "    </tr>\n",
              "    <tr>\n",
              "      <th>1</th>\n",
              "      <td>2</td>\n",
              "      <td>76</td>\n",
              "      <td>1</td>\n",
              "      <td>3.0</td>\n",
              "      <td>0</td>\n",
              "      <td>2</td>\n",
              "      <td>0</td>\n",
              "      <td>33536.0</td>\n",
              "      <td>26.0</td>\n",
              "      <td>183</td>\n",
              "      <td>0.0</td>\n",
              "      <td>1</td>\n",
              "      <td>0</td>\n",
              "      <td>1</td>\n",
              "      <td>36.980970</td>\n",
              "      <td>456678</td>\n",
              "      <td>82</td>\n",
              "      <td>20</td>\n",
              "      <td>24465.445218</td>\n",
              "      <td>3.021238e+08</td>\n",
              "      <td>424578.0</td>\n",
              "      <td>2630.0</td>\n",
              "      <td>154.864442</td>\n",
              "      <td>1912421</td>\n",
              "      <td>299</td>\n",
              "      <td>10</td>\n",
              "      <td>50.630664</td>\n",
              "      <td>5396925</td>\n",
              "      <td>85</td>\n",
              "      <td>20</td>\n",
              "      <td>33639.830863</td>\n",
              "      <td>3.585804e+09</td>\n",
              "      <td>540165.0</td>\n",
              "      <td>2630.0</td>\n",
              "      <td>154.405070</td>\n",
              "      <td>16458654</td>\n",
              "      <td>299</td>\n",
              "      <td>10</td>\n",
              "      <td>49.017962</td>\n",
              "      <td>13088531</td>\n",
              "      <td>...</td>\n",
              "      <td>42420014</td>\n",
              "      <td>299</td>\n",
              "      <td>10</td>\n",
              "      <td>38.752254</td>\n",
              "      <td>19651152</td>\n",
              "      <td>85</td>\n",
              "      <td>20</td>\n",
              "      <td>30545.029002</td>\n",
              "      <td>1.548929e+10</td>\n",
              "      <td>540165.0</td>\n",
              "      <td>2630.0</td>\n",
              "      <td>154.336886</td>\n",
              "      <td>78263772</td>\n",
              "      <td>299</td>\n",
              "      <td>10</td>\n",
              "      <td>441.263158</td>\n",
              "      <td>37.568585</td>\n",
              "      <td>1203998</td>\n",
              "      <td>84</td>\n",
              "      <td>20</td>\n",
              "      <td>27389.917904</td>\n",
              "      <td>8.777921e+08</td>\n",
              "      <td>337573.0</td>\n",
              "      <td>2630.0</td>\n",
              "      <td>154.398402</td>\n",
              "      <td>4948160</td>\n",
              "      <td>299</td>\n",
              "      <td>10</td>\n",
              "      <td>37.495621</td>\n",
              "      <td>1198810</td>\n",
              "      <td>84</td>\n",
              "      <td>20</td>\n",
              "      <td>27368.564682</td>\n",
              "      <td>8.750278e+08</td>\n",
              "      <td>337573.0</td>\n",
              "      <td>2630.0</td>\n",
              "      <td>154.385744</td>\n",
              "      <td>4936021</td>\n",
              "      <td>299</td>\n",
              "      <td>10</td>\n",
              "    </tr>\n",
              "    <tr>\n",
              "      <th>2</th>\n",
              "      <td>3</td>\n",
              "      <td>47</td>\n",
              "      <td>1</td>\n",
              "      <td>28.0</td>\n",
              "      <td>0</td>\n",
              "      <td>3</td>\n",
              "      <td>1</td>\n",
              "      <td>38294.0</td>\n",
              "      <td>26.0</td>\n",
              "      <td>27</td>\n",
              "      <td>1.0</td>\n",
              "      <td>1</td>\n",
              "      <td>0</td>\n",
              "      <td>1</td>\n",
              "      <td>46.223536</td>\n",
              "      <td>6560830</td>\n",
              "      <td>85</td>\n",
              "      <td>20</td>\n",
              "      <td>38649.878763</td>\n",
              "      <td>5.485848e+09</td>\n",
              "      <td>540165.0</td>\n",
              "      <td>2630.0</td>\n",
              "      <td>154.266618</td>\n",
              "      <td>21896141</td>\n",
              "      <td>299</td>\n",
              "      <td>10</td>\n",
              "      <td>50.630664</td>\n",
              "      <td>5396925</td>\n",
              "      <td>85</td>\n",
              "      <td>20</td>\n",
              "      <td>33639.830863</td>\n",
              "      <td>3.585804e+09</td>\n",
              "      <td>540165.0</td>\n",
              "      <td>2630.0</td>\n",
              "      <td>154.405070</td>\n",
              "      <td>16458654</td>\n",
              "      <td>299</td>\n",
              "      <td>10</td>\n",
              "      <td>55.111085</td>\n",
              "      <td>1175299</td>\n",
              "      <td>...</td>\n",
              "      <td>42420014</td>\n",
              "      <td>299</td>\n",
              "      <td>10</td>\n",
              "      <td>38.752254</td>\n",
              "      <td>19651152</td>\n",
              "      <td>85</td>\n",
              "      <td>20</td>\n",
              "      <td>30545.029002</td>\n",
              "      <td>1.548929e+10</td>\n",
              "      <td>540165.0</td>\n",
              "      <td>2630.0</td>\n",
              "      <td>154.336886</td>\n",
              "      <td>78263772</td>\n",
              "      <td>299</td>\n",
              "      <td>10</td>\n",
              "      <td>814.765957</td>\n",
              "      <td>43.099342</td>\n",
              "      <td>10474347</td>\n",
              "      <td>85</td>\n",
              "      <td>20</td>\n",
              "      <td>30886.442472</td>\n",
              "      <td>7.506270e+09</td>\n",
              "      <td>540165.0</td>\n",
              "      <td>2630.0</td>\n",
              "      <td>154.187394</td>\n",
              "      <td>37471854</td>\n",
              "      <td>299</td>\n",
              "      <td>10</td>\n",
              "      <td>43.038895</td>\n",
              "      <td>10431380</td>\n",
              "      <td>85</td>\n",
              "      <td>20</td>\n",
              "      <td>30874.077567</td>\n",
              "      <td>7.482981e+09</td>\n",
              "      <td>540165.0</td>\n",
              "      <td>2630.0</td>\n",
              "      <td>154.181598</td>\n",
              "      <td>37369148</td>\n",
              "      <td>299</td>\n",
              "      <td>10</td>\n",
              "    </tr>\n",
              "    <tr>\n",
              "      <th>3</th>\n",
              "      <td>4</td>\n",
              "      <td>21</td>\n",
              "      <td>1</td>\n",
              "      <td>11.0</td>\n",
              "      <td>1</td>\n",
              "      <td>1</td>\n",
              "      <td>0</td>\n",
              "      <td>28619.0</td>\n",
              "      <td>152.0</td>\n",
              "      <td>203</td>\n",
              "      <td>0.0</td>\n",
              "      <td>1</td>\n",
              "      <td>0</td>\n",
              "      <td>1</td>\n",
              "      <td>34.235480</td>\n",
              "      <td>422055</td>\n",
              "      <td>82</td>\n",
              "      <td>20</td>\n",
              "      <td>27655.183160</td>\n",
              "      <td>3.409331e+08</td>\n",
              "      <td>193637.0</td>\n",
              "      <td>2630.0</td>\n",
              "      <td>154.520360</td>\n",
              "      <td>1904927</td>\n",
              "      <td>299</td>\n",
              "      <td>10</td>\n",
              "      <td>26.211884</td>\n",
              "      <td>4705636</td>\n",
              "      <td>80</td>\n",
              "      <td>20</td>\n",
              "      <td>30898.685511</td>\n",
              "      <td>5.547025e+09</td>\n",
              "      <td>495106.0</td>\n",
              "      <td>2630.0</td>\n",
              "      <td>154.624338</td>\n",
              "      <td>27758625</td>\n",
              "      <td>299</td>\n",
              "      <td>10</td>\n",
              "      <td>24.824322</td>\n",
              "      <td>5456510</td>\n",
              "      <td>...</td>\n",
              "      <td>36007302</td>\n",
              "      <td>299</td>\n",
              "      <td>10</td>\n",
              "      <td>38.752254</td>\n",
              "      <td>19651152</td>\n",
              "      <td>85</td>\n",
              "      <td>20</td>\n",
              "      <td>30545.029002</td>\n",
              "      <td>1.548929e+10</td>\n",
              "      <td>540165.0</td>\n",
              "      <td>2630.0</td>\n",
              "      <td>154.336886</td>\n",
              "      <td>78263772</td>\n",
              "      <td>299</td>\n",
              "      <td>10</td>\n",
              "      <td>1362.809524</td>\n",
              "      <td>34.182770</td>\n",
              "      <td>7515082</td>\n",
              "      <td>85</td>\n",
              "      <td>20</td>\n",
              "      <td>30827.433491</td>\n",
              "      <td>6.777411e+09</td>\n",
              "      <td>540165.0</td>\n",
              "      <td>2630.0</td>\n",
              "      <td>154.435888</td>\n",
              "      <td>33952730</td>\n",
              "      <td>299</td>\n",
              "      <td>10</td>\n",
              "      <td>34.144448</td>\n",
              "      <td>7497711</td>\n",
              "      <td>85</td>\n",
              "      <td>20</td>\n",
              "      <td>30824.079704</td>\n",
              "      <td>6.768598e+09</td>\n",
              "      <td>540165.0</td>\n",
              "      <td>2630.0</td>\n",
              "      <td>154.438708</td>\n",
              "      <td>33912887</td>\n",
              "      <td>299</td>\n",
              "      <td>10</td>\n",
              "    </tr>\n",
              "    <tr>\n",
              "      <th>4</th>\n",
              "      <td>5</td>\n",
              "      <td>29</td>\n",
              "      <td>1</td>\n",
              "      <td>41.0</td>\n",
              "      <td>1</td>\n",
              "      <td>1</td>\n",
              "      <td>0</td>\n",
              "      <td>27496.0</td>\n",
              "      <td>152.0</td>\n",
              "      <td>39</td>\n",
              "      <td>0.0</td>\n",
              "      <td>1</td>\n",
              "      <td>1</td>\n",
              "      <td>0</td>\n",
              "      <td>36.404016</td>\n",
              "      <td>888258</td>\n",
              "      <td>83</td>\n",
              "      <td>20</td>\n",
              "      <td>30948.979918</td>\n",
              "      <td>7.551551e+08</td>\n",
              "      <td>339396.0</td>\n",
              "      <td>2630.0</td>\n",
              "      <td>154.851189</td>\n",
              "      <td>3778369</td>\n",
              "      <td>299</td>\n",
              "      <td>10</td>\n",
              "      <td>26.211884</td>\n",
              "      <td>4705636</td>\n",
              "      <td>80</td>\n",
              "      <td>20</td>\n",
              "      <td>30898.685511</td>\n",
              "      <td>5.547025e+09</td>\n",
              "      <td>495106.0</td>\n",
              "      <td>2630.0</td>\n",
              "      <td>154.624338</td>\n",
              "      <td>27758625</td>\n",
              "      <td>299</td>\n",
              "      <td>10</td>\n",
              "      <td>24.824322</td>\n",
              "      <td>5456510</td>\n",
              "      <td>...</td>\n",
              "      <td>36007302</td>\n",
              "      <td>299</td>\n",
              "      <td>10</td>\n",
              "      <td>38.752254</td>\n",
              "      <td>19651152</td>\n",
              "      <td>85</td>\n",
              "      <td>20</td>\n",
              "      <td>30545.029002</td>\n",
              "      <td>1.548929e+10</td>\n",
              "      <td>540165.0</td>\n",
              "      <td>2630.0</td>\n",
              "      <td>154.336886</td>\n",
              "      <td>78263772</td>\n",
              "      <td>299</td>\n",
              "      <td>10</td>\n",
              "      <td>948.137931</td>\n",
              "      <td>34.182770</td>\n",
              "      <td>7515082</td>\n",
              "      <td>85</td>\n",
              "      <td>20</td>\n",
              "      <td>30827.433491</td>\n",
              "      <td>6.777411e+09</td>\n",
              "      <td>540165.0</td>\n",
              "      <td>2630.0</td>\n",
              "      <td>154.435888</td>\n",
              "      <td>33952730</td>\n",
              "      <td>299</td>\n",
              "      <td>10</td>\n",
              "      <td>34.144448</td>\n",
              "      <td>7497711</td>\n",
              "      <td>85</td>\n",
              "      <td>20</td>\n",
              "      <td>30824.079704</td>\n",
              "      <td>6.768598e+09</td>\n",
              "      <td>540165.0</td>\n",
              "      <td>2630.0</td>\n",
              "      <td>154.438708</td>\n",
              "      <td>33912887</td>\n",
              "      <td>299</td>\n",
              "      <td>10</td>\n",
              "    </tr>\n",
              "  </tbody>\n",
              "</table>\n",
              "<p>5 rows × 111 columns</p>\n",
              "</div>"
            ],
            "text/plain": [
              "   id  ...  min_Vintage_per_insured_damage_license\n",
              "0   1  ...                                      10\n",
              "1   2  ...                                      10\n",
              "2   3  ...                                      10\n",
              "3   4  ...                                      10\n",
              "4   5  ...                                      10\n",
              "\n",
              "[5 rows x 111 columns]"
            ]
          },
          "metadata": {
            "tags": []
          },
          "execution_count": 53
        }
      ]
    },
    {
      "cell_type": "code",
      "metadata": {
        "id": "d-YobygAq2Jp",
        "colab_type": "code",
        "colab": {}
      },
      "source": [
        "combined['Driving_License_per_Region_code'] = combined.groupby(['Region_Code'])['Driving_License'].transform(\"sum\")"
      ],
      "execution_count": null,
      "outputs": []
    },
    {
      "cell_type": "code",
      "metadata": {
        "id": "PhqmUj8GrAao",
        "colab_type": "code",
        "colab": {}
      },
      "source": [
        "combined['PreviouslyInsured_per_Region_code'] = combined.groupby(['Region_Code'])['Previously_Insured'].transform(\"sum\")"
      ],
      "execution_count": null,
      "outputs": []
    },
    {
      "cell_type": "code",
      "metadata": {
        "id": "3QYrbsINrIJJ",
        "colab_type": "code",
        "colab": {}
      },
      "source": [
        "combined['VehicleDamage_per_Region_code'] = combined.groupby(['Region_Code'])['Vehicle_Damage'].transform(\"sum\")"
      ],
      "execution_count": null,
      "outputs": []
    },
    {
      "cell_type": "code",
      "metadata": {
        "id": "CMOtSqA077cW",
        "colab_type": "code",
        "colab": {
          "base_uri": "https://localhost:8080/",
          "height": 244
        },
        "outputId": "84fb6d3a-6260-4aad-a79e-317322df8f1b"
      },
      "source": [
        "combined.head()"
      ],
      "execution_count": null,
      "outputs": [
        {
          "output_type": "execute_result",
          "data": {
            "text/html": [
              "<div>\n",
              "<style scoped>\n",
              "    .dataframe tbody tr th:only-of-type {\n",
              "        vertical-align: middle;\n",
              "    }\n",
              "\n",
              "    .dataframe tbody tr th {\n",
              "        vertical-align: top;\n",
              "    }\n",
              "\n",
              "    .dataframe thead th {\n",
              "        text-align: right;\n",
              "    }\n",
              "</style>\n",
              "<table border=\"1\" class=\"dataframe\">\n",
              "  <thead>\n",
              "    <tr style=\"text-align: right;\">\n",
              "      <th></th>\n",
              "      <th>id</th>\n",
              "      <th>Age</th>\n",
              "      <th>Driving_License</th>\n",
              "      <th>Region_Code</th>\n",
              "      <th>Previously_Insured</th>\n",
              "      <th>Vehicle_Age</th>\n",
              "      <th>Vehicle_Damage</th>\n",
              "      <th>Annual_Premium</th>\n",
              "      <th>Policy_Sales_Channel</th>\n",
              "      <th>Vintage</th>\n",
              "      <th>Response</th>\n",
              "      <th>is_train</th>\n",
              "      <th>Gender_Female</th>\n",
              "      <th>Gender_Male</th>\n",
              "      <th>mean_Age_per_region_code</th>\n",
              "      <th>sum_Age_per_region_code</th>\n",
              "      <th>max_Age_per_region_code</th>\n",
              "      <th>min_Age_per_region_code</th>\n",
              "      <th>mean_Annual_Premium_per_region_code</th>\n",
              "      <th>sum_Annual_Premium_per_region_code</th>\n",
              "      <th>max_Annual_Premium_per_region_code</th>\n",
              "      <th>min_Annual_Premium_per_region_code</th>\n",
              "      <th>mean_Vintage_per_region_code</th>\n",
              "      <th>sum_Vintage_per_region_code</th>\n",
              "      <th>max_Vintage_per_region_code</th>\n",
              "      <th>min_Vintage_per_region_code</th>\n",
              "      <th>mean_Age_per_channel</th>\n",
              "      <th>sum_Age_per_channel</th>\n",
              "      <th>max_Age_per_channel</th>\n",
              "      <th>min_Age_per_channel</th>\n",
              "      <th>mean_Annual_Premium_per_channel</th>\n",
              "      <th>sum_Annual_Premium_per_channel</th>\n",
              "      <th>max_Annual_Premium_per_channel</th>\n",
              "      <th>min_Annual_Premium_per_channel</th>\n",
              "      <th>mean_Vintage_per_channel</th>\n",
              "      <th>sum_Vintage_per_channel</th>\n",
              "      <th>max_Vintage_per_channel</th>\n",
              "      <th>min_Vintage_per_channel</th>\n",
              "      <th>mean_Age_per_vehicle_age</th>\n",
              "      <th>sum_Age_per_vehicle_age</th>\n",
              "      <th>...</th>\n",
              "      <th>mean_Age_per_Driving_License</th>\n",
              "      <th>sum_Age_per_Driving_License</th>\n",
              "      <th>max_Age_per_Driving_License</th>\n",
              "      <th>min_Age_per_Driving_License</th>\n",
              "      <th>mean_Annual_Premium_per_Driving_License</th>\n",
              "      <th>sum_Annual_Premium_per_Driving_License</th>\n",
              "      <th>max_Annual_Premium_per_Driving_License</th>\n",
              "      <th>min_Annual_Premium_per_Driving_License</th>\n",
              "      <th>mean_Vintage_per_Driving_License</th>\n",
              "      <th>sum_Vintage_per_Driving_License</th>\n",
              "      <th>max_Vintage_per_Driving_License</th>\n",
              "      <th>min_Vintage_per_Driving_License</th>\n",
              "      <th>Premium_by_age</th>\n",
              "      <th>mean_Age_per_insured_damage</th>\n",
              "      <th>sum_Age_per_insured_damage</th>\n",
              "      <th>max_Age_per_insured_damage</th>\n",
              "      <th>min_Age_per_insured_damage</th>\n",
              "      <th>mean_Annual_Premium_per_insured_damage</th>\n",
              "      <th>sum_Annual_Premium_per_insured_damage</th>\n",
              "      <th>max_Annual_Premium_per_insured_damage</th>\n",
              "      <th>min_Annual_Premium_per_insured_damage</th>\n",
              "      <th>mean_Vintage_per_insured_damage</th>\n",
              "      <th>sum_Vintage_per_insured_damage</th>\n",
              "      <th>max_Vintage_per_insured_damage</th>\n",
              "      <th>min_Vintage_per_insured_damage</th>\n",
              "      <th>mean_Age_per_insured_damage_license</th>\n",
              "      <th>sum_Age_per_insured_damage_license</th>\n",
              "      <th>max_Age_per_insured_damage_license</th>\n",
              "      <th>min_Age_per_insured_damage_license</th>\n",
              "      <th>mean_Annual_Premium_per_insured_damage_license</th>\n",
              "      <th>sum_Annual_Premium_per_insured_damage_license</th>\n",
              "      <th>max_Annual_Premium_per_insured_damage_license</th>\n",
              "      <th>min_Annual_Premium_per_insured_damage_license</th>\n",
              "      <th>mean_Vintage_per_insured_damage_license</th>\n",
              "      <th>sum_Vintage_per_insured_damage_license</th>\n",
              "      <th>max_Vintage_per_insured_damage_license</th>\n",
              "      <th>min_Vintage_per_insured_damage_license</th>\n",
              "      <th>Driving_License_per_Region_code</th>\n",
              "      <th>PreviouslyInsured_per_Region_code</th>\n",
              "      <th>VehicleDamage_per_Region_code</th>\n",
              "    </tr>\n",
              "  </thead>\n",
              "  <tbody>\n",
              "    <tr>\n",
              "      <th>0</th>\n",
              "      <td>1</td>\n",
              "      <td>44</td>\n",
              "      <td>1</td>\n",
              "      <td>28.0</td>\n",
              "      <td>0</td>\n",
              "      <td>3</td>\n",
              "      <td>1</td>\n",
              "      <td>40454.0</td>\n",
              "      <td>26.0</td>\n",
              "      <td>217</td>\n",
              "      <td>1.0</td>\n",
              "      <td>1</td>\n",
              "      <td>0</td>\n",
              "      <td>1</td>\n",
              "      <td>46.223536</td>\n",
              "      <td>6560830</td>\n",
              "      <td>85</td>\n",
              "      <td>20</td>\n",
              "      <td>38649.878763</td>\n",
              "      <td>5.485848e+09</td>\n",
              "      <td>540165.0</td>\n",
              "      <td>2630.0</td>\n",
              "      <td>154.266618</td>\n",
              "      <td>21896141</td>\n",
              "      <td>299</td>\n",
              "      <td>10</td>\n",
              "      <td>50.630664</td>\n",
              "      <td>5396925</td>\n",
              "      <td>85</td>\n",
              "      <td>20</td>\n",
              "      <td>33639.830863</td>\n",
              "      <td>3.585804e+09</td>\n",
              "      <td>540165.0</td>\n",
              "      <td>2630.0</td>\n",
              "      <td>154.405070</td>\n",
              "      <td>16458654</td>\n",
              "      <td>299</td>\n",
              "      <td>10</td>\n",
              "      <td>55.111085</td>\n",
              "      <td>1175299</td>\n",
              "      <td>...</td>\n",
              "      <td>38.752254</td>\n",
              "      <td>19651152</td>\n",
              "      <td>85</td>\n",
              "      <td>20</td>\n",
              "      <td>30545.029002</td>\n",
              "      <td>1.548929e+10</td>\n",
              "      <td>540165.0</td>\n",
              "      <td>2630.0</td>\n",
              "      <td>154.336886</td>\n",
              "      <td>78263772</td>\n",
              "      <td>299</td>\n",
              "      <td>10</td>\n",
              "      <td>919.409091</td>\n",
              "      <td>43.099342</td>\n",
              "      <td>10474347</td>\n",
              "      <td>85</td>\n",
              "      <td>20</td>\n",
              "      <td>30886.442472</td>\n",
              "      <td>7.506270e+09</td>\n",
              "      <td>540165.0</td>\n",
              "      <td>2630.0</td>\n",
              "      <td>154.187394</td>\n",
              "      <td>37471854</td>\n",
              "      <td>299</td>\n",
              "      <td>10</td>\n",
              "      <td>43.038895</td>\n",
              "      <td>10431380</td>\n",
              "      <td>85</td>\n",
              "      <td>20</td>\n",
              "      <td>30874.077567</td>\n",
              "      <td>7.482981e+09</td>\n",
              "      <td>540165.0</td>\n",
              "      <td>2630.0</td>\n",
              "      <td>154.181598</td>\n",
              "      <td>37369148</td>\n",
              "      <td>299</td>\n",
              "      <td>10</td>\n",
              "      <td>141486</td>\n",
              "      <td>44166</td>\n",
              "      <td>93767</td>\n",
              "    </tr>\n",
              "    <tr>\n",
              "      <th>1</th>\n",
              "      <td>2</td>\n",
              "      <td>76</td>\n",
              "      <td>1</td>\n",
              "      <td>3.0</td>\n",
              "      <td>0</td>\n",
              "      <td>2</td>\n",
              "      <td>0</td>\n",
              "      <td>33536.0</td>\n",
              "      <td>26.0</td>\n",
              "      <td>183</td>\n",
              "      <td>0.0</td>\n",
              "      <td>1</td>\n",
              "      <td>0</td>\n",
              "      <td>1</td>\n",
              "      <td>36.980970</td>\n",
              "      <td>456678</td>\n",
              "      <td>82</td>\n",
              "      <td>20</td>\n",
              "      <td>24465.445218</td>\n",
              "      <td>3.021238e+08</td>\n",
              "      <td>424578.0</td>\n",
              "      <td>2630.0</td>\n",
              "      <td>154.864442</td>\n",
              "      <td>1912421</td>\n",
              "      <td>299</td>\n",
              "      <td>10</td>\n",
              "      <td>50.630664</td>\n",
              "      <td>5396925</td>\n",
              "      <td>85</td>\n",
              "      <td>20</td>\n",
              "      <td>33639.830863</td>\n",
              "      <td>3.585804e+09</td>\n",
              "      <td>540165.0</td>\n",
              "      <td>2630.0</td>\n",
              "      <td>154.405070</td>\n",
              "      <td>16458654</td>\n",
              "      <td>299</td>\n",
              "      <td>10</td>\n",
              "      <td>49.017962</td>\n",
              "      <td>13088531</td>\n",
              "      <td>...</td>\n",
              "      <td>38.752254</td>\n",
              "      <td>19651152</td>\n",
              "      <td>85</td>\n",
              "      <td>20</td>\n",
              "      <td>30545.029002</td>\n",
              "      <td>1.548929e+10</td>\n",
              "      <td>540165.0</td>\n",
              "      <td>2630.0</td>\n",
              "      <td>154.336886</td>\n",
              "      <td>78263772</td>\n",
              "      <td>299</td>\n",
              "      <td>10</td>\n",
              "      <td>441.263158</td>\n",
              "      <td>37.568585</td>\n",
              "      <td>1203998</td>\n",
              "      <td>84</td>\n",
              "      <td>20</td>\n",
              "      <td>27389.917904</td>\n",
              "      <td>8.777921e+08</td>\n",
              "      <td>337573.0</td>\n",
              "      <td>2630.0</td>\n",
              "      <td>154.398402</td>\n",
              "      <td>4948160</td>\n",
              "      <td>299</td>\n",
              "      <td>10</td>\n",
              "      <td>37.495621</td>\n",
              "      <td>1198810</td>\n",
              "      <td>84</td>\n",
              "      <td>20</td>\n",
              "      <td>27368.564682</td>\n",
              "      <td>8.750278e+08</td>\n",
              "      <td>337573.0</td>\n",
              "      <td>2630.0</td>\n",
              "      <td>154.385744</td>\n",
              "      <td>4936021</td>\n",
              "      <td>299</td>\n",
              "      <td>10</td>\n",
              "      <td>12328</td>\n",
              "      <td>6000</td>\n",
              "      <td>5937</td>\n",
              "    </tr>\n",
              "    <tr>\n",
              "      <th>2</th>\n",
              "      <td>3</td>\n",
              "      <td>47</td>\n",
              "      <td>1</td>\n",
              "      <td>28.0</td>\n",
              "      <td>0</td>\n",
              "      <td>3</td>\n",
              "      <td>1</td>\n",
              "      <td>38294.0</td>\n",
              "      <td>26.0</td>\n",
              "      <td>27</td>\n",
              "      <td>1.0</td>\n",
              "      <td>1</td>\n",
              "      <td>0</td>\n",
              "      <td>1</td>\n",
              "      <td>46.223536</td>\n",
              "      <td>6560830</td>\n",
              "      <td>85</td>\n",
              "      <td>20</td>\n",
              "      <td>38649.878763</td>\n",
              "      <td>5.485848e+09</td>\n",
              "      <td>540165.0</td>\n",
              "      <td>2630.0</td>\n",
              "      <td>154.266618</td>\n",
              "      <td>21896141</td>\n",
              "      <td>299</td>\n",
              "      <td>10</td>\n",
              "      <td>50.630664</td>\n",
              "      <td>5396925</td>\n",
              "      <td>85</td>\n",
              "      <td>20</td>\n",
              "      <td>33639.830863</td>\n",
              "      <td>3.585804e+09</td>\n",
              "      <td>540165.0</td>\n",
              "      <td>2630.0</td>\n",
              "      <td>154.405070</td>\n",
              "      <td>16458654</td>\n",
              "      <td>299</td>\n",
              "      <td>10</td>\n",
              "      <td>55.111085</td>\n",
              "      <td>1175299</td>\n",
              "      <td>...</td>\n",
              "      <td>38.752254</td>\n",
              "      <td>19651152</td>\n",
              "      <td>85</td>\n",
              "      <td>20</td>\n",
              "      <td>30545.029002</td>\n",
              "      <td>1.548929e+10</td>\n",
              "      <td>540165.0</td>\n",
              "      <td>2630.0</td>\n",
              "      <td>154.336886</td>\n",
              "      <td>78263772</td>\n",
              "      <td>299</td>\n",
              "      <td>10</td>\n",
              "      <td>814.765957</td>\n",
              "      <td>43.099342</td>\n",
              "      <td>10474347</td>\n",
              "      <td>85</td>\n",
              "      <td>20</td>\n",
              "      <td>30886.442472</td>\n",
              "      <td>7.506270e+09</td>\n",
              "      <td>540165.0</td>\n",
              "      <td>2630.0</td>\n",
              "      <td>154.187394</td>\n",
              "      <td>37471854</td>\n",
              "      <td>299</td>\n",
              "      <td>10</td>\n",
              "      <td>43.038895</td>\n",
              "      <td>10431380</td>\n",
              "      <td>85</td>\n",
              "      <td>20</td>\n",
              "      <td>30874.077567</td>\n",
              "      <td>7.482981e+09</td>\n",
              "      <td>540165.0</td>\n",
              "      <td>2630.0</td>\n",
              "      <td>154.181598</td>\n",
              "      <td>37369148</td>\n",
              "      <td>299</td>\n",
              "      <td>10</td>\n",
              "      <td>141486</td>\n",
              "      <td>44166</td>\n",
              "      <td>93767</td>\n",
              "    </tr>\n",
              "    <tr>\n",
              "      <th>3</th>\n",
              "      <td>4</td>\n",
              "      <td>21</td>\n",
              "      <td>1</td>\n",
              "      <td>11.0</td>\n",
              "      <td>1</td>\n",
              "      <td>1</td>\n",
              "      <td>0</td>\n",
              "      <td>28619.0</td>\n",
              "      <td>152.0</td>\n",
              "      <td>203</td>\n",
              "      <td>0.0</td>\n",
              "      <td>1</td>\n",
              "      <td>0</td>\n",
              "      <td>1</td>\n",
              "      <td>34.235480</td>\n",
              "      <td>422055</td>\n",
              "      <td>82</td>\n",
              "      <td>20</td>\n",
              "      <td>27655.183160</td>\n",
              "      <td>3.409331e+08</td>\n",
              "      <td>193637.0</td>\n",
              "      <td>2630.0</td>\n",
              "      <td>154.520360</td>\n",
              "      <td>1904927</td>\n",
              "      <td>299</td>\n",
              "      <td>10</td>\n",
              "      <td>26.211884</td>\n",
              "      <td>4705636</td>\n",
              "      <td>80</td>\n",
              "      <td>20</td>\n",
              "      <td>30898.685511</td>\n",
              "      <td>5.547025e+09</td>\n",
              "      <td>495106.0</td>\n",
              "      <td>2630.0</td>\n",
              "      <td>154.624338</td>\n",
              "      <td>27758625</td>\n",
              "      <td>299</td>\n",
              "      <td>10</td>\n",
              "      <td>24.824322</td>\n",
              "      <td>5456510</td>\n",
              "      <td>...</td>\n",
              "      <td>38.752254</td>\n",
              "      <td>19651152</td>\n",
              "      <td>85</td>\n",
              "      <td>20</td>\n",
              "      <td>30545.029002</td>\n",
              "      <td>1.548929e+10</td>\n",
              "      <td>540165.0</td>\n",
              "      <td>2630.0</td>\n",
              "      <td>154.336886</td>\n",
              "      <td>78263772</td>\n",
              "      <td>299</td>\n",
              "      <td>10</td>\n",
              "      <td>1362.809524</td>\n",
              "      <td>34.182770</td>\n",
              "      <td>7515082</td>\n",
              "      <td>85</td>\n",
              "      <td>20</td>\n",
              "      <td>30827.433491</td>\n",
              "      <td>6.777411e+09</td>\n",
              "      <td>540165.0</td>\n",
              "      <td>2630.0</td>\n",
              "      <td>154.435888</td>\n",
              "      <td>33952730</td>\n",
              "      <td>299</td>\n",
              "      <td>10</td>\n",
              "      <td>34.144448</td>\n",
              "      <td>7497711</td>\n",
              "      <td>85</td>\n",
              "      <td>20</td>\n",
              "      <td>30824.079704</td>\n",
              "      <td>6.768598e+09</td>\n",
              "      <td>540165.0</td>\n",
              "      <td>2630.0</td>\n",
              "      <td>154.438708</td>\n",
              "      <td>33912887</td>\n",
              "      <td>299</td>\n",
              "      <td>10</td>\n",
              "      <td>12314</td>\n",
              "      <td>7662</td>\n",
              "      <td>4386</td>\n",
              "    </tr>\n",
              "    <tr>\n",
              "      <th>4</th>\n",
              "      <td>5</td>\n",
              "      <td>29</td>\n",
              "      <td>1</td>\n",
              "      <td>41.0</td>\n",
              "      <td>1</td>\n",
              "      <td>1</td>\n",
              "      <td>0</td>\n",
              "      <td>27496.0</td>\n",
              "      <td>152.0</td>\n",
              "      <td>39</td>\n",
              "      <td>0.0</td>\n",
              "      <td>1</td>\n",
              "      <td>1</td>\n",
              "      <td>0</td>\n",
              "      <td>36.404016</td>\n",
              "      <td>888258</td>\n",
              "      <td>83</td>\n",
              "      <td>20</td>\n",
              "      <td>30948.979918</td>\n",
              "      <td>7.551551e+08</td>\n",
              "      <td>339396.0</td>\n",
              "      <td>2630.0</td>\n",
              "      <td>154.851189</td>\n",
              "      <td>3778369</td>\n",
              "      <td>299</td>\n",
              "      <td>10</td>\n",
              "      <td>26.211884</td>\n",
              "      <td>4705636</td>\n",
              "      <td>80</td>\n",
              "      <td>20</td>\n",
              "      <td>30898.685511</td>\n",
              "      <td>5.547025e+09</td>\n",
              "      <td>495106.0</td>\n",
              "      <td>2630.0</td>\n",
              "      <td>154.624338</td>\n",
              "      <td>27758625</td>\n",
              "      <td>299</td>\n",
              "      <td>10</td>\n",
              "      <td>24.824322</td>\n",
              "      <td>5456510</td>\n",
              "      <td>...</td>\n",
              "      <td>38.752254</td>\n",
              "      <td>19651152</td>\n",
              "      <td>85</td>\n",
              "      <td>20</td>\n",
              "      <td>30545.029002</td>\n",
              "      <td>1.548929e+10</td>\n",
              "      <td>540165.0</td>\n",
              "      <td>2630.0</td>\n",
              "      <td>154.336886</td>\n",
              "      <td>78263772</td>\n",
              "      <td>299</td>\n",
              "      <td>10</td>\n",
              "      <td>948.137931</td>\n",
              "      <td>34.182770</td>\n",
              "      <td>7515082</td>\n",
              "      <td>85</td>\n",
              "      <td>20</td>\n",
              "      <td>30827.433491</td>\n",
              "      <td>6.777411e+09</td>\n",
              "      <td>540165.0</td>\n",
              "      <td>2630.0</td>\n",
              "      <td>154.435888</td>\n",
              "      <td>33952730</td>\n",
              "      <td>299</td>\n",
              "      <td>10</td>\n",
              "      <td>34.144448</td>\n",
              "      <td>7497711</td>\n",
              "      <td>85</td>\n",
              "      <td>20</td>\n",
              "      <td>30824.079704</td>\n",
              "      <td>6.768598e+09</td>\n",
              "      <td>540165.0</td>\n",
              "      <td>2630.0</td>\n",
              "      <td>154.438708</td>\n",
              "      <td>33912887</td>\n",
              "      <td>299</td>\n",
              "      <td>10</td>\n",
              "      <td>24360</td>\n",
              "      <td>13820</td>\n",
              "      <td>10082</td>\n",
              "    </tr>\n",
              "  </tbody>\n",
              "</table>\n",
              "<p>5 rows × 114 columns</p>\n",
              "</div>"
            ],
            "text/plain": [
              "   id  Age  ...  PreviouslyInsured_per_Region_code  VehicleDamage_per_Region_code\n",
              "0   1   44  ...                              44166                          93767\n",
              "1   2   76  ...                               6000                           5937\n",
              "2   3   47  ...                              44166                          93767\n",
              "3   4   21  ...                               7662                           4386\n",
              "4   5   29  ...                              13820                          10082\n",
              "\n",
              "[5 rows x 114 columns]"
            ]
          },
          "metadata": {
            "tags": []
          },
          "execution_count": 57
        }
      ]
    },
    {
      "cell_type": "code",
      "metadata": {
        "id": "6KUUI-hu93Rb",
        "colab_type": "code",
        "colab": {}
      },
      "source": [
        "combined['channel_users'] = combined.groupby(['Policy_Sales_Channel'])['Previously_Insured'].transform('sum')\n",
        "combined['channel_effort'] = combined.groupby(['Policy_Sales_Channel'])['id'].transform('count')"
      ],
      "execution_count": null,
      "outputs": []
    },
    {
      "cell_type": "code",
      "metadata": {
        "id": "qT41LkD0z5XI",
        "colab_type": "code",
        "colab": {}
      },
      "source": [
        "hist, bin_edg = np.histogram(combined['Age'].values,bins='sturges')\n",
        "Bin = KBinsDiscretizer(n_bins=20, encode='ordinal', strategy='kmeans')\n",
        "combined['Age_group'] = Bin.fit_transform(combined['Age'].values.reshape(-1, 1))"
      ],
      "execution_count": null,
      "outputs": []
    },
    {
      "cell_type": "code",
      "metadata": {
        "id": "3nxxvoQ-0KJP",
        "colab_type": "code",
        "colab": {}
      },
      "source": [
        "combined['Age_grp_premium'] = combined.groupby(['Age_group'])['Annual_Premium'].transform('mean')\n",
        "combined['Age_grp_premium1'] = combined.groupby(['Age_group'])['Annual_Premium'].transform('std')"
      ],
      "execution_count": null,
      "outputs": []
    },
    {
      "cell_type": "code",
      "metadata": {
        "id": "rzXpu0PN0P9o",
        "colab_type": "code",
        "colab": {}
      },
      "source": [
        "from sklearn.cluster import KMeans\n",
        "from sklearn.metrics import silhouette_score"
      ],
      "execution_count": null,
      "outputs": []
    },
    {
      "cell_type": "code",
      "metadata": {
        "id": "x0UBQNPp0d2h",
        "colab_type": "code",
        "colab": {}
      },
      "source": [
        "cluster = combined.drop(['id','Response','is_train'],axis=1).copy()\n",
        "kmeanModel = KMeans(n_clusters=7)\n",
        "preds = kmeanModel.fit_predict(cluster)"
      ],
      "execution_count": null,
      "outputs": []
    },
    {
      "cell_type": "code",
      "metadata": {
        "id": "azUwaWTx0ukg",
        "colab_type": "code",
        "colab": {}
      },
      "source": [
        "combined['customer_seg'] = preds"
      ],
      "execution_count": null,
      "outputs": []
    },
    {
      "cell_type": "code",
      "metadata": {
        "id": "NGhHwI680zps",
        "colab_type": "code",
        "colab": {}
      },
      "source": [
        "combined['Age_customer_seg'] = combined.groupby(['customer_seg'])['Age'].transform('mean')\n",
        "combined['Revenue_customer_seg'] = combined.groupby(['customer_seg'])['Annual_Premium'].transform('mean')"
      ],
      "execution_count": null,
      "outputs": []
    },
    {
      "cell_type": "code",
      "metadata": {
        "id": "U_X-bOBX-_i_",
        "colab_type": "code",
        "colab": {
          "base_uri": "https://localhost:8080/",
          "height": 244
        },
        "outputId": "ee1b47a8-3bdf-4736-a310-d94a051c77b3"
      },
      "source": [
        "combined.head()"
      ],
      "execution_count": null,
      "outputs": [
        {
          "output_type": "execute_result",
          "data": {
            "text/html": [
              "<div>\n",
              "<style scoped>\n",
              "    .dataframe tbody tr th:only-of-type {\n",
              "        vertical-align: middle;\n",
              "    }\n",
              "\n",
              "    .dataframe tbody tr th {\n",
              "        vertical-align: top;\n",
              "    }\n",
              "\n",
              "    .dataframe thead th {\n",
              "        text-align: right;\n",
              "    }\n",
              "</style>\n",
              "<table border=\"1\" class=\"dataframe\">\n",
              "  <thead>\n",
              "    <tr style=\"text-align: right;\">\n",
              "      <th></th>\n",
              "      <th>id</th>\n",
              "      <th>Age</th>\n",
              "      <th>Driving_License</th>\n",
              "      <th>Region_Code</th>\n",
              "      <th>Previously_Insured</th>\n",
              "      <th>Vehicle_Age</th>\n",
              "      <th>Vehicle_Damage</th>\n",
              "      <th>Annual_Premium</th>\n",
              "      <th>Policy_Sales_Channel</th>\n",
              "      <th>Vintage</th>\n",
              "      <th>Response</th>\n",
              "      <th>is_train</th>\n",
              "      <th>Gender_Female</th>\n",
              "      <th>Gender_Male</th>\n",
              "      <th>mean_Age_per_region_code</th>\n",
              "      <th>sum_Age_per_region_code</th>\n",
              "      <th>max_Age_per_region_code</th>\n",
              "      <th>min_Age_per_region_code</th>\n",
              "      <th>mean_Annual_Premium_per_region_code</th>\n",
              "      <th>sum_Annual_Premium_per_region_code</th>\n",
              "      <th>max_Annual_Premium_per_region_code</th>\n",
              "      <th>min_Annual_Premium_per_region_code</th>\n",
              "      <th>mean_Vintage_per_region_code</th>\n",
              "      <th>sum_Vintage_per_region_code</th>\n",
              "      <th>max_Vintage_per_region_code</th>\n",
              "      <th>min_Vintage_per_region_code</th>\n",
              "      <th>mean_Age_per_channel</th>\n",
              "      <th>sum_Age_per_channel</th>\n",
              "      <th>max_Age_per_channel</th>\n",
              "      <th>min_Age_per_channel</th>\n",
              "      <th>mean_Annual_Premium_per_channel</th>\n",
              "      <th>sum_Annual_Premium_per_channel</th>\n",
              "      <th>max_Annual_Premium_per_channel</th>\n",
              "      <th>min_Annual_Premium_per_channel</th>\n",
              "      <th>mean_Vintage_per_channel</th>\n",
              "      <th>sum_Vintage_per_channel</th>\n",
              "      <th>max_Vintage_per_channel</th>\n",
              "      <th>min_Vintage_per_channel</th>\n",
              "      <th>mean_Age_per_vehicle_age</th>\n",
              "      <th>sum_Age_per_vehicle_age</th>\n",
              "      <th>...</th>\n",
              "      <th>mean_Vintage_per_Driving_License</th>\n",
              "      <th>sum_Vintage_per_Driving_License</th>\n",
              "      <th>max_Vintage_per_Driving_License</th>\n",
              "      <th>min_Vintage_per_Driving_License</th>\n",
              "      <th>Premium_by_age</th>\n",
              "      <th>mean_Age_per_insured_damage</th>\n",
              "      <th>sum_Age_per_insured_damage</th>\n",
              "      <th>max_Age_per_insured_damage</th>\n",
              "      <th>min_Age_per_insured_damage</th>\n",
              "      <th>mean_Annual_Premium_per_insured_damage</th>\n",
              "      <th>sum_Annual_Premium_per_insured_damage</th>\n",
              "      <th>max_Annual_Premium_per_insured_damage</th>\n",
              "      <th>min_Annual_Premium_per_insured_damage</th>\n",
              "      <th>mean_Vintage_per_insured_damage</th>\n",
              "      <th>sum_Vintage_per_insured_damage</th>\n",
              "      <th>max_Vintage_per_insured_damage</th>\n",
              "      <th>min_Vintage_per_insured_damage</th>\n",
              "      <th>mean_Age_per_insured_damage_license</th>\n",
              "      <th>sum_Age_per_insured_damage_license</th>\n",
              "      <th>max_Age_per_insured_damage_license</th>\n",
              "      <th>min_Age_per_insured_damage_license</th>\n",
              "      <th>mean_Annual_Premium_per_insured_damage_license</th>\n",
              "      <th>sum_Annual_Premium_per_insured_damage_license</th>\n",
              "      <th>max_Annual_Premium_per_insured_damage_license</th>\n",
              "      <th>min_Annual_Premium_per_insured_damage_license</th>\n",
              "      <th>mean_Vintage_per_insured_damage_license</th>\n",
              "      <th>sum_Vintage_per_insured_damage_license</th>\n",
              "      <th>max_Vintage_per_insured_damage_license</th>\n",
              "      <th>min_Vintage_per_insured_damage_license</th>\n",
              "      <th>Driving_License_per_Region_code</th>\n",
              "      <th>PreviouslyInsured_per_Region_code</th>\n",
              "      <th>VehicleDamage_per_Region_code</th>\n",
              "      <th>channel_users</th>\n",
              "      <th>channel_effort</th>\n",
              "      <th>Age_group</th>\n",
              "      <th>Age_grp_premium</th>\n",
              "      <th>Age_grp_premium1</th>\n",
              "      <th>customer_seg</th>\n",
              "      <th>Age_customer_seg</th>\n",
              "      <th>Revenue_customer_seg</th>\n",
              "    </tr>\n",
              "  </thead>\n",
              "  <tbody>\n",
              "    <tr>\n",
              "      <th>0</th>\n",
              "      <td>1</td>\n",
              "      <td>44</td>\n",
              "      <td>1</td>\n",
              "      <td>28.0</td>\n",
              "      <td>0</td>\n",
              "      <td>3</td>\n",
              "      <td>1</td>\n",
              "      <td>40454.0</td>\n",
              "      <td>26.0</td>\n",
              "      <td>217</td>\n",
              "      <td>1.0</td>\n",
              "      <td>1</td>\n",
              "      <td>0</td>\n",
              "      <td>1</td>\n",
              "      <td>46.223536</td>\n",
              "      <td>6560830</td>\n",
              "      <td>85</td>\n",
              "      <td>20</td>\n",
              "      <td>38649.878763</td>\n",
              "      <td>5.485848e+09</td>\n",
              "      <td>540165.0</td>\n",
              "      <td>2630.0</td>\n",
              "      <td>154.266618</td>\n",
              "      <td>21896141</td>\n",
              "      <td>299</td>\n",
              "      <td>10</td>\n",
              "      <td>50.630664</td>\n",
              "      <td>5396925</td>\n",
              "      <td>85</td>\n",
              "      <td>20</td>\n",
              "      <td>33639.830863</td>\n",
              "      <td>3.585804e+09</td>\n",
              "      <td>540165.0</td>\n",
              "      <td>2630.0</td>\n",
              "      <td>154.405070</td>\n",
              "      <td>16458654</td>\n",
              "      <td>299</td>\n",
              "      <td>10</td>\n",
              "      <td>55.111085</td>\n",
              "      <td>1175299</td>\n",
              "      <td>...</td>\n",
              "      <td>154.336886</td>\n",
              "      <td>78263772</td>\n",
              "      <td>299</td>\n",
              "      <td>10</td>\n",
              "      <td>919.409091</td>\n",
              "      <td>43.099342</td>\n",
              "      <td>10474347</td>\n",
              "      <td>85</td>\n",
              "      <td>20</td>\n",
              "      <td>30886.442472</td>\n",
              "      <td>7.506270e+09</td>\n",
              "      <td>540165.0</td>\n",
              "      <td>2630.0</td>\n",
              "      <td>154.187394</td>\n",
              "      <td>37471854</td>\n",
              "      <td>299</td>\n",
              "      <td>10</td>\n",
              "      <td>43.038895</td>\n",
              "      <td>10431380</td>\n",
              "      <td>85</td>\n",
              "      <td>20</td>\n",
              "      <td>30874.077567</td>\n",
              "      <td>7.482981e+09</td>\n",
              "      <td>540165.0</td>\n",
              "      <td>2630.0</td>\n",
              "      <td>154.181598</td>\n",
              "      <td>37369148</td>\n",
              "      <td>299</td>\n",
              "      <td>10</td>\n",
              "      <td>141486</td>\n",
              "      <td>44166</td>\n",
              "      <td>93767</td>\n",
              "      <td>32235</td>\n",
              "      <td>106594</td>\n",
              "      <td>7.0</td>\n",
              "      <td>31182.334555</td>\n",
              "      <td>17803.080293</td>\n",
              "      <td>4</td>\n",
              "      <td>55.114958</td>\n",
              "      <td>35654.103340</td>\n",
              "    </tr>\n",
              "    <tr>\n",
              "      <th>1</th>\n",
              "      <td>2</td>\n",
              "      <td>76</td>\n",
              "      <td>1</td>\n",
              "      <td>3.0</td>\n",
              "      <td>0</td>\n",
              "      <td>2</td>\n",
              "      <td>0</td>\n",
              "      <td>33536.0</td>\n",
              "      <td>26.0</td>\n",
              "      <td>183</td>\n",
              "      <td>0.0</td>\n",
              "      <td>1</td>\n",
              "      <td>0</td>\n",
              "      <td>1</td>\n",
              "      <td>36.980970</td>\n",
              "      <td>456678</td>\n",
              "      <td>82</td>\n",
              "      <td>20</td>\n",
              "      <td>24465.445218</td>\n",
              "      <td>3.021238e+08</td>\n",
              "      <td>424578.0</td>\n",
              "      <td>2630.0</td>\n",
              "      <td>154.864442</td>\n",
              "      <td>1912421</td>\n",
              "      <td>299</td>\n",
              "      <td>10</td>\n",
              "      <td>50.630664</td>\n",
              "      <td>5396925</td>\n",
              "      <td>85</td>\n",
              "      <td>20</td>\n",
              "      <td>33639.830863</td>\n",
              "      <td>3.585804e+09</td>\n",
              "      <td>540165.0</td>\n",
              "      <td>2630.0</td>\n",
              "      <td>154.405070</td>\n",
              "      <td>16458654</td>\n",
              "      <td>299</td>\n",
              "      <td>10</td>\n",
              "      <td>49.017962</td>\n",
              "      <td>13088531</td>\n",
              "      <td>...</td>\n",
              "      <td>154.336886</td>\n",
              "      <td>78263772</td>\n",
              "      <td>299</td>\n",
              "      <td>10</td>\n",
              "      <td>441.263158</td>\n",
              "      <td>37.568585</td>\n",
              "      <td>1203998</td>\n",
              "      <td>84</td>\n",
              "      <td>20</td>\n",
              "      <td>27389.917904</td>\n",
              "      <td>8.777921e+08</td>\n",
              "      <td>337573.0</td>\n",
              "      <td>2630.0</td>\n",
              "      <td>154.398402</td>\n",
              "      <td>4948160</td>\n",
              "      <td>299</td>\n",
              "      <td>10</td>\n",
              "      <td>37.495621</td>\n",
              "      <td>1198810</td>\n",
              "      <td>84</td>\n",
              "      <td>20</td>\n",
              "      <td>27368.564682</td>\n",
              "      <td>8.750278e+08</td>\n",
              "      <td>337573.0</td>\n",
              "      <td>2630.0</td>\n",
              "      <td>154.385744</td>\n",
              "      <td>4936021</td>\n",
              "      <td>299</td>\n",
              "      <td>10</td>\n",
              "      <td>12328</td>\n",
              "      <td>6000</td>\n",
              "      <td>5937</td>\n",
              "      <td>32235</td>\n",
              "      <td>106594</td>\n",
              "      <td>17.0</td>\n",
              "      <td>34877.882420</td>\n",
              "      <td>19182.468086</td>\n",
              "      <td>2</td>\n",
              "      <td>38.580845</td>\n",
              "      <td>27488.904116</td>\n",
              "    </tr>\n",
              "    <tr>\n",
              "      <th>2</th>\n",
              "      <td>3</td>\n",
              "      <td>47</td>\n",
              "      <td>1</td>\n",
              "      <td>28.0</td>\n",
              "      <td>0</td>\n",
              "      <td>3</td>\n",
              "      <td>1</td>\n",
              "      <td>38294.0</td>\n",
              "      <td>26.0</td>\n",
              "      <td>27</td>\n",
              "      <td>1.0</td>\n",
              "      <td>1</td>\n",
              "      <td>0</td>\n",
              "      <td>1</td>\n",
              "      <td>46.223536</td>\n",
              "      <td>6560830</td>\n",
              "      <td>85</td>\n",
              "      <td>20</td>\n",
              "      <td>38649.878763</td>\n",
              "      <td>5.485848e+09</td>\n",
              "      <td>540165.0</td>\n",
              "      <td>2630.0</td>\n",
              "      <td>154.266618</td>\n",
              "      <td>21896141</td>\n",
              "      <td>299</td>\n",
              "      <td>10</td>\n",
              "      <td>50.630664</td>\n",
              "      <td>5396925</td>\n",
              "      <td>85</td>\n",
              "      <td>20</td>\n",
              "      <td>33639.830863</td>\n",
              "      <td>3.585804e+09</td>\n",
              "      <td>540165.0</td>\n",
              "      <td>2630.0</td>\n",
              "      <td>154.405070</td>\n",
              "      <td>16458654</td>\n",
              "      <td>299</td>\n",
              "      <td>10</td>\n",
              "      <td>55.111085</td>\n",
              "      <td>1175299</td>\n",
              "      <td>...</td>\n",
              "      <td>154.336886</td>\n",
              "      <td>78263772</td>\n",
              "      <td>299</td>\n",
              "      <td>10</td>\n",
              "      <td>814.765957</td>\n",
              "      <td>43.099342</td>\n",
              "      <td>10474347</td>\n",
              "      <td>85</td>\n",
              "      <td>20</td>\n",
              "      <td>30886.442472</td>\n",
              "      <td>7.506270e+09</td>\n",
              "      <td>540165.0</td>\n",
              "      <td>2630.0</td>\n",
              "      <td>154.187394</td>\n",
              "      <td>37471854</td>\n",
              "      <td>299</td>\n",
              "      <td>10</td>\n",
              "      <td>43.038895</td>\n",
              "      <td>10431380</td>\n",
              "      <td>85</td>\n",
              "      <td>20</td>\n",
              "      <td>30874.077567</td>\n",
              "      <td>7.482981e+09</td>\n",
              "      <td>540165.0</td>\n",
              "      <td>2630.0</td>\n",
              "      <td>154.181598</td>\n",
              "      <td>37369148</td>\n",
              "      <td>299</td>\n",
              "      <td>10</td>\n",
              "      <td>141486</td>\n",
              "      <td>44166</td>\n",
              "      <td>93767</td>\n",
              "      <td>32235</td>\n",
              "      <td>106594</td>\n",
              "      <td>8.0</td>\n",
              "      <td>31531.632683</td>\n",
              "      <td>18610.090269</td>\n",
              "      <td>4</td>\n",
              "      <td>55.114958</td>\n",
              "      <td>35654.103340</td>\n",
              "    </tr>\n",
              "    <tr>\n",
              "      <th>3</th>\n",
              "      <td>4</td>\n",
              "      <td>21</td>\n",
              "      <td>1</td>\n",
              "      <td>11.0</td>\n",
              "      <td>1</td>\n",
              "      <td>1</td>\n",
              "      <td>0</td>\n",
              "      <td>28619.0</td>\n",
              "      <td>152.0</td>\n",
              "      <td>203</td>\n",
              "      <td>0.0</td>\n",
              "      <td>1</td>\n",
              "      <td>0</td>\n",
              "      <td>1</td>\n",
              "      <td>34.235480</td>\n",
              "      <td>422055</td>\n",
              "      <td>82</td>\n",
              "      <td>20</td>\n",
              "      <td>27655.183160</td>\n",
              "      <td>3.409331e+08</td>\n",
              "      <td>193637.0</td>\n",
              "      <td>2630.0</td>\n",
              "      <td>154.520360</td>\n",
              "      <td>1904927</td>\n",
              "      <td>299</td>\n",
              "      <td>10</td>\n",
              "      <td>26.211884</td>\n",
              "      <td>4705636</td>\n",
              "      <td>80</td>\n",
              "      <td>20</td>\n",
              "      <td>30898.685511</td>\n",
              "      <td>5.547025e+09</td>\n",
              "      <td>495106.0</td>\n",
              "      <td>2630.0</td>\n",
              "      <td>154.624338</td>\n",
              "      <td>27758625</td>\n",
              "      <td>299</td>\n",
              "      <td>10</td>\n",
              "      <td>24.824322</td>\n",
              "      <td>5456510</td>\n",
              "      <td>...</td>\n",
              "      <td>154.336886</td>\n",
              "      <td>78263772</td>\n",
              "      <td>299</td>\n",
              "      <td>10</td>\n",
              "      <td>1362.809524</td>\n",
              "      <td>34.182770</td>\n",
              "      <td>7515082</td>\n",
              "      <td>85</td>\n",
              "      <td>20</td>\n",
              "      <td>30827.433491</td>\n",
              "      <td>6.777411e+09</td>\n",
              "      <td>540165.0</td>\n",
              "      <td>2630.0</td>\n",
              "      <td>154.435888</td>\n",
              "      <td>33952730</td>\n",
              "      <td>299</td>\n",
              "      <td>10</td>\n",
              "      <td>34.144448</td>\n",
              "      <td>7497711</td>\n",
              "      <td>85</td>\n",
              "      <td>20</td>\n",
              "      <td>30824.079704</td>\n",
              "      <td>6.768598e+09</td>\n",
              "      <td>540165.0</td>\n",
              "      <td>2630.0</td>\n",
              "      <td>154.438708</td>\n",
              "      <td>33912887</td>\n",
              "      <td>299</td>\n",
              "      <td>10</td>\n",
              "      <td>12314</td>\n",
              "      <td>7662</td>\n",
              "      <td>4386</td>\n",
              "      <td>131134</td>\n",
              "      <td>179523</td>\n",
              "      <td>0.0</td>\n",
              "      <td>30359.728682</td>\n",
              "      <td>14445.049083</td>\n",
              "      <td>3</td>\n",
              "      <td>26.155998</td>\n",
              "      <td>29913.830735</td>\n",
              "    </tr>\n",
              "    <tr>\n",
              "      <th>4</th>\n",
              "      <td>5</td>\n",
              "      <td>29</td>\n",
              "      <td>1</td>\n",
              "      <td>41.0</td>\n",
              "      <td>1</td>\n",
              "      <td>1</td>\n",
              "      <td>0</td>\n",
              "      <td>27496.0</td>\n",
              "      <td>152.0</td>\n",
              "      <td>39</td>\n",
              "      <td>0.0</td>\n",
              "      <td>1</td>\n",
              "      <td>1</td>\n",
              "      <td>0</td>\n",
              "      <td>36.404016</td>\n",
              "      <td>888258</td>\n",
              "      <td>83</td>\n",
              "      <td>20</td>\n",
              "      <td>30948.979918</td>\n",
              "      <td>7.551551e+08</td>\n",
              "      <td>339396.0</td>\n",
              "      <td>2630.0</td>\n",
              "      <td>154.851189</td>\n",
              "      <td>3778369</td>\n",
              "      <td>299</td>\n",
              "      <td>10</td>\n",
              "      <td>26.211884</td>\n",
              "      <td>4705636</td>\n",
              "      <td>80</td>\n",
              "      <td>20</td>\n",
              "      <td>30898.685511</td>\n",
              "      <td>5.547025e+09</td>\n",
              "      <td>495106.0</td>\n",
              "      <td>2630.0</td>\n",
              "      <td>154.624338</td>\n",
              "      <td>27758625</td>\n",
              "      <td>299</td>\n",
              "      <td>10</td>\n",
              "      <td>24.824322</td>\n",
              "      <td>5456510</td>\n",
              "      <td>...</td>\n",
              "      <td>154.336886</td>\n",
              "      <td>78263772</td>\n",
              "      <td>299</td>\n",
              "      <td>10</td>\n",
              "      <td>948.137931</td>\n",
              "      <td>34.182770</td>\n",
              "      <td>7515082</td>\n",
              "      <td>85</td>\n",
              "      <td>20</td>\n",
              "      <td>30827.433491</td>\n",
              "      <td>6.777411e+09</td>\n",
              "      <td>540165.0</td>\n",
              "      <td>2630.0</td>\n",
              "      <td>154.435888</td>\n",
              "      <td>33952730</td>\n",
              "      <td>299</td>\n",
              "      <td>10</td>\n",
              "      <td>34.144448</td>\n",
              "      <td>7497711</td>\n",
              "      <td>85</td>\n",
              "      <td>20</td>\n",
              "      <td>30824.079704</td>\n",
              "      <td>6.768598e+09</td>\n",
              "      <td>540165.0</td>\n",
              "      <td>2630.0</td>\n",
              "      <td>154.438708</td>\n",
              "      <td>33912887</td>\n",
              "      <td>299</td>\n",
              "      <td>10</td>\n",
              "      <td>24360</td>\n",
              "      <td>13820</td>\n",
              "      <td>10082</td>\n",
              "      <td>131134</td>\n",
              "      <td>179523</td>\n",
              "      <td>2.0</td>\n",
              "      <td>28522.279317</td>\n",
              "      <td>15567.305865</td>\n",
              "      <td>3</td>\n",
              "      <td>26.155998</td>\n",
              "      <td>29913.830735</td>\n",
              "    </tr>\n",
              "  </tbody>\n",
              "</table>\n",
              "<p>5 rows × 122 columns</p>\n",
              "</div>"
            ],
            "text/plain": [
              "   id  Age  ...  Age_customer_seg  Revenue_customer_seg\n",
              "0   1   44  ...         55.114958          35654.103340\n",
              "1   2   76  ...         38.580845          27488.904116\n",
              "2   3   47  ...         55.114958          35654.103340\n",
              "3   4   21  ...         26.155998          29913.830735\n",
              "4   5   29  ...         26.155998          29913.830735\n",
              "\n",
              "[5 rows x 122 columns]"
            ]
          },
          "metadata": {
            "tags": []
          },
          "execution_count": 65
        }
      ]
    },
    {
      "cell_type": "code",
      "metadata": {
        "id": "872tHIlg_tv2",
        "colab_type": "code",
        "colab": {
          "base_uri": "https://localhost:8080/",
          "height": 168
        },
        "outputId": "c9d5e227-7333-41c1-d7fd-d313bbb4b16c"
      },
      "source": [
        "combined['Vintage'].describe()"
      ],
      "execution_count": null,
      "outputs": [
        {
          "output_type": "execute_result",
          "data": {
            "text/plain": [
              "count    508146.000000\n",
              "mean        154.340123\n",
              "std          83.668793\n",
              "min          10.000000\n",
              "25%          82.000000\n",
              "50%         154.000000\n",
              "75%         227.000000\n",
              "max         299.000000\n",
              "Name: Vintage, dtype: float64"
            ]
          },
          "metadata": {
            "tags": []
          },
          "execution_count": 66
        }
      ]
    },
    {
      "cell_type": "code",
      "metadata": {
        "id": "y839pyGjDQEm",
        "colab_type": "code",
        "colab": {
          "base_uri": "https://localhost:8080/",
          "height": 218
        },
        "outputId": "c7dbb314-a345-4f6d-b03a-fab5e286a9c9"
      },
      "source": [
        "combined['Vintage'] // 7"
      ],
      "execution_count": null,
      "outputs": [
        {
          "output_type": "execute_result",
          "data": {
            "text/plain": [
              "0         31\n",
              "1         26\n",
              "2          3\n",
              "3         29\n",
              "4          5\n",
              "          ..\n",
              "127032     8\n",
              "127033    23\n",
              "127034    10\n",
              "127035    37\n",
              "127036    33\n",
              "Name: Vintage, Length: 508146, dtype: int64"
            ]
          },
          "metadata": {
            "tags": []
          },
          "execution_count": 67
        }
      ]
    },
    {
      "cell_type": "code",
      "metadata": {
        "id": "d3XkF6pgDAcq",
        "colab_type": "code",
        "colab": {}
      },
      "source": [
        "combined['Monthly_Premium'] = combined['Annual_Premium'] / 12\n",
        "combined['Vintage_weeks'] = combined['Vintage'] // 7"
      ],
      "execution_count": null,
      "outputs": []
    },
    {
      "cell_type": "markdown",
      "metadata": {
        "id": "DrWgJEYHEeWu",
        "colab_type": "text"
      },
      "source": [
        "## Normalization"
      ]
    },
    {
      "cell_type": "code",
      "metadata": {
        "colab_type": "code",
        "id": "4EQKRoM_Eg98",
        "colab": {}
      },
      "source": [
        "Age_mean = combined['Age'].mean()\n",
        "Age_std = combined['Age'].std()\n",
        "combined['Age'] = combined['Age'].apply(z_score, args=(Age_mean, Age_std))"
      ],
      "execution_count": null,
      "outputs": []
    },
    {
      "cell_type": "code",
      "metadata": {
        "colab_type": "code",
        "id": "3Wc0UUZ4Eg-C",
        "colab": {}
      },
      "source": [
        "Premium_mean = combined['Annual_Premium'].mean()\n",
        "Premium_std = combined['Annual_Premium'].std()\n",
        "combined['Annual_Premium'] = combined['Annual_Premium'].apply(z_score, args=(Premium_mean, Premium_std))"
      ],
      "execution_count": null,
      "outputs": []
    },
    {
      "cell_type": "code",
      "metadata": {
        "colab_type": "code",
        "id": "EikAJ0DSEg-G",
        "colab": {}
      },
      "source": [
        "Vintage_mean = combined['Vintage'].mean()\n",
        "Vintage_std = combined['Vintage'].std()\n",
        "combined['Vintage'] = combined['Vintage'].apply(z_score, args=(Vintage_mean, Vintage_std))"
      ],
      "execution_count": null,
      "outputs": []
    },
    {
      "cell_type": "markdown",
      "metadata": {
        "id": "XAbO2N3bGZMr",
        "colab_type": "text"
      },
      "source": [
        "# Model"
      ]
    },
    {
      "cell_type": "markdown",
      "metadata": {
        "id": "vjq3z-5TJPtF",
        "colab_type": "text"
      },
      "source": [
        "## Helpful method for accuracy detection"
      ]
    },
    {
      "cell_type": "code",
      "metadata": {
        "id": "lL2C9GQhJUPO",
        "colab_type": "code",
        "colab": {}
      },
      "source": [
        "def print_score(m):\n",
        "  all_metrics = [m.score(X_train,y_train),m.score(X_test,y_test), m.score(X_valid, y_valid)]\n",
        "  if hasattr(m,\"oob_score\"):\n",
        "    all_metrics.append(m.oob_score)\n",
        "  return all_metrics \n",
        "\n",
        "\n",
        "def evaluate_model(y_true, y_pred):\n",
        "    print('confusion matrix')\n",
        "    cm = confusion_matrix(y_true, y_pred)\n",
        "    cm_df = pd.DataFrame(cm.T)\n",
        "    cm_df.index.name = 'Predicted'\n",
        "    cm_df.columns.name = 'True'\n",
        "    print(cm_df)\n",
        "    print('classification report')\n",
        "    print(classification_report(y_true,y_pred))\n",
        "    print('accuracy score')\n",
        "    print(accuracy_score(y_true, y_pred))"
      ],
      "execution_count": null,
      "outputs": []
    },
    {
      "cell_type": "markdown",
      "metadata": {
        "id": "oPMchrW-HOFv",
        "colab_type": "text"
      },
      "source": [
        "## Splitting into train and test"
      ]
    },
    {
      "cell_type": "code",
      "metadata": {
        "id": "oSzOqGgwHCfb",
        "colab_type": "code",
        "colab": {
          "base_uri": "https://localhost:8080/",
          "height": 151
        },
        "outputId": "496d85a7-915b-459f-fd32-1510c829b2e7"
      },
      "source": [
        "combined.columns"
      ],
      "execution_count": null,
      "outputs": [
        {
          "output_type": "execute_result",
          "data": {
            "text/plain": [
              "Index(['id', 'Age', 'Driving_License', 'Region_Code', 'Previously_Insured',\n",
              "       'Vehicle_Age', 'Vehicle_Damage', 'Annual_Premium',\n",
              "       'Policy_Sales_Channel', 'Vintage',\n",
              "       ...\n",
              "       'channel_users', 'channel_effort', 'Age_group', 'Age_grp_premium',\n",
              "       'Age_grp_premium1', 'customer_seg', 'Age_customer_seg',\n",
              "       'Revenue_customer_seg', 'Monthly_Premium', 'Vintage_weeks'],\n",
              "      dtype='object', length=124)"
            ]
          },
          "metadata": {
            "tags": []
          },
          "execution_count": 73
        }
      ]
    },
    {
      "cell_type": "code",
      "metadata": {
        "id": "irNbamPqHETE",
        "colab_type": "code",
        "colab": {}
      },
      "source": [
        "train = combined[combined['is_train'] == 1]\n",
        "test = combined[combined['is_train'] == 0]"
      ],
      "execution_count": null,
      "outputs": []
    },
    {
      "cell_type": "code",
      "metadata": {
        "id": "v1wZ8HpIHMiV",
        "colab_type": "code",
        "colab": {
          "base_uri": "https://localhost:8080/",
          "height": 244
        },
        "outputId": "1337f35d-ce96-4c47-e32b-3bb45e7d3c72"
      },
      "source": [
        "train.head()"
      ],
      "execution_count": null,
      "outputs": [
        {
          "output_type": "execute_result",
          "data": {
            "text/html": [
              "<div>\n",
              "<style scoped>\n",
              "    .dataframe tbody tr th:only-of-type {\n",
              "        vertical-align: middle;\n",
              "    }\n",
              "\n",
              "    .dataframe tbody tr th {\n",
              "        vertical-align: top;\n",
              "    }\n",
              "\n",
              "    .dataframe thead th {\n",
              "        text-align: right;\n",
              "    }\n",
              "</style>\n",
              "<table border=\"1\" class=\"dataframe\">\n",
              "  <thead>\n",
              "    <tr style=\"text-align: right;\">\n",
              "      <th></th>\n",
              "      <th>id</th>\n",
              "      <th>Age</th>\n",
              "      <th>Driving_License</th>\n",
              "      <th>Region_Code</th>\n",
              "      <th>Previously_Insured</th>\n",
              "      <th>Vehicle_Age</th>\n",
              "      <th>Vehicle_Damage</th>\n",
              "      <th>Annual_Premium</th>\n",
              "      <th>Policy_Sales_Channel</th>\n",
              "      <th>Vintage</th>\n",
              "      <th>Response</th>\n",
              "      <th>is_train</th>\n",
              "      <th>Gender_Female</th>\n",
              "      <th>Gender_Male</th>\n",
              "      <th>mean_Age_per_region_code</th>\n",
              "      <th>sum_Age_per_region_code</th>\n",
              "      <th>max_Age_per_region_code</th>\n",
              "      <th>min_Age_per_region_code</th>\n",
              "      <th>mean_Annual_Premium_per_region_code</th>\n",
              "      <th>sum_Annual_Premium_per_region_code</th>\n",
              "      <th>max_Annual_Premium_per_region_code</th>\n",
              "      <th>min_Annual_Premium_per_region_code</th>\n",
              "      <th>mean_Vintage_per_region_code</th>\n",
              "      <th>sum_Vintage_per_region_code</th>\n",
              "      <th>max_Vintage_per_region_code</th>\n",
              "      <th>min_Vintage_per_region_code</th>\n",
              "      <th>mean_Age_per_channel</th>\n",
              "      <th>sum_Age_per_channel</th>\n",
              "      <th>max_Age_per_channel</th>\n",
              "      <th>min_Age_per_channel</th>\n",
              "      <th>mean_Annual_Premium_per_channel</th>\n",
              "      <th>sum_Annual_Premium_per_channel</th>\n",
              "      <th>max_Annual_Premium_per_channel</th>\n",
              "      <th>min_Annual_Premium_per_channel</th>\n",
              "      <th>mean_Vintage_per_channel</th>\n",
              "      <th>sum_Vintage_per_channel</th>\n",
              "      <th>max_Vintage_per_channel</th>\n",
              "      <th>min_Vintage_per_channel</th>\n",
              "      <th>mean_Age_per_vehicle_age</th>\n",
              "      <th>sum_Age_per_vehicle_age</th>\n",
              "      <th>...</th>\n",
              "      <th>max_Vintage_per_Driving_License</th>\n",
              "      <th>min_Vintage_per_Driving_License</th>\n",
              "      <th>Premium_by_age</th>\n",
              "      <th>mean_Age_per_insured_damage</th>\n",
              "      <th>sum_Age_per_insured_damage</th>\n",
              "      <th>max_Age_per_insured_damage</th>\n",
              "      <th>min_Age_per_insured_damage</th>\n",
              "      <th>mean_Annual_Premium_per_insured_damage</th>\n",
              "      <th>sum_Annual_Premium_per_insured_damage</th>\n",
              "      <th>max_Annual_Premium_per_insured_damage</th>\n",
              "      <th>min_Annual_Premium_per_insured_damage</th>\n",
              "      <th>mean_Vintage_per_insured_damage</th>\n",
              "      <th>sum_Vintage_per_insured_damage</th>\n",
              "      <th>max_Vintage_per_insured_damage</th>\n",
              "      <th>min_Vintage_per_insured_damage</th>\n",
              "      <th>mean_Age_per_insured_damage_license</th>\n",
              "      <th>sum_Age_per_insured_damage_license</th>\n",
              "      <th>max_Age_per_insured_damage_license</th>\n",
              "      <th>min_Age_per_insured_damage_license</th>\n",
              "      <th>mean_Annual_Premium_per_insured_damage_license</th>\n",
              "      <th>sum_Annual_Premium_per_insured_damage_license</th>\n",
              "      <th>max_Annual_Premium_per_insured_damage_license</th>\n",
              "      <th>min_Annual_Premium_per_insured_damage_license</th>\n",
              "      <th>mean_Vintage_per_insured_damage_license</th>\n",
              "      <th>sum_Vintage_per_insured_damage_license</th>\n",
              "      <th>max_Vintage_per_insured_damage_license</th>\n",
              "      <th>min_Vintage_per_insured_damage_license</th>\n",
              "      <th>Driving_License_per_Region_code</th>\n",
              "      <th>PreviouslyInsured_per_Region_code</th>\n",
              "      <th>VehicleDamage_per_Region_code</th>\n",
              "      <th>channel_users</th>\n",
              "      <th>channel_effort</th>\n",
              "      <th>Age_group</th>\n",
              "      <th>Age_grp_premium</th>\n",
              "      <th>Age_grp_premium1</th>\n",
              "      <th>customer_seg</th>\n",
              "      <th>Age_customer_seg</th>\n",
              "      <th>Revenue_customer_seg</th>\n",
              "      <th>Monthly_Premium</th>\n",
              "      <th>Vintage_weeks</th>\n",
              "    </tr>\n",
              "  </thead>\n",
              "  <tbody>\n",
              "    <tr>\n",
              "      <th>0</th>\n",
              "      <td>1</td>\n",
              "      <td>0.334937</td>\n",
              "      <td>1</td>\n",
              "      <td>28.0</td>\n",
              "      <td>0</td>\n",
              "      <td>3</td>\n",
              "      <td>1</td>\n",
              "      <td>0.577348</td>\n",
              "      <td>26.0</td>\n",
              "      <td>0.748904</td>\n",
              "      <td>1.0</td>\n",
              "      <td>1</td>\n",
              "      <td>0</td>\n",
              "      <td>1</td>\n",
              "      <td>46.223536</td>\n",
              "      <td>6560830</td>\n",
              "      <td>85</td>\n",
              "      <td>20</td>\n",
              "      <td>38649.878763</td>\n",
              "      <td>5.485848e+09</td>\n",
              "      <td>540165.0</td>\n",
              "      <td>2630.0</td>\n",
              "      <td>154.266618</td>\n",
              "      <td>21896141</td>\n",
              "      <td>299</td>\n",
              "      <td>10</td>\n",
              "      <td>50.630664</td>\n",
              "      <td>5396925</td>\n",
              "      <td>85</td>\n",
              "      <td>20</td>\n",
              "      <td>33639.830863</td>\n",
              "      <td>3.585804e+09</td>\n",
              "      <td>540165.0</td>\n",
              "      <td>2630.0</td>\n",
              "      <td>154.405070</td>\n",
              "      <td>16458654</td>\n",
              "      <td>299</td>\n",
              "      <td>10</td>\n",
              "      <td>55.111085</td>\n",
              "      <td>1175299</td>\n",
              "      <td>...</td>\n",
              "      <td>299</td>\n",
              "      <td>10</td>\n",
              "      <td>919.409091</td>\n",
              "      <td>43.099342</td>\n",
              "      <td>10474347</td>\n",
              "      <td>85</td>\n",
              "      <td>20</td>\n",
              "      <td>30886.442472</td>\n",
              "      <td>7.506270e+09</td>\n",
              "      <td>540165.0</td>\n",
              "      <td>2630.0</td>\n",
              "      <td>154.187394</td>\n",
              "      <td>37471854</td>\n",
              "      <td>299</td>\n",
              "      <td>10</td>\n",
              "      <td>43.038895</td>\n",
              "      <td>10431380</td>\n",
              "      <td>85</td>\n",
              "      <td>20</td>\n",
              "      <td>30874.077567</td>\n",
              "      <td>7.482981e+09</td>\n",
              "      <td>540165.0</td>\n",
              "      <td>2630.0</td>\n",
              "      <td>154.181598</td>\n",
              "      <td>37369148</td>\n",
              "      <td>299</td>\n",
              "      <td>10</td>\n",
              "      <td>141486</td>\n",
              "      <td>44166</td>\n",
              "      <td>93767</td>\n",
              "      <td>32235</td>\n",
              "      <td>106594</td>\n",
              "      <td>7.0</td>\n",
              "      <td>31182.334555</td>\n",
              "      <td>17803.080293</td>\n",
              "      <td>6</td>\n",
              "      <td>55.114958</td>\n",
              "      <td>35654.103340</td>\n",
              "      <td>3371.166667</td>\n",
              "      <td>31</td>\n",
              "    </tr>\n",
              "    <tr>\n",
              "      <th>1</th>\n",
              "      <td>2</td>\n",
              "      <td>2.399430</td>\n",
              "      <td>1</td>\n",
              "      <td>3.0</td>\n",
              "      <td>0</td>\n",
              "      <td>2</td>\n",
              "      <td>0</td>\n",
              "      <td>0.173886</td>\n",
              "      <td>26.0</td>\n",
              "      <td>0.342540</td>\n",
              "      <td>0.0</td>\n",
              "      <td>1</td>\n",
              "      <td>0</td>\n",
              "      <td>1</td>\n",
              "      <td>36.980970</td>\n",
              "      <td>456678</td>\n",
              "      <td>82</td>\n",
              "      <td>20</td>\n",
              "      <td>24465.445218</td>\n",
              "      <td>3.021238e+08</td>\n",
              "      <td>424578.0</td>\n",
              "      <td>2630.0</td>\n",
              "      <td>154.864442</td>\n",
              "      <td>1912421</td>\n",
              "      <td>299</td>\n",
              "      <td>10</td>\n",
              "      <td>50.630664</td>\n",
              "      <td>5396925</td>\n",
              "      <td>85</td>\n",
              "      <td>20</td>\n",
              "      <td>33639.830863</td>\n",
              "      <td>3.585804e+09</td>\n",
              "      <td>540165.0</td>\n",
              "      <td>2630.0</td>\n",
              "      <td>154.405070</td>\n",
              "      <td>16458654</td>\n",
              "      <td>299</td>\n",
              "      <td>10</td>\n",
              "      <td>49.017962</td>\n",
              "      <td>13088531</td>\n",
              "      <td>...</td>\n",
              "      <td>299</td>\n",
              "      <td>10</td>\n",
              "      <td>441.263158</td>\n",
              "      <td>37.568585</td>\n",
              "      <td>1203998</td>\n",
              "      <td>84</td>\n",
              "      <td>20</td>\n",
              "      <td>27389.917904</td>\n",
              "      <td>8.777921e+08</td>\n",
              "      <td>337573.0</td>\n",
              "      <td>2630.0</td>\n",
              "      <td>154.398402</td>\n",
              "      <td>4948160</td>\n",
              "      <td>299</td>\n",
              "      <td>10</td>\n",
              "      <td>37.495621</td>\n",
              "      <td>1198810</td>\n",
              "      <td>84</td>\n",
              "      <td>20</td>\n",
              "      <td>27368.564682</td>\n",
              "      <td>8.750278e+08</td>\n",
              "      <td>337573.0</td>\n",
              "      <td>2630.0</td>\n",
              "      <td>154.385744</td>\n",
              "      <td>4936021</td>\n",
              "      <td>299</td>\n",
              "      <td>10</td>\n",
              "      <td>12328</td>\n",
              "      <td>6000</td>\n",
              "      <td>5937</td>\n",
              "      <td>32235</td>\n",
              "      <td>106594</td>\n",
              "      <td>17.0</td>\n",
              "      <td>34877.882420</td>\n",
              "      <td>19182.468086</td>\n",
              "      <td>3</td>\n",
              "      <td>38.580845</td>\n",
              "      <td>27488.904116</td>\n",
              "      <td>2794.666667</td>\n",
              "      <td>26</td>\n",
              "    </tr>\n",
              "    <tr>\n",
              "      <th>2</th>\n",
              "      <td>3</td>\n",
              "      <td>0.528483</td>\n",
              "      <td>1</td>\n",
              "      <td>28.0</td>\n",
              "      <td>0</td>\n",
              "      <td>3</td>\n",
              "      <td>1</td>\n",
              "      <td>0.451376</td>\n",
              "      <td>26.0</td>\n",
              "      <td>-1.521955</td>\n",
              "      <td>1.0</td>\n",
              "      <td>1</td>\n",
              "      <td>0</td>\n",
              "      <td>1</td>\n",
              "      <td>46.223536</td>\n",
              "      <td>6560830</td>\n",
              "      <td>85</td>\n",
              "      <td>20</td>\n",
              "      <td>38649.878763</td>\n",
              "      <td>5.485848e+09</td>\n",
              "      <td>540165.0</td>\n",
              "      <td>2630.0</td>\n",
              "      <td>154.266618</td>\n",
              "      <td>21896141</td>\n",
              "      <td>299</td>\n",
              "      <td>10</td>\n",
              "      <td>50.630664</td>\n",
              "      <td>5396925</td>\n",
              "      <td>85</td>\n",
              "      <td>20</td>\n",
              "      <td>33639.830863</td>\n",
              "      <td>3.585804e+09</td>\n",
              "      <td>540165.0</td>\n",
              "      <td>2630.0</td>\n",
              "      <td>154.405070</td>\n",
              "      <td>16458654</td>\n",
              "      <td>299</td>\n",
              "      <td>10</td>\n",
              "      <td>55.111085</td>\n",
              "      <td>1175299</td>\n",
              "      <td>...</td>\n",
              "      <td>299</td>\n",
              "      <td>10</td>\n",
              "      <td>814.765957</td>\n",
              "      <td>43.099342</td>\n",
              "      <td>10474347</td>\n",
              "      <td>85</td>\n",
              "      <td>20</td>\n",
              "      <td>30886.442472</td>\n",
              "      <td>7.506270e+09</td>\n",
              "      <td>540165.0</td>\n",
              "      <td>2630.0</td>\n",
              "      <td>154.187394</td>\n",
              "      <td>37471854</td>\n",
              "      <td>299</td>\n",
              "      <td>10</td>\n",
              "      <td>43.038895</td>\n",
              "      <td>10431380</td>\n",
              "      <td>85</td>\n",
              "      <td>20</td>\n",
              "      <td>30874.077567</td>\n",
              "      <td>7.482981e+09</td>\n",
              "      <td>540165.0</td>\n",
              "      <td>2630.0</td>\n",
              "      <td>154.181598</td>\n",
              "      <td>37369148</td>\n",
              "      <td>299</td>\n",
              "      <td>10</td>\n",
              "      <td>141486</td>\n",
              "      <td>44166</td>\n",
              "      <td>93767</td>\n",
              "      <td>32235</td>\n",
              "      <td>106594</td>\n",
              "      <td>8.0</td>\n",
              "      <td>31531.632683</td>\n",
              "      <td>18610.090269</td>\n",
              "      <td>6</td>\n",
              "      <td>55.114958</td>\n",
              "      <td>35654.103340</td>\n",
              "      <td>3191.166667</td>\n",
              "      <td>3</td>\n",
              "    </tr>\n",
              "    <tr>\n",
              "      <th>3</th>\n",
              "      <td>4</td>\n",
              "      <td>-1.148917</td>\n",
              "      <td>1</td>\n",
              "      <td>11.0</td>\n",
              "      <td>1</td>\n",
              "      <td>1</td>\n",
              "      <td>0</td>\n",
              "      <td>-0.112877</td>\n",
              "      <td>152.0</td>\n",
              "      <td>0.581577</td>\n",
              "      <td>0.0</td>\n",
              "      <td>1</td>\n",
              "      <td>0</td>\n",
              "      <td>1</td>\n",
              "      <td>34.235480</td>\n",
              "      <td>422055</td>\n",
              "      <td>82</td>\n",
              "      <td>20</td>\n",
              "      <td>27655.183160</td>\n",
              "      <td>3.409331e+08</td>\n",
              "      <td>193637.0</td>\n",
              "      <td>2630.0</td>\n",
              "      <td>154.520360</td>\n",
              "      <td>1904927</td>\n",
              "      <td>299</td>\n",
              "      <td>10</td>\n",
              "      <td>26.211884</td>\n",
              "      <td>4705636</td>\n",
              "      <td>80</td>\n",
              "      <td>20</td>\n",
              "      <td>30898.685511</td>\n",
              "      <td>5.547025e+09</td>\n",
              "      <td>495106.0</td>\n",
              "      <td>2630.0</td>\n",
              "      <td>154.624338</td>\n",
              "      <td>27758625</td>\n",
              "      <td>299</td>\n",
              "      <td>10</td>\n",
              "      <td>24.824322</td>\n",
              "      <td>5456510</td>\n",
              "      <td>...</td>\n",
              "      <td>299</td>\n",
              "      <td>10</td>\n",
              "      <td>1362.809524</td>\n",
              "      <td>34.182770</td>\n",
              "      <td>7515082</td>\n",
              "      <td>85</td>\n",
              "      <td>20</td>\n",
              "      <td>30827.433491</td>\n",
              "      <td>6.777411e+09</td>\n",
              "      <td>540165.0</td>\n",
              "      <td>2630.0</td>\n",
              "      <td>154.435888</td>\n",
              "      <td>33952730</td>\n",
              "      <td>299</td>\n",
              "      <td>10</td>\n",
              "      <td>34.144448</td>\n",
              "      <td>7497711</td>\n",
              "      <td>85</td>\n",
              "      <td>20</td>\n",
              "      <td>30824.079704</td>\n",
              "      <td>6.768598e+09</td>\n",
              "      <td>540165.0</td>\n",
              "      <td>2630.0</td>\n",
              "      <td>154.438708</td>\n",
              "      <td>33912887</td>\n",
              "      <td>299</td>\n",
              "      <td>10</td>\n",
              "      <td>12314</td>\n",
              "      <td>7662</td>\n",
              "      <td>4386</td>\n",
              "      <td>131134</td>\n",
              "      <td>179523</td>\n",
              "      <td>0.0</td>\n",
              "      <td>30359.728682</td>\n",
              "      <td>14445.049083</td>\n",
              "      <td>0</td>\n",
              "      <td>26.155998</td>\n",
              "      <td>29913.830735</td>\n",
              "      <td>2384.916667</td>\n",
              "      <td>29</td>\n",
              "    </tr>\n",
              "    <tr>\n",
              "      <th>4</th>\n",
              "      <td>5</td>\n",
              "      <td>-0.632794</td>\n",
              "      <td>1</td>\n",
              "      <td>41.0</td>\n",
              "      <td>1</td>\n",
              "      <td>1</td>\n",
              "      <td>0</td>\n",
              "      <td>-0.178371</td>\n",
              "      <td>152.0</td>\n",
              "      <td>-1.378532</td>\n",
              "      <td>0.0</td>\n",
              "      <td>1</td>\n",
              "      <td>1</td>\n",
              "      <td>0</td>\n",
              "      <td>36.404016</td>\n",
              "      <td>888258</td>\n",
              "      <td>83</td>\n",
              "      <td>20</td>\n",
              "      <td>30948.979918</td>\n",
              "      <td>7.551551e+08</td>\n",
              "      <td>339396.0</td>\n",
              "      <td>2630.0</td>\n",
              "      <td>154.851189</td>\n",
              "      <td>3778369</td>\n",
              "      <td>299</td>\n",
              "      <td>10</td>\n",
              "      <td>26.211884</td>\n",
              "      <td>4705636</td>\n",
              "      <td>80</td>\n",
              "      <td>20</td>\n",
              "      <td>30898.685511</td>\n",
              "      <td>5.547025e+09</td>\n",
              "      <td>495106.0</td>\n",
              "      <td>2630.0</td>\n",
              "      <td>154.624338</td>\n",
              "      <td>27758625</td>\n",
              "      <td>299</td>\n",
              "      <td>10</td>\n",
              "      <td>24.824322</td>\n",
              "      <td>5456510</td>\n",
              "      <td>...</td>\n",
              "      <td>299</td>\n",
              "      <td>10</td>\n",
              "      <td>948.137931</td>\n",
              "      <td>34.182770</td>\n",
              "      <td>7515082</td>\n",
              "      <td>85</td>\n",
              "      <td>20</td>\n",
              "      <td>30827.433491</td>\n",
              "      <td>6.777411e+09</td>\n",
              "      <td>540165.0</td>\n",
              "      <td>2630.0</td>\n",
              "      <td>154.435888</td>\n",
              "      <td>33952730</td>\n",
              "      <td>299</td>\n",
              "      <td>10</td>\n",
              "      <td>34.144448</td>\n",
              "      <td>7497711</td>\n",
              "      <td>85</td>\n",
              "      <td>20</td>\n",
              "      <td>30824.079704</td>\n",
              "      <td>6.768598e+09</td>\n",
              "      <td>540165.0</td>\n",
              "      <td>2630.0</td>\n",
              "      <td>154.438708</td>\n",
              "      <td>33912887</td>\n",
              "      <td>299</td>\n",
              "      <td>10</td>\n",
              "      <td>24360</td>\n",
              "      <td>13820</td>\n",
              "      <td>10082</td>\n",
              "      <td>131134</td>\n",
              "      <td>179523</td>\n",
              "      <td>2.0</td>\n",
              "      <td>28522.279317</td>\n",
              "      <td>15567.305865</td>\n",
              "      <td>0</td>\n",
              "      <td>26.155998</td>\n",
              "      <td>29913.830735</td>\n",
              "      <td>2291.333333</td>\n",
              "      <td>5</td>\n",
              "    </tr>\n",
              "  </tbody>\n",
              "</table>\n",
              "<p>5 rows × 124 columns</p>\n",
              "</div>"
            ],
            "text/plain": [
              "   id       Age  ...  Monthly_Premium  Vintage_weeks\n",
              "0   1  0.334937  ...      3371.166667             31\n",
              "1   2  2.399430  ...      2794.666667             26\n",
              "2   3  0.528483  ...      3191.166667              3\n",
              "3   4 -1.148917  ...      2384.916667             29\n",
              "4   5 -0.632794  ...      2291.333333              5\n",
              "\n",
              "[5 rows x 124 columns]"
            ]
          },
          "metadata": {
            "tags": []
          },
          "execution_count": 79
        }
      ]
    },
    {
      "cell_type": "code",
      "metadata": {
        "id": "WGxBVBhbHSRm",
        "colab_type": "code",
        "colab": {
          "base_uri": "https://localhost:8080/",
          "height": 151
        },
        "outputId": "360f8326-2223-44c2-abdb-474a97b09628"
      },
      "source": [
        "train.columns"
      ],
      "execution_count": null,
      "outputs": [
        {
          "output_type": "execute_result",
          "data": {
            "text/plain": [
              "Index(['id', 'Age', 'Driving_License', 'Region_Code', 'Previously_Insured',\n",
              "       'Vehicle_Age', 'Vehicle_Damage', 'Annual_Premium',\n",
              "       'Policy_Sales_Channel', 'Vintage',\n",
              "       ...\n",
              "       'channel_users', 'channel_effort', 'Age_group', 'Age_grp_premium',\n",
              "       'Age_grp_premium1', 'customer_seg', 'Age_customer_seg',\n",
              "       'Revenue_customer_seg', 'Monthly_Premium', 'Vintage_weeks'],\n",
              "      dtype='object', length=124)"
            ]
          },
          "metadata": {
            "tags": []
          },
          "execution_count": 80
        }
      ]
    },
    {
      "cell_type": "markdown",
      "metadata": {
        "id": "UbagX17NGa55",
        "colab_type": "text"
      },
      "source": [
        "## Upsample"
      ]
    },
    {
      "cell_type": "code",
      "metadata": {
        "id": "raxcfZVkGhsU",
        "colab_type": "code",
        "colab": {
          "base_uri": "https://localhost:8080/",
          "height": 67
        },
        "outputId": "b165946c-6af1-44d2-f66d-35728a6af432"
      },
      "source": [
        "combined['Response'].value_counts()"
      ],
      "execution_count": null,
      "outputs": [
        {
          "output_type": "execute_result",
          "data": {
            "text/plain": [
              "0.0    334399\n",
              "1.0     46710\n",
              "Name: Response, dtype: int64"
            ]
          },
          "metadata": {
            "tags": []
          },
          "execution_count": 81
        }
      ]
    },
    {
      "cell_type": "code",
      "metadata": {
        "id": "kXJaM8b8Gcg3",
        "colab_type": "code",
        "colab": {}
      },
      "source": [
        "df_majority = combined[combined.Response==0.0]\n",
        "df_minority = combined[combined.Response==1.0]\n",
        " \n",
        "# downsample majority class\n",
        "df_majority_downsampled = resample(df_majority, \n",
        "                                 replace=False,     # sample with replacement\n",
        "                                 n_samples=46710,    # to match minority class\n",
        "                                 random_state=123) # reproducible results\n",
        " \n",
        "# Combine majority class with upsampled minority class\n",
        "df_downsampled = pd.concat([df_minority, df_majority_downsampled])\n",
        " "
      ],
      "execution_count": null,
      "outputs": []
    },
    {
      "cell_type": "code",
      "metadata": {
        "id": "V9YAwQa2GvNa",
        "colab_type": "code",
        "colab": {
          "base_uri": "https://localhost:8080/",
          "height": 67
        },
        "outputId": "52b9834d-3c82-4b30-bc90-7c73a604cd3f"
      },
      "source": [
        "df_downsampled['Response'].value_counts()"
      ],
      "execution_count": null,
      "outputs": [
        {
          "output_type": "execute_result",
          "data": {
            "text/plain": [
              "0.0    46710\n",
              "1.0    46710\n",
              "Name: Response, dtype: int64"
            ]
          },
          "metadata": {
            "tags": []
          },
          "execution_count": 617
        }
      ]
    },
    {
      "cell_type": "code",
      "metadata": {
        "id": "fjP6oNwXGyRl",
        "colab_type": "code",
        "colab": {}
      },
      "source": [
        "train = df_downsampled.copy()"
      ],
      "execution_count": null,
      "outputs": []
    },
    {
      "cell_type": "markdown",
      "metadata": {
        "id": "ZXRSv5VBKyJk",
        "colab_type": "text"
      },
      "source": [
        "## Split into X and y"
      ]
    },
    {
      "cell_type": "markdown",
      "metadata": {
        "id": "RV57-dFINKg6",
        "colab_type": "text"
      },
      "source": [
        "### Single class model "
      ]
    },
    {
      "cell_type": "code",
      "metadata": {
        "id": "Y6xh24OmM0mJ",
        "colab_type": "code",
        "colab": {}
      },
      "source": [
        "single_class = train[train['Response'] == 1.0]\n",
        "X = single_class.drop(['id','Response','is_train'],axis=1)\n",
        "y = single_class['Response']"
      ],
      "execution_count": null,
      "outputs": []
    },
    {
      "cell_type": "code",
      "metadata": {
        "id": "6F6VRFQANSgF",
        "colab_type": "code",
        "colab": {}
      },
      "source": [
        "X_test = test.drop(['id','Response','is_train'],axis=1)"
      ],
      "execution_count": null,
      "outputs": []
    },
    {
      "cell_type": "code",
      "metadata": {
        "id": "INGnjt7GR8Oj",
        "colab_type": "code",
        "colab": {}
      },
      "source": [
        ""
      ],
      "execution_count": null,
      "outputs": []
    },
    {
      "cell_type": "code",
      "metadata": {
        "id": "aszhX45jNOFh",
        "colab_type": "code",
        "colab": {
          "base_uri": "https://localhost:8080/",
          "height": 118
        },
        "outputId": "36604695-ac96-4719-925c-9d8530fd6bd3"
      },
      "source": [
        "model = lgb.LGBMClassifier(n_estimators=200)\n",
        "model.fit(X,y)"
      ],
      "execution_count": null,
      "outputs": [
        {
          "output_type": "execute_result",
          "data": {
            "text/plain": [
              "LGBMClassifier(boosting_type='gbdt', class_weight=None, colsample_bytree=1.0,\n",
              "               importance_type='split', learning_rate=0.1, max_depth=-1,\n",
              "               min_child_samples=20, min_child_weight=0.001, min_split_gain=0.0,\n",
              "               n_estimators=200, n_jobs=-1, num_leaves=31, objective=None,\n",
              "               random_state=None, reg_alpha=0.0, reg_lambda=0.0, silent=True,\n",
              "               subsample=1.0, subsample_for_bin=200000, subsample_freq=0)"
            ]
          },
          "metadata": {
            "tags": []
          },
          "execution_count": 70
        }
      ]
    },
    {
      "cell_type": "code",
      "metadata": {
        "id": "PihEamb6SE_Q",
        "colab_type": "code",
        "colab": {}
      },
      "source": [
        "y_pred_test = model.predict_proba()"
      ],
      "execution_count": null,
      "outputs": []
    },
    {
      "cell_type": "code",
      "metadata": {
        "id": "G3iQDWkwSnZr",
        "colab_type": "code",
        "colab": {
          "base_uri": "https://localhost:8080/",
          "height": 34
        },
        "outputId": "5bbe8173-3c94-4e69-e260-3ba45e499bda"
      },
      "source": [
        "y_pred_test"
      ],
      "execution_count": null,
      "outputs": [
        {
          "output_type": "execute_result",
          "data": {
            "text/plain": [
              "array([1., 1., 1., ..., 1., 1., 1.])"
            ]
          },
          "metadata": {
            "tags": []
          },
          "execution_count": 78
        }
      ]
    },
    {
      "cell_type": "code",
      "metadata": {
        "id": "VcIujXxUSI6V",
        "colab_type": "code",
        "colab": {}
      },
      "source": [
        "B = np.where(y_pred_test > 0.5, 1, 0)"
      ],
      "execution_count": null,
      "outputs": []
    },
    {
      "cell_type": "code",
      "metadata": {
        "id": "lvR1wbsbSbQL",
        "colab_type": "code",
        "colab": {
          "base_uri": "https://localhost:8080/",
          "height": 34
        },
        "outputId": "a18a6a50-2d48-4c5b-f033-5e8dfcd9e5e0"
      },
      "source": [
        "B.shape"
      ],
      "execution_count": null,
      "outputs": [
        {
          "output_type": "execute_result",
          "data": {
            "text/plain": [
              "(127037, 2)"
            ]
          },
          "metadata": {
            "tags": []
          },
          "execution_count": 75
        }
      ]
    },
    {
      "cell_type": "markdown",
      "metadata": {
        "id": "zUto2iRHNM0r",
        "colab_type": "text"
      },
      "source": [
        "## Split"
      ]
    },
    {
      "cell_type": "code",
      "metadata": {
        "id": "cPtlfU6-rvmk",
        "colab_type": "code",
        "colab": {}
      },
      "source": [
        "X = train.drop(['id','Response','is_train'],axis=1)\n",
        "y = train['Response']\n",
        "\n",
        "X_test = test.drop(['id','Response','is_train'],axis=1)\n",
        "y_test = test['Response']"
      ],
      "execution_count": null,
      "outputs": []
    },
    {
      "cell_type": "code",
      "metadata": {
        "id": "m9No1UPxHncZ",
        "colab_type": "code",
        "colab": {}
      },
      "source": [
        "# X = train[['Age', 'Driving_License', 'Region_Code', 'Previously_Insured',\n",
        "#        'Vehicle_Age', 'Vehicle_Damage', 'Annual_Premium',\n",
        "#        'Policy_Sales_Channel', 'Vintage',\n",
        "#       'Gender_Female', 'Gender_Male']]\n",
        "# y = train['Response']\n",
        "\n",
        "# X_test = test[['Age', 'Driving_License', 'Region_Code', 'Previously_Insured',\n",
        "#        'Vehicle_Age', 'Vehicle_Damage', 'Annual_Premium',\n",
        "#        'Policy_Sales_Channel', 'Vintage',\n",
        "#       'Gender_Female', 'Gender_Male']]\n",
        "# y_test = test['Response']\n",
        " "
      ],
      "execution_count": null,
      "outputs": []
    },
    {
      "cell_type": "code",
      "metadata": {
        "id": "LcHK0ysrH4OF",
        "colab_type": "code",
        "colab": {}
      },
      "source": [
        "X_train, X_valid, y_train, y_valid = train_test_split(X, y, test_size=0.2, random_state=88)"
      ],
      "execution_count": null,
      "outputs": []
    },
    {
      "cell_type": "markdown",
      "metadata": {
        "id": "1KNJwE48IXrG",
        "colab_type": "text"
      },
      "source": [
        "## LightGBM"
      ]
    },
    {
      "cell_type": "code",
      "metadata": {
        "id": "_A_s8OmnIas8",
        "colab_type": "code",
        "colab": {
          "base_uri": "https://localhost:8080/",
          "height": 336
        },
        "outputId": "32e056c7-2613-4beb-926c-262620870da3"
      },
      "source": [
        "estimators = [500]\n",
        "for estimator in estimators:\n",
        "  model = lgb.LGBMClassifier(random_state=0, n_estimators=estimator, \n",
        "                                      learning_rate=0.1, num_leaves=31,\n",
        "                                      is_unbalance=True)\n",
        "  model.fit(X_train,y_train)\n",
        "\n",
        "  print(\"Estimators ===>{}\".format(estimator))\n",
        "  y_pred = model.predict(X_valid)\n",
        "  evaluate_model(y_valid,y_pred)\n",
        "  print(\"===============================================\")"
      ],
      "execution_count": null,
      "outputs": [
        {
          "output_type": "stream",
          "text": [
            "Estimators ===>500\n",
            "confusion matrix\n",
            "True           0     1\n",
            "Predicted             \n",
            "0          46361   937\n",
            "1          20507  8417\n",
            "classification report\n",
            "              precision    recall  f1-score   support\n",
            "\n",
            "         0.0       0.98      0.69      0.81     66868\n",
            "         1.0       0.29      0.90      0.44      9354\n",
            "\n",
            "    accuracy                           0.72     76222\n",
            "   macro avg       0.64      0.80      0.63     76222\n",
            "weighted avg       0.90      0.72      0.77     76222\n",
            "\n",
            "accuracy score\n",
            "0.7186639028102123\n",
            "===============================================\n"
          ],
          "name": "stdout"
        }
      ]
    },
    {
      "cell_type": "code",
      "metadata": {
        "id": "UZsnE_ZhE1zc",
        "colab_type": "code",
        "colab": {
          "base_uri": "https://localhost:8080/",
          "height": 312
        },
        "outputId": "d3cbc0c8-81f8-4a00-d787-05b8869e0b8a"
      },
      "source": [
        "lgb.plot_importance(model,max_num_features = 15)"
      ],
      "execution_count": null,
      "outputs": [
        {
          "output_type": "execute_result",
          "data": {
            "text/plain": [
              "<matplotlib.axes._subplots.AxesSubplot at 0x7f5437f18eb8>"
            ]
          },
          "metadata": {
            "tags": []
          },
          "execution_count": 521
        },
        {
          "output_type": "display_data",
          "data": {
            "image/png": "[encoded data removed]",
            "text/plain": [
              "<Figure size 432x288 with 1 Axes>"
            ]
          },
          "metadata": {
            "tags": [],
            "needs_background": "light"
          }
        }
      ]
    },
    {
      "cell_type": "code",
      "metadata": {
        "id": "hiFH6ltGKLmN",
        "colab_type": "code",
        "colab": {
          "base_uri": "https://localhost:8080/",
          "height": 134
        },
        "outputId": "f7265ccf-1f5c-49e6-d0c1-e9c2fdeff6c8"
      },
      "source": [
        "model = lgb.LGBMClassifier(random_state=0, n_estimators=200, \n",
        "                          learning_rate=0.1, num_leaves=31,\n",
        "                          is_unbalance=True)\n",
        "model.fit(X,y)"
      ],
      "execution_count": null,
      "outputs": [
        {
          "output_type": "execute_result",
          "data": {
            "text/plain": [
              "LGBMClassifier(boosting_type='gbdt', class_weight=None, colsample_bytree=1.0,\n",
              "               importance_type='split', is_unbalance=True, learning_rate=0.1,\n",
              "               max_depth=-1, min_child_samples=20, min_child_weight=0.001,\n",
              "               min_split_gain=0.0, n_estimators=200, n_jobs=-1, num_leaves=31,\n",
              "               objective=None, random_state=0, reg_alpha=0.0, reg_lambda=0.0,\n",
              "               silent=True, subsample=1.0, subsample_for_bin=200000,\n",
              "               subsample_freq=0)"
            ]
          },
          "metadata": {
            "tags": []
          },
          "execution_count": 531
        }
      ]
    },
    {
      "cell_type": "code",
      "metadata": {
        "id": "ettMT5PCUcrx",
        "colab_type": "code",
        "colab": {}
      },
      "source": [
        "y_pred_test = model.predict_proba(X_test)"
      ],
      "execution_count": null,
      "outputs": []
    },
    {
      "cell_type": "code",
      "metadata": {
        "id": "OHTK3SMUU6t6",
        "colab_type": "code",
        "colab": {
          "base_uri": "https://localhost:8080/",
          "height": 34
        },
        "outputId": "dcd8eaa7-4eaf-44b1-8540-fff4f8dd301c"
      },
      "source": [
        "X.shape"
      ],
      "execution_count": null,
      "outputs": [
        {
          "output_type": "execute_result",
          "data": {
            "text/plain": [
              "(381109, 121)"
            ]
          },
          "metadata": {
            "tags": []
          },
          "execution_count": 533
        }
      ]
    },
    {
      "cell_type": "code",
      "metadata": {
        "id": "NVUEHsaXK4Ui",
        "colab_type": "code",
        "colab": {}
      },
      "source": [
        "submission['Response_pred'] = y_pred_test[:,1]"
      ],
      "execution_count": null,
      "outputs": []
    },
    {
      "cell_type": "code",
      "metadata": {
        "id": "nSkJd7lmLNOT",
        "colab_type": "code",
        "colab": {
          "base_uri": "https://localhost:8080/",
          "height": 34
        },
        "outputId": "23b4ed55-594c-47d0-c3b2-e521e25714ee"
      },
      "source": [
        "submission.shape"
      ],
      "execution_count": null,
      "outputs": [
        {
          "output_type": "execute_result",
          "data": {
            "text/plain": [
              "(127037, 3)"
            ]
          },
          "metadata": {
            "tags": []
          },
          "execution_count": 535
        }
      ]
    },
    {
      "cell_type": "code",
      "metadata": {
        "id": "lCLxbdqeLP46",
        "colab_type": "code",
        "colab": {}
      },
      "source": [
        "submission.drop(\"Response\",axis=1,inplace=True)"
      ],
      "execution_count": null,
      "outputs": []
    },
    {
      "cell_type": "code",
      "metadata": {
        "id": "5sV4wCUxLWta",
        "colab_type": "code",
        "colab": {
          "base_uri": "https://localhost:8080/",
          "height": 195
        },
        "outputId": "bbbebba5-b0f2-41a3-abfc-8ae97617c30a"
      },
      "source": [
        "submission.head()"
      ],
      "execution_count": null,
      "outputs": [
        {
          "output_type": "execute_result",
          "data": {
            "text/html": [
              "<div>\n",
              "<style scoped>\n",
              "    .dataframe tbody tr th:only-of-type {\n",
              "        vertical-align: middle;\n",
              "    }\n",
              "\n",
              "    .dataframe tbody tr th {\n",
              "        vertical-align: top;\n",
              "    }\n",
              "\n",
              "    .dataframe thead th {\n",
              "        text-align: right;\n",
              "    }\n",
              "</style>\n",
              "<table border=\"1\" class=\"dataframe\">\n",
              "  <thead>\n",
              "    <tr style=\"text-align: right;\">\n",
              "      <th></th>\n",
              "      <th>id</th>\n",
              "      <th>Response_pred</th>\n",
              "    </tr>\n",
              "  </thead>\n",
              "  <tbody>\n",
              "    <tr>\n",
              "      <th>0</th>\n",
              "      <td>381110</td>\n",
              "      <td>0.000285</td>\n",
              "    </tr>\n",
              "    <tr>\n",
              "      <th>1</th>\n",
              "      <td>381111</td>\n",
              "      <td>0.786928</td>\n",
              "    </tr>\n",
              "    <tr>\n",
              "      <th>2</th>\n",
              "      <td>381112</td>\n",
              "      <td>0.754452</td>\n",
              "    </tr>\n",
              "    <tr>\n",
              "      <th>3</th>\n",
              "      <td>381113</td>\n",
              "      <td>0.040824</td>\n",
              "    </tr>\n",
              "    <tr>\n",
              "      <th>4</th>\n",
              "      <td>381114</td>\n",
              "      <td>0.000214</td>\n",
              "    </tr>\n",
              "  </tbody>\n",
              "</table>\n",
              "</div>"
            ],
            "text/plain": [
              "       id  Response_pred\n",
              "0  381110       0.000285\n",
              "1  381111       0.786928\n",
              "2  381112       0.754452\n",
              "3  381113       0.040824\n",
              "4  381114       0.000214"
            ]
          },
          "metadata": {
            "tags": []
          },
          "execution_count": 537
        }
      ]
    },
    {
      "cell_type": "code",
      "metadata": {
        "id": "7tR03hXZLZxT",
        "colab_type": "code",
        "colab": {}
      },
      "source": [
        "submission.columns = ['id','Response']"
      ],
      "execution_count": null,
      "outputs": []
    },
    {
      "cell_type": "code",
      "metadata": {
        "id": "5lTzvGd1LdR0",
        "colab_type": "code",
        "colab": {}
      },
      "source": [
        "submission.to_csv(\"lgb_new.csv\",index=False)"
      ],
      "execution_count": null,
      "outputs": []
    },
    {
      "cell_type": "markdown",
      "metadata": {
        "id": "COMjrC2kFAgb",
        "colab_type": "text"
      },
      "source": [
        "## Stack blend and undersample"
      ]
    },
    {
      "cell_type": "code",
      "metadata": {
        "id": "Xggvjk0xFES6",
        "colab_type": "code",
        "colab": {
          "base_uri": "https://localhost:8080/",
          "height": 322
        },
        "outputId": "a38dc5a6-badd-4a10-f093-645885d5d404"
      },
      "source": [
        "from sklearn.model_selection import KFold, StratifiedKFold\n",
        "from sklearn.metrics import f1_score\n",
        "from lightgbm import LGBMClassifier, plot_importance\n",
        "from xgboost import XGBClassifier, XGBRFClassifier\n",
        "!pip install vecstack\n",
        "from vecstack import StackingTransformer\n",
        "from sklearn.ensemble import RandomForestClassifier\n",
        "from imblearn.under_sampling import RandomUnderSampler\n",
        "from sklearn.metrics import roc_auc_score"
      ],
      "execution_count": null,
      "outputs": [
        {
          "output_type": "stream",
          "text": [
            "Collecting vecstack\n",
            "  Downloading https://files.pythonhosted.org/packages/d0/a1/b9a1e9e9e5a12078da1ab9788c7885e4c745358f7e57d5f94d9db6a4e898/vecstack-0.4.0.tar.gz\n",
            "Requirement already satisfied: numpy in /usr/local/lib/python3.6/dist-packages (from vecstack) (1.18.5)\n",
            "Requirement already satisfied: scipy in /usr/local/lib/python3.6/dist-packages (from vecstack) (1.4.1)\n",
            "Requirement already satisfied: scikit-learn>=0.18 in /usr/local/lib/python3.6/dist-packages (from vecstack) (0.22.2.post1)\n",
            "Requirement already satisfied: joblib>=0.11 in /usr/local/lib/python3.6/dist-packages (from scikit-learn>=0.18->vecstack) (0.16.0)\n",
            "Building wheels for collected packages: vecstack\n",
            "  Building wheel for vecstack (setup.py) ... \u001b[?25l\u001b[?25hdone\n",
            "  Created wheel for vecstack: filename=vecstack-0.4.0-cp36-none-any.whl size=19880 sha256=f4d641a46ac0e2ec555ec00aee3678e08df45c7c2c634ee50791d58091ba27f7\n",
            "  Stored in directory: /root/.cache/pip/wheels/5f/bb/4e/f6488433d53bc0684673d6845e5bf11a25240577c8151c140e\n",
            "Successfully built vecstack\n",
            "Installing collected packages: vecstack\n",
            "Successfully installed vecstack-0.4.0\n"
          ],
          "name": "stdout"
        },
        {
          "output_type": "stream",
          "text": [
            "/usr/local/lib/python3.6/dist-packages/sklearn/externals/six.py:31: FutureWarning: The module is deprecated in version 0.21 and will be removed in version 0.23 since we've dropped support for Python 2.7. Please rely on the official version of six (https://pypi.org/project/six/).\n",
            "  \"(https://pypi.org/project/six/).\", FutureWarning)\n",
            "/usr/local/lib/python3.6/dist-packages/sklearn/utils/deprecation.py:144: FutureWarning: The sklearn.neighbors.base module is  deprecated in version 0.22 and will be removed in version 0.24. The corresponding classes / functions should instead be imported from sklearn.neighbors. Anything that cannot be imported from sklearn.neighbors is now part of the private API.\n",
            "  warnings.warn(message, FutureWarning)\n"
          ],
          "name": "stderr"
        }
      ]
    },
    {
      "cell_type": "code",
      "metadata": {
        "id": "mlZAoMYXYp8q",
        "colab_type": "code",
        "colab": {}
      },
      "source": [
        "train1 = train.copy()\n",
        "test1 = test.copy()"
      ],
      "execution_count": null,
      "outputs": []
    },
    {
      "cell_type": "code",
      "metadata": {
        "id": "bFfVvJOKZPOD",
        "colab_type": "code",
        "colab": {
          "base_uri": "https://localhost:8080/",
          "height": 34
        },
        "outputId": "6fa7692b-0545-4fe6-bc8d-0a2892c324be"
      },
      "source": [
        "test1.shape"
      ],
      "execution_count": null,
      "outputs": [
        {
          "output_type": "execute_result",
          "data": {
            "text/plain": [
              "(127037, 124)"
            ]
          },
          "metadata": {
            "tags": []
          },
          "execution_count": 77
        }
      ]
    },
    {
      "cell_type": "code",
      "metadata": {
        "id": "LBrFq5GLlDtv",
        "colab_type": "code",
        "colab": {}
      },
      "source": [
        "def final_submission(X_train, Y, X_test):\n",
        "    # Define base estimators for stacking\n",
        "    estimators = [('lgbm', LGBMClassifier(random_state=0, n_estimators=500, \n",
        "                                      learning_rate=0.1, num_leaves=31,\n",
        "                                      is_unbalance=True)),\n",
        "              # ('rf', RandomForestClassifier(random_state=0, max_depth=10, \n",
        "              #                               class_weight={0:0.12, 1:0.88}, \n",
        "              #                               n_estimators=500, max_features=None, n_jobs=4)),\n",
        "              ('cat', CatBoostClassifier(scale_pos_weight=6, verbose=100,\n",
        "                                                  early_stopping_rounds=100,iterations=500))]\n",
        "    # Perform stacking\n",
        "    stack = StackingTransformer(estimators, regression=False, verbose=2, needs_proba=True, stratified=True, shuffle=True)\n",
        "    stack = stack.fit(X_train, Y)\n",
        "\n",
        "    # Get the stacked features\n",
        "    S_train = stack.transform(X_train)\n",
        "    S_test = stack.transform(X_test)\n",
        "    # Also take the weighted average of the stacked features as another feature\n",
        "    S_train_av, S_test_av = np.zeros((len(S_train), 2), dtype=np.float32), np.zeros((len(S_test), 2), dtype=np.float32)\n",
        "    for index, vals in enumerate(S_train):\n",
        "        S_train_av[index, 0] = (vals[0]*0.7) + (vals[2]*0.3)\n",
        "        S_train_av[index, 1] = (vals[1]*0.7) + (vals[3]*0.3)\n",
        "    for index, vals in enumerate(S_test):\n",
        "        S_test_av[index, 0] = (vals[0]*0.7) + (vals[2]*0.3)\n",
        "        S_test_av[index, 1] = (vals[1]*0.7) + (vals[3]*0.3)\n",
        "\n",
        "    # Define the final estimator\n",
        "    model = XGBClassifier(random_state=0, n_jobs=4, max_depth=4, scale_pos_weight=2.5, n_estimators=200, learning_rate=0.1, gamma=1) #2.5\n",
        "    model.fit(np.concatenate((S_train, S_train_av, X_train), axis=1), Y)\n",
        "    preds4 =  model.predict_proba(np.concatenate((S_test, S_test_av, X_test), axis=1))\n",
        "\n",
        "    # Now perform random under-sampling on the data\n",
        "    rus = RandomUnderSampler(random_state=0, sampling_strategy=0.3)\n",
        "    X_train, Y_ = rus.fit_resample(X_train, Y)\n",
        "\n",
        "    # Get predictions from models on this majority class under-sampled dataset\n",
        "    model1 = LGBMClassifier(random_state=0, n_estimators=100, learning_rate=0.1, num_leaves=31)\n",
        "    model2 = XGBClassifier(n_estimators=500,random_state=0,eval_metric='auc', learning_rate=0.1)\n",
        "    model1.fit(X_train, Y_), model2.fit(X_train, Y_)\n",
        "    preds1, preds2 = model1.predict_proba(X_test), model2.predict_proba(X_test)\n",
        "\n",
        "    # Get weighted average predictions\n",
        "    preds3 = list()\n",
        "    for a, b in zip(preds1, preds2):\n",
        "        preds3.append([(0.7*a[0]) + (0.3*b[0]), (0.7*a[1]) + (0.3*b[1])])\n",
        "\n",
        "    # Finally, perform weighted average prediction of stacked ensemble and weighted average ensemble\n",
        "    preds = list()\n",
        "    for a, b in zip(preds3, preds4):\n",
        "        preds.append([(0.5*a[0]) + (0.5*b[0]), (0.5*a[1]) + (0.5*b[1])])\n",
        "    preds = np.array(preds)\n",
        "\n",
        "    return preds"
      ],
      "execution_count": null,
      "outputs": []
    },
    {
      "cell_type": "code",
      "metadata": {
        "id": "NMxBn07_3-m3",
        "colab_type": "code",
        "colab": {
          "base_uri": "https://localhost:8080/",
          "height": 67
        },
        "outputId": "9dd6e9e5-f7d2-4ba2-c694-424e1c13ed83"
      },
      "source": [
        "train1['Response'].value_counts()"
      ],
      "execution_count": null,
      "outputs": [
        {
          "output_type": "execute_result",
          "data": {
            "text/plain": [
              "0.0    334399\n",
              "1.0     46710\n",
              "Name: Response, dtype: int64"
            ]
          },
          "metadata": {
            "tags": []
          },
          "execution_count": 116
        }
      ]
    },
    {
      "cell_type": "code",
      "metadata": {
        "id": "a7V_0Nvs4Ba0",
        "colab_type": "code",
        "colab": {
          "base_uri": "https://localhost:8080/",
          "height": 34
        },
        "outputId": "5a51e623-8180-4202-f933-eb3a14d92201"
      },
      "source": [
        "334399/46710"
      ],
      "execution_count": null,
      "outputs": [
        {
          "output_type": "execute_result",
          "data": {
            "text/plain": [
              "7.15904517233997"
            ]
          },
          "metadata": {
            "tags": []
          },
          "execution_count": 117
        }
      ]
    },
    {
      "cell_type": "code",
      "metadata": {
        "id": "ZZaZ00oWlZgu",
        "colab_type": "code",
        "colab": {}
      },
      "source": [
        "X_train = np.array(train1.drop(['id','is_train','Response'],axis=1))\n",
        "y_train = np.array(train1['Response'])\n",
        "X_test = np.array(test1.drop(['id','is_train','Response'],axis=1))"
      ],
      "execution_count": null,
      "outputs": []
    },
    {
      "cell_type": "code",
      "metadata": {
        "id": "uQe0Zil9l9pl",
        "colab_type": "code",
        "colab": {
          "base_uri": "https://localhost:8080/",
          "height": 1000
        },
        "outputId": "f77c9612-e010-4165-9ba3-65b10670809f"
      },
      "source": [
        "preds = final_submission(X_train,y_train,X_test)"
      ],
      "execution_count": null,
      "outputs": [
        {
          "output_type": "stream",
          "text": [
            "task:         [classification]\n",
            "n_classes:    [2]\n",
            "metric:       [log_loss]\n",
            "variant:      [A]\n",
            "n_estimators: [2]\n",
            "\n",
            "estimator  0: [lgbm: LGBMClassifier]\n",
            "    fold  0:  [0.45105226]\n",
            "    fold  1:  [0.46084466]\n",
            "    fold  2:  [0.45011382]\n",
            "    fold  3:  [0.45744763]\n",
            "    ----\n",
            "    MEAN:     [0.45486459] + [0.00445918]\n",
            "\n",
            "estimator  1: [cat: CatBoostClassifier]\n",
            "Learning rate set to 0.217639\n",
            "0:\tlearn: 0.5430540\ttotal: 159ms\tremaining: 1m 19s\n",
            "100:\tlearn: 0.4122600\ttotal: 12.9s\tremaining: 51.1s\n",
            "200:\tlearn: 0.4035598\ttotal: 25.5s\tremaining: 38s\n",
            "300:\tlearn: 0.3964563\ttotal: 38.2s\tremaining: 25.2s\n",
            "400:\tlearn: 0.3897951\ttotal: 51s\tremaining: 12.6s\n",
            "499:\tlearn: 0.3838624\ttotal: 1m 3s\tremaining: 0us\n",
            "    fold  0:  [0.41928711]\n",
            "Learning rate set to 0.21764\n",
            "0:\tlearn: 0.5451303\ttotal: 149ms\tremaining: 1m 14s\n",
            "100:\tlearn: 0.4134833\ttotal: 13s\tremaining: 51.5s\n",
            "200:\tlearn: 0.4045575\ttotal: 25.8s\tremaining: 38.3s\n",
            "300:\tlearn: 0.3971273\ttotal: 38.6s\tremaining: 25.5s\n",
            "400:\tlearn: 0.3907131\ttotal: 51.2s\tremaining: 12.6s\n",
            "499:\tlearn: 0.3847384\ttotal: 1m 3s\tremaining: 0us\n",
            "    fold  1:  [0.41511474]\n",
            "Learning rate set to 0.21764\n",
            "0:\tlearn: 0.5463992\ttotal: 156ms\tremaining: 1m 18s\n",
            "100:\tlearn: 0.4128857\ttotal: 12.8s\tremaining: 50.8s\n",
            "200:\tlearn: 0.4040283\ttotal: 25.4s\tremaining: 37.8s\n",
            "300:\tlearn: 0.3964483\ttotal: 38.1s\tremaining: 25.2s\n",
            "400:\tlearn: 0.3900313\ttotal: 50.9s\tremaining: 12.6s\n",
            "499:\tlearn: 0.3839772\ttotal: 1m 3s\tremaining: 0us\n",
            "    fold  2:  [0.41685468]\n",
            "Learning rate set to 0.21764\n",
            "0:\tlearn: 0.5477835\ttotal: 149ms\tremaining: 1m 14s\n",
            "100:\tlearn: 0.4138889\ttotal: 12.9s\tremaining: 50.9s\n",
            "200:\tlearn: 0.4048811\ttotal: 25.4s\tremaining: 37.8s\n",
            "300:\tlearn: 0.3974613\ttotal: 38.1s\tremaining: 25.2s\n",
            "400:\tlearn: 0.3908312\ttotal: 50.8s\tremaining: 12.5s\n",
            "499:\tlearn: 0.3845841\ttotal: 1m 3s\tremaining: 0us\n",
            "    fold  3:  [0.41493202]\n",
            "    ----\n",
            "    MEAN:     [0.41654714] + [0.00175089]\n",
            "\n",
            "Train set was detected.\n",
            "Transforming...\n",
            "\n",
            "estimator  0: [lgbm: LGBMClassifier]\n",
            "    model from fold  0: done\n",
            "    model from fold  1: done\n",
            "    model from fold  2: done\n",
            "    model from fold  3: done\n",
            "    ----\n",
            "    DONE\n",
            "\n",
            "estimator  1: [cat: CatBoostClassifier]\n",
            "    model from fold  0: done\n",
            "    model from fold  1: done\n",
            "    model from fold  2: done\n",
            "    model from fold  3: done\n",
            "    ----\n",
            "    DONE\n",
            "\n",
            "Transforming...\n",
            "\n",
            "estimator  0: [lgbm: LGBMClassifier]\n",
            "    model from fold  0: done\n",
            "    model from fold  1: done\n",
            "    model from fold  2: done\n",
            "    model from fold  3: done\n",
            "    ----\n",
            "    DONE\n",
            "\n",
            "estimator  1: [cat: CatBoostClassifier]\n",
            "    model from fold  0: done\n",
            "    model from fold  1: done\n",
            "    model from fold  2: done\n",
            "    model from fold  3: done\n",
            "    ----\n",
            "    DONE\n",
            "\n"
          ],
          "name": "stdout"
        },
        {
          "output_type": "stream",
          "text": [
            "/usr/local/lib/python3.6/dist-packages/sklearn/utils/deprecation.py:87: FutureWarning: Function safe_indexing is deprecated; safe_indexing is deprecated in version 0.22 and will be removed in version 0.24.\n",
            "  warnings.warn(msg, category=FutureWarning)\n"
          ],
          "name": "stderr"
        }
      ]
    },
    {
      "cell_type": "code",
      "metadata": {
        "id": "wSmNoljkspSy",
        "colab_type": "code",
        "colab": {
          "base_uri": "https://localhost:8080/",
          "height": 34
        },
        "outputId": "97e51aba-c282-4fcb-b069-ab2465469747"
      },
      "source": [
        "preds.shape"
      ],
      "execution_count": null,
      "outputs": [
        {
          "output_type": "execute_result",
          "data": {
            "text/plain": [
              "(127037, 2)"
            ]
          },
          "metadata": {
            "tags": []
          },
          "execution_count": 120
        }
      ]
    },
    {
      "cell_type": "code",
      "metadata": {
        "id": "LSAZ6obkw8De",
        "colab_type": "code",
        "colab": {}
      },
      "source": [
        ""
      ],
      "execution_count": null,
      "outputs": []
    },
    {
      "cell_type": "code",
      "metadata": {
        "colab_type": "code",
        "id": "-noLw-xDw8TD",
        "colab": {}
      },
      "source": [
        "submission['Response_pred'] = preds[:,1]"
      ],
      "execution_count": null,
      "outputs": []
    },
    {
      "cell_type": "code",
      "metadata": {
        "colab_type": "code",
        "id": "NqYVuSnbw8TO",
        "colab": {
          "base_uri": "https://localhost:8080/",
          "height": 34
        },
        "outputId": "5a3d047c-270a-4719-db0f-68f991e259e5"
      },
      "source": [
        "submission.shape"
      ],
      "execution_count": null,
      "outputs": [
        {
          "output_type": "execute_result",
          "data": {
            "text/plain": [
              "(127037, 3)"
            ]
          },
          "metadata": {
            "tags": []
          },
          "execution_count": 122
        }
      ]
    },
    {
      "cell_type": "code",
      "metadata": {
        "colab_type": "code",
        "id": "TLJeDoe4w8TW",
        "colab": {}
      },
      "source": [
        "submission.drop(\"Response\",axis=1,inplace=True)"
      ],
      "execution_count": null,
      "outputs": []
    },
    {
      "cell_type": "code",
      "metadata": {
        "colab_type": "code",
        "id": "tO3d0U1ow8Td",
        "colab": {
          "base_uri": "https://localhost:8080/",
          "height": 195
        },
        "outputId": "226b4953-c8c4-4c46-bd6b-9e27bd6ec08b"
      },
      "source": [
        "submission.head()"
      ],
      "execution_count": null,
      "outputs": [
        {
          "output_type": "execute_result",
          "data": {
            "text/html": [
              "<div>\n",
              "<style scoped>\n",
              "    .dataframe tbody tr th:only-of-type {\n",
              "        vertical-align: middle;\n",
              "    }\n",
              "\n",
              "    .dataframe tbody tr th {\n",
              "        vertical-align: top;\n",
              "    }\n",
              "\n",
              "    .dataframe thead th {\n",
              "        text-align: right;\n",
              "    }\n",
              "</style>\n",
              "<table border=\"1\" class=\"dataframe\">\n",
              "  <thead>\n",
              "    <tr style=\"text-align: right;\">\n",
              "      <th></th>\n",
              "      <th>id</th>\n",
              "      <th>Response_pred</th>\n",
              "    </tr>\n",
              "  </thead>\n",
              "  <tbody>\n",
              "    <tr>\n",
              "      <th>0</th>\n",
              "      <td>381110</td>\n",
              "      <td>0.001100</td>\n",
              "    </tr>\n",
              "    <tr>\n",
              "      <th>1</th>\n",
              "      <td>381111</td>\n",
              "      <td>0.627803</td>\n",
              "    </tr>\n",
              "    <tr>\n",
              "      <th>2</th>\n",
              "      <td>381112</td>\n",
              "      <td>0.618834</td>\n",
              "    </tr>\n",
              "    <tr>\n",
              "      <th>3</th>\n",
              "      <td>381113</td>\n",
              "      <td>0.104400</td>\n",
              "    </tr>\n",
              "    <tr>\n",
              "      <th>4</th>\n",
              "      <td>381114</td>\n",
              "      <td>0.002322</td>\n",
              "    </tr>\n",
              "  </tbody>\n",
              "</table>\n",
              "</div>"
            ],
            "text/plain": [
              "       id  Response_pred\n",
              "0  381110       0.001100\n",
              "1  381111       0.627803\n",
              "2  381112       0.618834\n",
              "3  381113       0.104400\n",
              "4  381114       0.002322"
            ]
          },
          "metadata": {
            "tags": []
          },
          "execution_count": 124
        }
      ]
    },
    {
      "cell_type": "code",
      "metadata": {
        "colab_type": "code",
        "id": "YmocL41qw8Tn",
        "colab": {}
      },
      "source": [
        "submission.columns = ['id','Response']"
      ],
      "execution_count": null,
      "outputs": []
    },
    {
      "cell_type": "code",
      "metadata": {
        "colab_type": "code",
        "id": "L-JsdnQBw8Tv",
        "colab": {}
      },
      "source": [
        "submission.to_csv(\"lgb_vecstack_07_03.csv\",index=False)"
      ],
      "execution_count": null,
      "outputs": []
    },
    {
      "cell_type": "markdown",
      "metadata": {
        "id": "WgJRnKLC8hge",
        "colab_type": "text"
      },
      "source": [
        "# Just a try"
      ]
    },
    {
      "cell_type": "code",
      "metadata": {
        "id": "fJMyvLZFZNxT",
        "colab_type": "code",
        "colab": {}
      },
      "source": [
        "estimators = [('lgbm', LGBMClassifier(random_state=0, n_estimators=500, \n",
        "                                      learning_rate=0.1, num_leaves=31,\n",
        "                                      is_unbalance=True)),\n",
        "              # ('rf', RandomForestClassifier(random_state=0, max_depth=10, \n",
        "              #                               class_weight={0:0.12, 1:0.88}, \n",
        "              #                               n_estimators=500, max_features=None, n_jobs=4)),\n",
        "              ('cat', CatBoostClassifier(scale_pos_weight=6, verbose=100,\n",
        "                                                  early_stopping_rounds=100,iterations=500))]"
      ],
      "execution_count": null,
      "outputs": []
    },
    {
      "cell_type": "code",
      "metadata": {
        "id": "LlxNswaOZLGg",
        "colab_type": "code",
        "colab": {}
      },
      "source": [
        "stack = StackingTransformer(estimators, regression=False, verbose=2, \n",
        "                            needs_proba=True, stratified=True, shuffle=True)\n",
        "\n",
        "model = XGBClassifier(n_estimators=1000,random_state=0,eval_metric='auc', \n",
        "                      learning_rate=0.1, scale_pos_weight=7)"
      ],
      "execution_count": null,
      "outputs": []
    },
    {
      "cell_type": "code",
      "metadata": {
        "id": "y-e7hPANixaX",
        "colab_type": "code",
        "colab": {}
      },
      "source": [
        "train1['kfold'] = -1\n",
        "\n",
        "kf = StratifiedKFold(n_splits=5)\n",
        "\n",
        "for f, (train_idx, valid_idx) in enumerate(kf.split(X = train1, y = train1['Response'].values)):\n",
        "  train1.loc[valid_idx,'kfold'] = f"
      ],
      "execution_count": null,
      "outputs": []
    },
    {
      "cell_type": "code",
      "metadata": {
        "id": "KhdsECqzFdlK",
        "colab_type": "code",
        "colab": {
          "base_uri": "https://localhost:8080/",
          "height": 1000
        },
        "outputId": "ec5d6bca-9a69-4510-9a40-bd4aff76fa30"
      },
      "source": [
        "y_pred_tot_xgb_prob = []\n",
        "\n",
        "y_pred_combined = []\n",
        "\n",
        "for i in range(5):\n",
        "  x_train = train1[train1['kfold']!=i].drop(['id','is_train','Response','kfold'], axis=1).fillna(-1)\n",
        "  y_train = train1[train1['kfold']!=i]['Response']\n",
        "  x_val = train1[train1['kfold']!=i].drop(['id','is_train','Response','kfold'], axis=1).fillna(-1)\n",
        "  y_val = train1[train1['kfold']!=i]['Response']\n",
        "\n",
        "  stack = stack.fit(x_train, y_train)\n",
        "  S_train = stack.transform(x_train)\n",
        "  S_val = stack.transform(x_val)\n",
        "  S_test = stack.transform(test1[x_train.columns].fillna(-1))\n",
        "\n",
        "  S_train_av = np.zeros((len(S_train), 2), dtype=np.float32)\n",
        "  S_test_av = np.zeros((len(S_test), 2), dtype=np.float32)\n",
        "  S_val_av = np.zeros((len(S_val), 2), dtype=np.float32)\n",
        "\n",
        "  for index, vals in enumerate(S_train):\n",
        "      S_train_av[index, 0] = (vals[0]*0.7) + (vals[2]*0.3)\n",
        "      S_train_av[index, 1] = (vals[1]*0.7) + (vals[3]*0.3)\n",
        "  for index, vals in enumerate(S_val):\n",
        "      S_val_av[index, 0] = (vals[0]*0.7) + (vals[2]*0.3)\n",
        "      S_val_av[index, 1] = (vals[1]*0.7) + (vals[3]*0.3)\n",
        "  for index, vals in enumerate(S_test):\n",
        "      S_test_av[index, 0] = (vals[0]*0.7) + (vals[2]*0.3)\n",
        "      S_test_av[index, 1] = (vals[1]*0.7) + (vals[3]*0.3)\n",
        "\n",
        "  model.fit(S_train,y_train)\n",
        "\n",
        "  y_pred = model.predict(S_val)\n",
        "  y_pred_prob = model.predict_proba(S_val)[:,1]\n",
        "  \n",
        "  err_ac = accuracy_score(y_val, y_pred)\n",
        "  err_f1 = f1_score(y_val, y_pred, average='weighted')\n",
        "  err_auc = roc_auc_score(y_val, y_pred_prob)\n",
        "\n",
        "  test_pred = model.predict(S_test)\n",
        "  test_pred_proba = model.predict_proba(S_test)[:,1]\n",
        "\n",
        "  y_pred_tot_xgb_prob.append(test_pred_proba)\n",
        "  print(\"Fold:\", i)\n",
        "  print(\"Accuracy:\", err_ac)\n",
        "  print('F1 Score:', err_f1)\n",
        "  print(\"AUC Score:\", err_auc)\n",
        "  print('\\n')\n",
        "  print(evaluate_model(y_val, y_pred))\n",
        "  # Now perform random under-sampling on the data (retaining 80% of data in majority class)\n",
        "  rus = RandomUnderSampler(random_state=0, sampling_strategy=0.2)\n",
        "\n",
        "  ux_train, uy_train = rus.fit_resample(x_train, y_train)\n",
        "\n",
        "  model1 = LGBMClassifier(random_state=0, n_estimators=100, learning_rate=0.1)\n",
        "  model2 = XGBClassifier(n_estimators=500,random_state=0,eval_metric='auc', \n",
        "                      learning_rate=0.1)\n",
        "  model1.fit(ux_train, uy_train)\n",
        "  model2.fit(ux_train, uy_train)\n",
        "\n",
        "  preds1 = model1.predict_proba(test1[x_train.columns].fillna(-1))[:,1]\n",
        "  preds2 = model2.predict_proba(test1[x_train.columns].fillna(-1).values)[:,1]\n",
        "\n",
        "  # Get weighted average predictions\n",
        "  preds3 = list()\n",
        "  for a, b in zip(preds1, preds2):\n",
        "    preds3.append((0.6*a) + (0.4*b))\n",
        "  preds4 = []\n",
        "  for a,b in zip(preds3, test_pred_proba):\n",
        "    preds4.append((0.4*a) + (0.6*b))\n",
        "  y_pred_combined.append(preds4)"
      ],
      "execution_count": null,
      "outputs": [
        {
          "output_type": "stream",
          "text": [
            "task:         [classification]\n",
            "n_classes:    [2]\n",
            "metric:       [log_loss]\n",
            "variant:      [A]\n",
            "n_estimators: [2]\n",
            "\n",
            "estimator  0: [lgbm: LGBMClassifier]\n",
            "    fold  0:  [0.44883038]\n",
            "    fold  1:  [0.44202044]\n",
            "    fold  2:  [0.44497938]\n",
            "    fold  3:  [0.44015853]\n",
            "    ----\n",
            "    MEAN:     [0.44399718] + [0.00327747]\n",
            "\n",
            "estimator  1: [cat: CatBoostClassifier]\n",
            "Learning rate set to 0.197859\n",
            "0:\tlearn: 0.5535124\ttotal: 123ms\tremaining: 1m 1s\n",
            "100:\tlearn: 0.4112628\ttotal: 11.4s\tremaining: 45s\n",
            "200:\tlearn: 0.4012544\ttotal: 22.6s\tremaining: 33.7s\n",
            "300:\tlearn: 0.3927278\ttotal: 33.8s\tremaining: 22.4s\n",
            "400:\tlearn: 0.3853384\ttotal: 45.1s\tremaining: 11.1s\n",
            "499:\tlearn: 0.3787882\ttotal: 56.3s\tremaining: 0us\n",
            "    fold  0:  [0.41792256]\n",
            "Learning rate set to 0.197859\n",
            "0:\tlearn: 0.5547838\ttotal: 138ms\tremaining: 1m 8s\n",
            "100:\tlearn: 0.4130570\ttotal: 11.4s\tremaining: 44.9s\n",
            "200:\tlearn: 0.4030097\ttotal: 22.2s\tremaining: 33.1s\n",
            "300:\tlearn: 0.3946600\ttotal: 33.4s\tremaining: 22.1s\n",
            "400:\tlearn: 0.3872889\ttotal: 44.6s\tremaining: 11s\n",
            "499:\tlearn: 0.3803367\ttotal: 55.8s\tremaining: 0us\n",
            "    fold  1:  [0.41425716]\n",
            "Learning rate set to 0.197859\n",
            "0:\tlearn: 0.5518749\ttotal: 129ms\tremaining: 1m 4s\n",
            "100:\tlearn: 0.4126780\ttotal: 11.4s\tremaining: 44.9s\n",
            "200:\tlearn: 0.4030753\ttotal: 22.3s\tremaining: 33.2s\n",
            "300:\tlearn: 0.3944659\ttotal: 33.4s\tremaining: 22.1s\n",
            "400:\tlearn: 0.3871920\ttotal: 44.5s\tremaining: 11s\n",
            "499:\tlearn: 0.3803908\ttotal: 55.6s\tremaining: 0us\n",
            "    fold  2:  [0.41925817]\n",
            "Learning rate set to 0.19786\n",
            "0:\tlearn: 0.5575369\ttotal: 126ms\tremaining: 1m 2s\n",
            "100:\tlearn: 0.4137772\ttotal: 11.2s\tremaining: 44.1s\n",
            "200:\tlearn: 0.4037222\ttotal: 22.3s\tremaining: 33.1s\n",
            "300:\tlearn: 0.3955094\ttotal: 33.4s\tremaining: 22.1s\n",
            "400:\tlearn: 0.3877118\ttotal: 44.7s\tremaining: 11s\n",
            "499:\tlearn: 0.3811867\ttotal: 55.7s\tremaining: 0us\n",
            "    fold  3:  [0.40982780]\n",
            "    ----\n",
            "    MEAN:     [0.41531642] + [0.00365980]\n",
            "\n",
            "Train set was detected.\n",
            "Transforming...\n",
            "\n",
            "estimator  0: [lgbm: LGBMClassifier]\n",
            "    model from fold  0: done\n",
            "    model from fold  1: done\n",
            "    model from fold  2: done\n",
            "    model from fold  3: done\n",
            "    ----\n",
            "    DONE\n",
            "\n",
            "estimator  1: [cat: CatBoostClassifier]\n",
            "    model from fold  0: done\n",
            "    model from fold  1: done\n",
            "    model from fold  2: done\n",
            "    model from fold  3: done\n",
            "    ----\n",
            "    DONE\n",
            "\n",
            "Train set was detected.\n",
            "Transforming...\n",
            "\n",
            "estimator  0: [lgbm: LGBMClassifier]\n",
            "    model from fold  0: done\n",
            "    model from fold  1: done\n",
            "    model from fold  2: done\n",
            "    model from fold  3: done\n",
            "    ----\n",
            "    DONE\n",
            "\n",
            "estimator  1: [cat: CatBoostClassifier]\n",
            "    model from fold  0: done\n",
            "    model from fold  1: done\n",
            "    model from fold  2: done\n",
            "    model from fold  3: done\n",
            "    ----\n",
            "    DONE\n",
            "\n",
            "Transforming...\n",
            "\n",
            "estimator  0: [lgbm: LGBMClassifier]\n",
            "    model from fold  0: done\n",
            "    model from fold  1: done\n",
            "    model from fold  2: done\n",
            "    model from fold  3: done\n",
            "    ----\n",
            "    DONE\n",
            "\n",
            "estimator  1: [cat: CatBoostClassifier]\n",
            "    model from fold  0: done\n",
            "    model from fold  1: done\n",
            "    model from fold  2: done\n",
            "    model from fold  3: done\n",
            "    ----\n",
            "    DONE\n",
            "\n",
            "Fold: 0\n",
            "Accuracy: 0.7079672140825946\n",
            "F1 Score: 0.7579947851848617\n",
            "AUC Score: 0.8598573347950422\n",
            "\n",
            "\n",
            "confusion matrix\n",
            "True            0      1\n",
            "Predicted               \n",
            "0          181457   2975\n",
            "1           86062  34393\n",
            "classification report\n",
            "              precision    recall  f1-score   support\n",
            "\n",
            "         0.0       0.98      0.68      0.80    267519\n",
            "         1.0       0.29      0.92      0.44     37368\n",
            "\n",
            "    accuracy                           0.71    304887\n",
            "   macro avg       0.63      0.80      0.62    304887\n",
            "weighted avg       0.90      0.71      0.76    304887\n",
            "\n",
            "accuracy score\n",
            "0.7079672140825946\n",
            "None\n"
          ],
          "name": "stdout"
        },
        {
          "output_type": "stream",
          "text": [
            "/usr/local/lib/python3.6/dist-packages/sklearn/utils/deprecation.py:87: FutureWarning: Function safe_indexing is deprecated; safe_indexing is deprecated in version 0.22 and will be removed in version 0.24.\n",
            "  warnings.warn(msg, category=FutureWarning)\n"
          ],
          "name": "stderr"
        },
        {
          "output_type": "stream",
          "text": [
            "task:         [classification]\n",
            "n_classes:    [2]\n",
            "metric:       [log_loss]\n",
            "variant:      [A]\n",
            "n_estimators: [2]\n",
            "\n",
            "estimator  0: [lgbm: LGBMClassifier]\n",
            "    fold  0:  [0.45405761]\n",
            "    fold  1:  [0.43876911]\n",
            "    fold  2:  [0.44460339]\n",
            "    fold  3:  [0.43929997]\n",
            "    ----\n",
            "    MEAN:     [0.44418252] + [0.00614083]\n",
            "\n",
            "estimator  1: [cat: CatBoostClassifier]\n",
            "Learning rate set to 0.197859\n",
            "0:\tlearn: 0.5558567\ttotal: 125ms\tremaining: 1m 2s\n",
            "100:\tlearn: 0.4114502\ttotal: 11.1s\tremaining: 43.7s\n",
            "200:\tlearn: 0.4014801\ttotal: 22s\tremaining: 32.7s\n",
            "300:\tlearn: 0.3931267\ttotal: 33.2s\tremaining: 22s\n",
            "400:\tlearn: 0.3853794\ttotal: 44.2s\tremaining: 10.9s\n",
            "499:\tlearn: 0.3788535\ttotal: 55.1s\tremaining: 0us\n",
            "    fold  0:  [0.41826279]\n",
            "Learning rate set to 0.197859\n",
            "0:\tlearn: 0.5609093\ttotal: 109ms\tremaining: 54.6s\n",
            "100:\tlearn: 0.4142455\ttotal: 11s\tremaining: 43.6s\n",
            "200:\tlearn: 0.4037077\ttotal: 21.9s\tremaining: 32.5s\n",
            "300:\tlearn: 0.3951321\ttotal: 32.9s\tremaining: 21.7s\n",
            "400:\tlearn: 0.3875610\ttotal: 44s\tremaining: 10.9s\n",
            "499:\tlearn: 0.3807163\ttotal: 55.1s\tremaining: 0us\n",
            "    fold  1:  [0.41389034]\n",
            "Learning rate set to 0.197859\n",
            "0:\tlearn: 0.5594535\ttotal: 119ms\tremaining: 59.2s\n",
            "100:\tlearn: 0.4132900\ttotal: 11.1s\tremaining: 44s\n",
            "200:\tlearn: 0.4027248\ttotal: 22s\tremaining: 32.8s\n",
            "300:\tlearn: 0.3943113\ttotal: 32.8s\tremaining: 21.7s\n",
            "400:\tlearn: 0.3867036\ttotal: 43.9s\tremaining: 10.8s\n",
            "499:\tlearn: 0.3798975\ttotal: 54.9s\tremaining: 0us\n",
            "    fold  2:  [0.42011972]\n",
            "Learning rate set to 0.19786\n",
            "0:\tlearn: 0.5617568\ttotal: 123ms\tremaining: 1m 1s\n",
            "100:\tlearn: 0.4143695\ttotal: 11.2s\tremaining: 44.3s\n",
            "200:\tlearn: 0.4043397\ttotal: 22.1s\tremaining: 32.9s\n",
            "300:\tlearn: 0.3959450\ttotal: 33s\tremaining: 21.8s\n",
            "400:\tlearn: 0.3882984\ttotal: 44.1s\tremaining: 10.9s\n",
            "499:\tlearn: 0.3813570\ttotal: 55.3s\tremaining: 0us\n",
            "    fold  3:  [0.41130313]\n",
            "    ----\n",
            "    MEAN:     [0.41589400] + [0.00348420]\n",
            "\n",
            "Train set was detected.\n",
            "Transforming...\n",
            "\n",
            "estimator  0: [lgbm: LGBMClassifier]\n",
            "    model from fold  0: done\n",
            "    model from fold  1: done\n",
            "    model from fold  2: done\n",
            "    model from fold  3: done\n",
            "    ----\n",
            "    DONE\n",
            "\n",
            "estimator  1: [cat: CatBoostClassifier]\n",
            "    model from fold  0: done\n",
            "    model from fold  1: done\n",
            "    model from fold  2: done\n",
            "    model from fold  3: done\n",
            "    ----\n",
            "    DONE\n",
            "\n",
            "Train set was detected.\n",
            "Transforming...\n",
            "\n",
            "estimator  0: [lgbm: LGBMClassifier]\n",
            "    model from fold  0: done\n",
            "    model from fold  1: done\n",
            "    model from fold  2: done\n",
            "    model from fold  3: done\n",
            "    ----\n",
            "    DONE\n",
            "\n",
            "estimator  1: [cat: CatBoostClassifier]\n",
            "    model from fold  0: done\n",
            "    model from fold  1: done\n",
            "    model from fold  2: done\n",
            "    model from fold  3: done\n",
            "    ----\n",
            "    DONE\n",
            "\n",
            "Transforming...\n",
            "\n",
            "estimator  0: [lgbm: LGBMClassifier]\n",
            "    model from fold  0: done\n",
            "    model from fold  1: done\n",
            "    model from fold  2: done\n",
            "    model from fold  3: done\n",
            "    ----\n",
            "    DONE\n",
            "\n",
            "estimator  1: [cat: CatBoostClassifier]\n",
            "    model from fold  0: done\n",
            "    model from fold  1: done\n",
            "    model from fold  2: done\n",
            "    model from fold  3: done\n",
            "    ----\n",
            "    DONE\n",
            "\n",
            "Fold: 1\n",
            "Accuracy: 0.7062583842538384\n",
            "F1 Score: 0.7566083225417457\n",
            "AUC Score: 0.8594342997779731\n",
            "\n",
            "\n",
            "confusion matrix\n",
            "True            0      1\n",
            "Predicted               \n",
            "0          180922   2961\n",
            "1           86597  34407\n",
            "classification report\n",
            "              precision    recall  f1-score   support\n",
            "\n",
            "         0.0       0.98      0.68      0.80    267519\n",
            "         1.0       0.28      0.92      0.43     37368\n",
            "\n",
            "    accuracy                           0.71    304887\n",
            "   macro avg       0.63      0.80      0.62    304887\n",
            "weighted avg       0.90      0.71      0.76    304887\n",
            "\n",
            "accuracy score\n",
            "0.7062583842538384\n",
            "None\n"
          ],
          "name": "stdout"
        },
        {
          "output_type": "stream",
          "text": [
            "/usr/local/lib/python3.6/dist-packages/sklearn/utils/deprecation.py:87: FutureWarning: Function safe_indexing is deprecated; safe_indexing is deprecated in version 0.22 and will be removed in version 0.24.\n",
            "  warnings.warn(msg, category=FutureWarning)\n"
          ],
          "name": "stderr"
        },
        {
          "output_type": "stream",
          "text": [
            "task:         [classification]\n",
            "n_classes:    [2]\n",
            "metric:       [log_loss]\n",
            "variant:      [A]\n",
            "n_estimators: [2]\n",
            "\n",
            "estimator  0: [lgbm: LGBMClassifier]\n",
            "    fold  0:  [0.44693170]\n",
            "    fold  1:  [0.44920875]\n",
            "    fold  2:  [0.44759667]\n",
            "    fold  3:  [0.43812178]\n",
            "    ----\n",
            "    MEAN:     [0.44546473] + [0.00431954]\n",
            "\n",
            "estimator  1: [cat: CatBoostClassifier]\n",
            "Learning rate set to 0.197859\n",
            "0:\tlearn: 0.5560542\ttotal: 115ms\tremaining: 57.4s\n",
            "100:\tlearn: 0.4113327\ttotal: 11.3s\tremaining: 44.7s\n",
            "200:\tlearn: 0.4014825\ttotal: 22.3s\tremaining: 33.2s\n",
            "300:\tlearn: 0.3932858\ttotal: 33.5s\tremaining: 22.1s\n",
            "400:\tlearn: 0.3859945\ttotal: 44.7s\tremaining: 11s\n",
            "499:\tlearn: 0.3791298\ttotal: 55.8s\tremaining: 0us\n",
            "    fold  0:  [0.41791907]\n",
            "Learning rate set to 0.197859\n",
            "0:\tlearn: 0.5582461\ttotal: 122ms\tremaining: 1m\n",
            "100:\tlearn: 0.4128646\ttotal: 11.3s\tremaining: 44.7s\n",
            "200:\tlearn: 0.4027534\ttotal: 22.4s\tremaining: 33.3s\n",
            "300:\tlearn: 0.3943276\ttotal: 33.6s\tremaining: 22.2s\n",
            "400:\tlearn: 0.3866317\ttotal: 44.6s\tremaining: 11s\n",
            "499:\tlearn: 0.3799951\ttotal: 55.9s\tremaining: 0us\n",
            "    fold  1:  [0.41351607]\n",
            "Learning rate set to 0.197859\n",
            "0:\tlearn: 0.5571191\ttotal: 127ms\tremaining: 1m 3s\n",
            "100:\tlearn: 0.4123707\ttotal: 11.1s\tremaining: 43.9s\n",
            "200:\tlearn: 0.4021844\ttotal: 21.9s\tremaining: 32.6s\n",
            "300:\tlearn: 0.3940450\ttotal: 32.8s\tremaining: 21.7s\n",
            "400:\tlearn: 0.3863690\ttotal: 43.9s\tremaining: 10.8s\n",
            "499:\tlearn: 0.3798517\ttotal: 55s\tremaining: 0us\n",
            "    fold  2:  [0.41555017]\n",
            "Learning rate set to 0.19786\n",
            "0:\tlearn: 0.5592830\ttotal: 121ms\tremaining: 1m\n",
            "100:\tlearn: 0.4124620\ttotal: 11.4s\tremaining: 45s\n",
            "200:\tlearn: 0.4023918\ttotal: 22.4s\tremaining: 33.3s\n",
            "300:\tlearn: 0.3943417\ttotal: 33.4s\tremaining: 22.1s\n",
            "400:\tlearn: 0.3868219\ttotal: 44.6s\tremaining: 11s\n",
            "499:\tlearn: 0.3802561\ttotal: 55.6s\tremaining: 0us\n",
            "    fold  3:  [0.41260594]\n",
            "    ----\n",
            "    MEAN:     [0.41489781] + [0.00204423]\n",
            "\n",
            "Train set was detected.\n",
            "Transforming...\n",
            "\n",
            "estimator  0: [lgbm: LGBMClassifier]\n",
            "    model from fold  0: done\n",
            "    model from fold  1: done\n",
            "    model from fold  2: done\n",
            "    model from fold  3: done\n",
            "    ----\n",
            "    DONE\n",
            "\n",
            "estimator  1: [cat: CatBoostClassifier]\n",
            "    model from fold  0: done\n",
            "    model from fold  1: done\n",
            "    model from fold  2: done\n",
            "    model from fold  3: done\n",
            "    ----\n",
            "    DONE\n",
            "\n",
            "Train set was detected.\n",
            "Transforming...\n",
            "\n",
            "estimator  0: [lgbm: LGBMClassifier]\n",
            "    model from fold  0: done\n",
            "    model from fold  1: done\n",
            "    model from fold  2: done\n",
            "    model from fold  3: done\n",
            "    ----\n",
            "    DONE\n",
            "\n",
            "estimator  1: [cat: CatBoostClassifier]\n",
            "    model from fold  0: done\n",
            "    model from fold  1: done\n",
            "    model from fold  2: done\n",
            "    model from fold  3: done\n",
            "    ----\n",
            "    DONE\n",
            "\n",
            "Transforming...\n",
            "\n",
            "estimator  0: [lgbm: LGBMClassifier]\n",
            "    model from fold  0: done\n",
            "    model from fold  1: done\n",
            "    model from fold  2: done\n",
            "    model from fold  3: done\n",
            "    ----\n",
            "    DONE\n",
            "\n",
            "estimator  1: [cat: CatBoostClassifier]\n",
            "    model from fold  0: done\n",
            "    model from fold  1: done\n",
            "    model from fold  2: done\n",
            "    model from fold  3: done\n",
            "    ----\n",
            "    DONE\n",
            "\n",
            "Fold: 2\n",
            "Accuracy: 0.7012598110119487\n",
            "F1 Score: 0.752555841300682\n",
            "AUC Score: 0.8579089146727426\n",
            "\n",
            "\n",
            "confusion matrix\n",
            "True            0      1\n",
            "Predicted               \n",
            "0          179184   2747\n",
            "1           88335  34621\n",
            "classification report\n",
            "              precision    recall  f1-score   support\n",
            "\n",
            "         0.0       0.98      0.67      0.80    267519\n",
            "         1.0       0.28      0.93      0.43     37368\n",
            "\n",
            "    accuracy                           0.70    304887\n",
            "   macro avg       0.63      0.80      0.61    304887\n",
            "weighted avg       0.90      0.70      0.75    304887\n",
            "\n",
            "accuracy score\n",
            "0.7012598110119487\n",
            "None\n"
          ],
          "name": "stdout"
        },
        {
          "output_type": "stream",
          "text": [
            "/usr/local/lib/python3.6/dist-packages/sklearn/utils/deprecation.py:87: FutureWarning: Function safe_indexing is deprecated; safe_indexing is deprecated in version 0.22 and will be removed in version 0.24.\n",
            "  warnings.warn(msg, category=FutureWarning)\n"
          ],
          "name": "stderr"
        },
        {
          "output_type": "stream",
          "text": [
            "task:         [classification]\n",
            "n_classes:    [2]\n",
            "metric:       [log_loss]\n",
            "variant:      [A]\n",
            "n_estimators: [2]\n",
            "\n",
            "estimator  0: [lgbm: LGBMClassifier]\n",
            "    fold  0:  [0.45788859]\n",
            "    fold  1:  [0.44943497]\n",
            "    fold  2:  [0.44262205]\n",
            "    fold  3:  [0.44010075]\n",
            "    ----\n",
            "    MEAN:     [0.44751159] + [0.00689583]\n",
            "\n",
            "estimator  1: [cat: CatBoostClassifier]\n",
            "Learning rate set to 0.197859\n",
            "0:\tlearn: 0.5566475\ttotal: 123ms\tremaining: 1m 1s\n",
            "100:\tlearn: 0.4121159\ttotal: 11.3s\tremaining: 44.7s\n",
            "200:\tlearn: 0.4020850\ttotal: 22.2s\tremaining: 33s\n",
            "300:\tlearn: 0.3938335\ttotal: 33.5s\tremaining: 22.2s\n",
            "400:\tlearn: 0.3865222\ttotal: 45.1s\tremaining: 11.1s\n",
            "499:\tlearn: 0.3799044\ttotal: 56.7s\tremaining: 0us\n",
            "    fold  0:  [0.41734328]\n",
            "Learning rate set to 0.197859\n",
            "0:\tlearn: 0.5579923\ttotal: 127ms\tremaining: 1m 3s\n",
            "100:\tlearn: 0.4126366\ttotal: 11.8s\tremaining: 46.7s\n",
            "200:\tlearn: 0.4021026\ttotal: 23.5s\tremaining: 34.9s\n",
            "300:\tlearn: 0.3941761\ttotal: 34.7s\tremaining: 22.9s\n",
            "400:\tlearn: 0.3861909\ttotal: 46.1s\tremaining: 11.4s\n",
            "499:\tlearn: 0.3796380\ttotal: 57.4s\tremaining: 0us\n",
            "    fold  1:  [0.41449747]\n",
            "Learning rate set to 0.197859\n",
            "0:\tlearn: 0.5559529\ttotal: 120ms\tremaining: 59.8s\n",
            "100:\tlearn: 0.4127175\ttotal: 11.4s\tremaining: 45.1s\n",
            "200:\tlearn: 0.4028379\ttotal: 22.5s\tremaining: 33.5s\n",
            "300:\tlearn: 0.3945903\ttotal: 33.7s\tremaining: 22.3s\n",
            "400:\tlearn: 0.3871625\ttotal: 45.1s\tremaining: 11.1s\n",
            "499:\tlearn: 0.3805569\ttotal: 56.3s\tremaining: 0us\n",
            "    fold  2:  [0.41409265]\n",
            "Learning rate set to 0.19786\n",
            "0:\tlearn: 0.5509321\ttotal: 132ms\tremaining: 1m 5s\n",
            "100:\tlearn: 0.4129169\ttotal: 11.3s\tremaining: 44.8s\n",
            "200:\tlearn: 0.4023405\ttotal: 22.5s\tremaining: 33.4s\n",
            "300:\tlearn: 0.3941947\ttotal: 33.7s\tremaining: 22.3s\n",
            "400:\tlearn: 0.3868431\ttotal: 44.8s\tremaining: 11.1s\n",
            "499:\tlearn: 0.3803026\ttotal: 56s\tremaining: 0us\n",
            "    fold  3:  [0.41557711]\n",
            "    ----\n",
            "    MEAN:     [0.41537762] + [0.00125792]\n",
            "\n",
            "Train set was detected.\n",
            "Transforming...\n",
            "\n",
            "estimator  0: [lgbm: LGBMClassifier]\n",
            "    model from fold  0: done\n",
            "    model from fold  1: done\n",
            "    model from fold  2: done\n",
            "    model from fold  3: done\n",
            "    ----\n",
            "    DONE\n",
            "\n",
            "estimator  1: [cat: CatBoostClassifier]\n",
            "    model from fold  0: done\n",
            "    model from fold  1: done\n",
            "    model from fold  2: done\n",
            "    model from fold  3: done\n",
            "    ----\n",
            "    DONE\n",
            "\n",
            "Train set was detected.\n",
            "Transforming...\n",
            "\n",
            "estimator  0: [lgbm: LGBMClassifier]\n",
            "    model from fold  0: done\n",
            "    model from fold  1: done\n",
            "    model from fold  2: done\n",
            "    model from fold  3: done\n",
            "    ----\n",
            "    DONE\n",
            "\n",
            "estimator  1: [cat: CatBoostClassifier]\n",
            "    model from fold  0: done\n",
            "    model from fold  1: done\n",
            "    model from fold  2: done\n",
            "    model from fold  3: done\n",
            "    ----\n",
            "    DONE\n",
            "\n",
            "Transforming...\n",
            "\n",
            "estimator  0: [lgbm: LGBMClassifier]\n",
            "    model from fold  0: done\n",
            "    model from fold  1: done\n",
            "    model from fold  2: done\n",
            "    model from fold  3: done\n",
            "    ----\n",
            "    DONE\n",
            "\n",
            "estimator  1: [cat: CatBoostClassifier]\n",
            "    model from fold  0: done\n",
            "    model from fold  1: done\n",
            "    model from fold  2: done\n",
            "    model from fold  3: done\n",
            "    ----\n",
            "    DONE\n",
            "\n",
            "Fold: 3\n",
            "Accuracy: 0.707665462942008\n",
            "F1 Score: 0.7577566968532234\n",
            "AUC Score: 0.859814198894481\n",
            "\n",
            "\n",
            "confusion matrix\n",
            "True            0      1\n",
            "Predicted               \n",
            "0          181302   2912\n",
            "1           86217  34456\n",
            "classification report\n",
            "              precision    recall  f1-score   support\n",
            "\n",
            "         0.0       0.98      0.68      0.80    267519\n",
            "         1.0       0.29      0.92      0.44     37368\n",
            "\n",
            "    accuracy                           0.71    304887\n",
            "   macro avg       0.63      0.80      0.62    304887\n",
            "weighted avg       0.90      0.71      0.76    304887\n",
            "\n",
            "accuracy score\n",
            "0.707665462942008\n",
            "None\n"
          ],
          "name": "stdout"
        },
        {
          "output_type": "stream",
          "text": [
            "/usr/local/lib/python3.6/dist-packages/sklearn/utils/deprecation.py:87: FutureWarning: Function safe_indexing is deprecated; safe_indexing is deprecated in version 0.22 and will be removed in version 0.24.\n",
            "  warnings.warn(msg, category=FutureWarning)\n"
          ],
          "name": "stderr"
        },
        {
          "output_type": "stream",
          "text": [
            "task:         [classification]\n",
            "n_classes:    [2]\n",
            "metric:       [log_loss]\n",
            "variant:      [A]\n",
            "n_estimators: [2]\n",
            "\n",
            "estimator  0: [lgbm: LGBMClassifier]\n",
            "    fold  0:  [0.44845610]\n",
            "    fold  1:  [0.44537355]\n",
            "    fold  2:  [0.45258131]\n",
            "    fold  3:  [0.44374258]\n",
            "    ----\n",
            "    MEAN:     [0.44753839] + [0.00336778]\n",
            "\n",
            "estimator  1: [cat: CatBoostClassifier]\n",
            "Learning rate set to 0.19786\n",
            "0:\tlearn: 0.5577093\ttotal: 122ms\tremaining: 1m\n",
            "100:\tlearn: 0.4125210\ttotal: 11.4s\tremaining: 45.1s\n",
            "200:\tlearn: 0.4020546\ttotal: 22.4s\tremaining: 33.4s\n",
            "300:\tlearn: 0.3936288\ttotal: 33.6s\tremaining: 22.2s\n",
            "400:\tlearn: 0.3861672\ttotal: 44.7s\tremaining: 11s\n",
            "499:\tlearn: 0.3792241\ttotal: 56.1s\tremaining: 0us\n",
            "    fold  0:  [0.41285592]\n",
            "Learning rate set to 0.19786\n",
            "0:\tlearn: 0.5591403\ttotal: 123ms\tremaining: 1m 1s\n",
            "100:\tlearn: 0.4129610\ttotal: 11.6s\tremaining: 45.7s\n",
            "200:\tlearn: 0.4025693\ttotal: 22.5s\tremaining: 33.5s\n",
            "300:\tlearn: 0.3943470\ttotal: 33.7s\tremaining: 22.3s\n",
            "400:\tlearn: 0.3870531\ttotal: 44.9s\tremaining: 11.1s\n",
            "499:\tlearn: 0.3803798\ttotal: 56.2s\tremaining: 0us\n",
            "    fold  1:  [0.41486352]\n",
            "Learning rate set to 0.19786\n",
            "0:\tlearn: 0.5545613\ttotal: 121ms\tremaining: 1m\n"
          ],
          "name": "stdout"
        }
      ]
    },
    {
      "cell_type": "code",
      "metadata": {
        "id": "TLmOsvspQ6EJ",
        "colab_type": "code",
        "colab": {}
      },
      "source": [
        "import time\n",
        "while 1:\n",
        "  time.sleep(300)"
      ],
      "execution_count": null,
      "outputs": []
    },
    {
      "cell_type": "markdown",
      "metadata": {
        "id": "LtW3sK7GhCJB",
        "colab_type": "text"
      },
      "source": [
        "## Ngboost"
      ]
    },
    {
      "cell_type": "code",
      "metadata": {
        "id": "P94MvZt-hEMx",
        "colab_type": "code",
        "colab": {
          "base_uri": "https://localhost:8080/",
          "height": 558
        },
        "outputId": "f850982f-324b-4b5d-84e6-5dbfce4380f4"
      },
      "source": [
        "!pip install --upgrade git+https://github.com/stanfordmlgroup/ngboost.git"
      ],
      "execution_count": null,
      "outputs": [
        {
          "output_type": "stream",
          "text": [
            "Collecting git+https://github.com/stanfordmlgroup/ngboost.git\n",
            "  Cloning https://github.com/stanfordmlgroup/ngboost.git to /tmp/pip-req-build-sbmg8797\n",
            "  Running command git clone -q https://github.com/stanfordmlgroup/ngboost.git /tmp/pip-req-build-sbmg8797\n",
            "Requirement already satisfied, skipping upgrade: numpy>=1.17.2 in /usr/local/lib/python3.6/dist-packages (from ngboost==0.3.6.dev0) (1.18.5)\n",
            "Requirement already satisfied, skipping upgrade: scipy>=1.3.1 in /usr/local/lib/python3.6/dist-packages (from ngboost==0.3.6.dev0) (1.4.1)\n",
            "Requirement already satisfied, skipping upgrade: scikit-learn>=0.21.3 in /usr/local/lib/python3.6/dist-packages (from ngboost==0.3.6.dev0) (0.22.2.post1)\n",
            "Requirement already satisfied, skipping upgrade: tqdm>=4.36.1 in /usr/local/lib/python3.6/dist-packages (from ngboost==0.3.6.dev0) (4.41.1)\n",
            "Collecting lifelines>=0.22.8\n",
            "\u001b[?25l  Downloading https://files.pythonhosted.org/packages/8a/ac/2053e284c83b3e4ae35751a9f755bfc3739373099fe346dec323b9177659/lifelines-0.25.4-py3-none-any.whl (345kB)\n",
            "\u001b[K     |████████████████████████████████| 348kB 6.8MB/s \n",
            "\u001b[?25hRequirement already satisfied, skipping upgrade: joblib>=0.11 in /usr/local/lib/python3.6/dist-packages (from scikit-learn>=0.21.3->ngboost==0.3.6.dev0) (0.16.0)\n",
            "Requirement already satisfied, skipping upgrade: patsy>=0.5.0 in /usr/local/lib/python3.6/dist-packages (from lifelines>=0.22.8->ngboost==0.3.6.dev0) (0.5.1)\n",
            "Collecting autograd-gamma>=0.3\n",
            "  Downloading https://files.pythonhosted.org/packages/0a/07/d99339c9420b58b723a9189d1373e5c3889758b2202a1a7fe4a3b7a10c5a/autograd_gamma-0.4.2-py2.py3-none-any.whl\n",
            "Requirement already satisfied, skipping upgrade: matplotlib>=3.0 in /usr/local/lib/python3.6/dist-packages (from lifelines>=0.22.8->ngboost==0.3.6.dev0) (3.2.2)\n",
            "Requirement already satisfied, skipping upgrade: autograd>=1.3 in /usr/local/lib/python3.6/dist-packages (from lifelines>=0.22.8->ngboost==0.3.6.dev0) (1.3)\n",
            "Requirement already satisfied, skipping upgrade: pandas>=0.23.0 in /usr/local/lib/python3.6/dist-packages (from lifelines>=0.22.8->ngboost==0.3.6.dev0) (1.0.5)\n",
            "Requirement already satisfied, skipping upgrade: six in /usr/local/lib/python3.6/dist-packages (from patsy>=0.5.0->lifelines>=0.22.8->ngboost==0.3.6.dev0) (1.15.0)\n",
            "Requirement already satisfied, skipping upgrade: cycler>=0.10 in /usr/local/lib/python3.6/dist-packages (from matplotlib>=3.0->lifelines>=0.22.8->ngboost==0.3.6.dev0) (0.10.0)\n",
            "Requirement already satisfied, skipping upgrade: pyparsing!=2.0.4,!=2.1.2,!=2.1.6,>=2.0.1 in /usr/local/lib/python3.6/dist-packages (from matplotlib>=3.0->lifelines>=0.22.8->ngboost==0.3.6.dev0) (2.4.7)\n",
            "Requirement already satisfied, skipping upgrade: python-dateutil>=2.1 in /usr/local/lib/python3.6/dist-packages (from matplotlib>=3.0->lifelines>=0.22.8->ngboost==0.3.6.dev0) (2.8.1)\n",
            "Requirement already satisfied, skipping upgrade: kiwisolver>=1.0.1 in /usr/local/lib/python3.6/dist-packages (from matplotlib>=3.0->lifelines>=0.22.8->ngboost==0.3.6.dev0) (1.2.0)\n",
            "Requirement already satisfied, skipping upgrade: future>=0.15.2 in /usr/local/lib/python3.6/dist-packages (from autograd>=1.3->lifelines>=0.22.8->ngboost==0.3.6.dev0) (0.16.0)\n",
            "Requirement already satisfied, skipping upgrade: pytz>=2017.2 in /usr/local/lib/python3.6/dist-packages (from pandas>=0.23.0->lifelines>=0.22.8->ngboost==0.3.6.dev0) (2018.9)\n",
            "Building wheels for collected packages: ngboost\n",
            "  Building wheel for ngboost (setup.py) ... \u001b[?25l\u001b[?25hdone\n",
            "  Created wheel for ngboost: filename=ngboost-0.3.6.dev0-cp36-none-any.whl size=40230 sha256=509a66ddbf90727c52de0a5414e75c20e1613c3b750efd01ff63303f289dab5f\n",
            "  Stored in directory: /tmp/pip-ephem-wheel-cache-tf0zx1_1/wheels/6d/38/b0/7dc3b6546bf28b1cc407b44f75cbecf072fc2bae32e8f6a835\n",
            "Successfully built ngboost\n",
            "Installing collected packages: autograd-gamma, lifelines, ngboost\n",
            "Successfully installed autograd-gamma-0.4.2 lifelines-0.25.4 ngboost-0.3.6.dev0\n"
          ],
          "name": "stdout"
        }
      ]
    },
    {
      "cell_type": "code",
      "metadata": {
        "id": "RMYAB5vjhHfN",
        "colab_type": "code",
        "colab": {}
      },
      "source": [
        "from ngboost import NGBClassifier"
      ],
      "execution_count": null,
      "outputs": []
    },
    {
      "cell_type": "code",
      "metadata": {
        "id": "0GBWHC6DhePh",
        "colab_type": "code",
        "colab": {}
      },
      "source": [
        "y = y.astype(\"int\")"
      ],
      "execution_count": null,
      "outputs": []
    },
    {
      "cell_type": "code",
      "metadata": {
        "id": "P8mTbUFBhSf7",
        "colab_type": "code",
        "colab": {
          "base_uri": "https://localhost:8080/",
          "height": 370
        },
        "outputId": "63cae6d1-4a5c-46ee-eb0f-5d625a3f3300"
      },
      "source": [
        "ngb = NGBClassifier()\n",
        "ngb.fit(X,y)"
      ],
      "execution_count": null,
      "outputs": [
        {
          "output_type": "stream",
          "text": [
            "[iter 0] loss=0.3720 val_loss=0.0000 scale=1.0000 norm=2.0000\n",
            "[iter 100] loss=0.2790 val_loss=0.0000 scale=4.0000 norm=6.2517\n",
            "[iter 200] loss=0.2686 val_loss=0.0000 scale=2.0000 norm=3.2298\n",
            "[iter 300] loss=0.2676 val_loss=0.0000 scale=1.0000 norm=1.6996\n",
            "[iter 400] loss=0.2671 val_loss=0.0000 scale=2.0000 norm=3.5866\n"
          ],
          "name": "stdout"
        },
        {
          "output_type": "execute_result",
          "data": {
            "text/plain": [
              "NGBClassifier(Base=DecisionTreeRegressor(ccp_alpha=0.0,\n",
              "                                         criterion='friedman_mse', max_depth=3,\n",
              "                                         max_features=None, max_leaf_nodes=None,\n",
              "                                         min_impurity_decrease=0.0,\n",
              "                                         min_impurity_split=None,\n",
              "                                         min_samples_leaf=1,\n",
              "                                         min_samples_split=2,\n",
              "                                         min_weight_fraction_leaf=0.0,\n",
              "                                         presort='deprecated',\n",
              "                                         random_state=None, splitter='best'),\n",
              "              Dist=<class 'ngboost.distns.categorical.k_categorical.<locals>.Categorical'>,\n",
              "              Score=<class 'ngboost.scores.LogScore'>, col_sample=1.0,\n",
              "              learning_rate=0.01, minibatch_frac=1.0, n_estimators=500,\n",
              "              natural_gradient=True,\n",
              "              random_state=RandomState(MT19937) at 0x7F559CE81780, tol=0.0001,\n",
              "              verbose=True, verbose_eval=100)"
            ]
          },
          "metadata": {
            "tags": []
          },
          "execution_count": 235
        }
      ]
    },
    {
      "cell_type": "code",
      "metadata": {
        "id": "tPH3v51JoQdr",
        "colab_type": "code",
        "colab": {}
      },
      "source": [
        "y_ng = ngb.predict(X_test)"
      ],
      "execution_count": null,
      "outputs": []
    },
    {
      "cell_type": "code",
      "metadata": {
        "id": "9ZwbqjBxtTBz",
        "colab_type": "code",
        "colab": {}
      },
      "source": [
        "y_ng = ngb.predict_proba(X_test)"
      ],
      "execution_count": null,
      "outputs": []
    },
    {
      "cell_type": "code",
      "metadata": {
        "id": "1WtmFIBUoW40",
        "colab_type": "code",
        "colab": {
          "base_uri": "https://localhost:8080/",
          "height": 50
        },
        "outputId": "54c0f295-5092-48bf-82d1-c4a080cc139f"
      },
      "source": [
        "y_ng[:,1]"
      ],
      "execution_count": null,
      "outputs": [
        {
          "output_type": "execute_result",
          "data": {
            "text/plain": [
              "array([4.51739250e-04, 2.95501609e-01, 3.30619291e-01, ...,\n",
              "       1.50455817e-04, 3.93481529e-04, 5.81054299e-04])"
            ]
          },
          "metadata": {
            "tags": []
          },
          "execution_count": 258
        }
      ]
    },
    {
      "cell_type": "code",
      "metadata": {
        "colab_type": "code",
        "id": "O_LFr7dctbEf",
        "colab": {}
      },
      "source": [
        "submission['Response_pred'] = y_pred_test[:,1]"
      ],
      "execution_count": null,
      "outputs": []
    },
    {
      "cell_type": "code",
      "metadata": {
        "colab_type": "code",
        "id": "268BT0IitbEv",
        "colab": {
          "base_uri": "https://localhost:8080/",
          "height": 34
        },
        "outputId": "1998dd5a-d73f-4369-e30a-646781d29f2b"
      },
      "source": [
        "submission.shape"
      ],
      "execution_count": null,
      "outputs": [
        {
          "output_type": "execute_result",
          "data": {
            "text/plain": [
              "(127037, 3)"
            ]
          },
          "metadata": {
            "tags": []
          },
          "execution_count": 260
        }
      ]
    },
    {
      "cell_type": "code",
      "metadata": {
        "colab_type": "code",
        "id": "6NbWX6rdtbE5",
        "colab": {}
      },
      "source": [
        "submission.drop(\"Response\",axis=1,inplace=True)"
      ],
      "execution_count": null,
      "outputs": []
    },
    {
      "cell_type": "code",
      "metadata": {
        "colab_type": "code",
        "id": "PrnQlsOQtbFB",
        "colab": {
          "base_uri": "https://localhost:8080/",
          "height": 195
        },
        "outputId": "a8d8f27f-779d-420f-bcf5-f13c06504eb7"
      },
      "source": [
        "submission.head()"
      ],
      "execution_count": null,
      "outputs": [
        {
          "output_type": "execute_result",
          "data": {
            "text/html": [
              "<div>\n",
              "<style scoped>\n",
              "    .dataframe tbody tr th:only-of-type {\n",
              "        vertical-align: middle;\n",
              "    }\n",
              "\n",
              "    .dataframe tbody tr th {\n",
              "        vertical-align: top;\n",
              "    }\n",
              "\n",
              "    .dataframe thead th {\n",
              "        text-align: right;\n",
              "    }\n",
              "</style>\n",
              "<table border=\"1\" class=\"dataframe\">\n",
              "  <thead>\n",
              "    <tr style=\"text-align: right;\">\n",
              "      <th></th>\n",
              "      <th>id</th>\n",
              "      <th>Response_pred</th>\n",
              "    </tr>\n",
              "  </thead>\n",
              "  <tbody>\n",
              "    <tr>\n",
              "      <th>0</th>\n",
              "      <td>381110</td>\n",
              "      <td>0.000000</td>\n",
              "    </tr>\n",
              "    <tr>\n",
              "      <th>1</th>\n",
              "      <td>381111</td>\n",
              "      <td>0.331259</td>\n",
              "    </tr>\n",
              "    <tr>\n",
              "      <th>2</th>\n",
              "      <td>381112</td>\n",
              "      <td>0.300608</td>\n",
              "    </tr>\n",
              "    <tr>\n",
              "      <th>3</th>\n",
              "      <td>381113</td>\n",
              "      <td>0.003744</td>\n",
              "    </tr>\n",
              "    <tr>\n",
              "      <th>4</th>\n",
              "      <td>381114</td>\n",
              "      <td>0.000009</td>\n",
              "    </tr>\n",
              "  </tbody>\n",
              "</table>\n",
              "</div>"
            ],
            "text/plain": [
              "       id  Response_pred\n",
              "0  381110       0.000000\n",
              "1  381111       0.331259\n",
              "2  381112       0.300608\n",
              "3  381113       0.003744\n",
              "4  381114       0.000009"
            ]
          },
          "metadata": {
            "tags": []
          },
          "execution_count": 262
        }
      ]
    },
    {
      "cell_type": "code",
      "metadata": {
        "colab_type": "code",
        "id": "tdG39tC5tbFL",
        "colab": {}
      },
      "source": [
        "submission.columns = ['id','Response']"
      ],
      "execution_count": null,
      "outputs": []
    },
    {
      "cell_type": "code",
      "metadata": {
        "colab_type": "code",
        "id": "6rVKIbkUtbFU",
        "colab": {}
      },
      "source": [
        "submission.to_csv(\"ngb_feats_v3_unbalanced_500.csv\",index=False)"
      ],
      "execution_count": null,
      "outputs": []
    },
    {
      "cell_type": "markdown",
      "metadata": {
        "id": "klVTT-FgXN5M",
        "colab_type": "text"
      },
      "source": [
        "## Stratified kfold catboost"
      ]
    },
    {
      "cell_type": "code",
      "metadata": {
        "id": "dXGROPX9Xk-l",
        "colab_type": "code",
        "colab": {
          "base_uri": "https://localhost:8080/",
          "height": 134
        },
        "outputId": "e4c27f5f-f706-43dc-8ee6-81e00b2cff03"
      },
      "source": [
        "np.zeros((len(test), 10))"
      ],
      "execution_count": null,
      "outputs": [
        {
          "output_type": "execute_result",
          "data": {
            "text/plain": [
              "array([[0., 0., 0., ..., 0., 0., 0.],\n",
              "       [0., 0., 0., ..., 0., 0., 0.],\n",
              "       [0., 0., 0., ..., 0., 0., 0.],\n",
              "       ...,\n",
              "       [0., 0., 0., ..., 0., 0., 0.],\n",
              "       [0., 0., 0., ..., 0., 0., 0.],\n",
              "       [0., 0., 0., ..., 0., 0., 0.]])"
            ]
          },
          "metadata": {
            "tags": []
          },
          "execution_count": 143
        }
      ]
    },
    {
      "cell_type": "code",
      "metadata": {
        "id": "yVjWengpaDfu",
        "colab_type": "code",
        "colab": {
          "base_uri": "https://localhost:8080/",
          "height": 67
        },
        "outputId": "0c25a343-7f04-486a-f2db-d8ae60d567d5"
      },
      "source": [
        "train['Response'].value_counts()"
      ],
      "execution_count": null,
      "outputs": [
        {
          "output_type": "execute_result",
          "data": {
            "text/plain": [
              "0.0    334399\n",
              "1.0     46710\n",
              "Name: Response, dtype: int64"
            ]
          },
          "metadata": {
            "tags": []
          },
          "execution_count": 53
        }
      ]
    },
    {
      "cell_type": "code",
      "metadata": {
        "id": "EATyWHZzaGHR",
        "colab_type": "code",
        "colab": {
          "base_uri": "https://localhost:8080/",
          "height": 34
        },
        "outputId": "8ba9934d-e5e7-4a7b-ad91-762449257de8"
      },
      "source": [
        "334399/46710"
      ],
      "execution_count": null,
      "outputs": [
        {
          "output_type": "execute_result",
          "data": {
            "text/plain": [
              "7.15904517233997"
            ]
          },
          "metadata": {
            "tags": []
          },
          "execution_count": 54
        }
      ]
    },
    {
      "cell_type": "code",
      "metadata": {
        "id": "9W2tqX6ideys",
        "colab_type": "code",
        "colab": {}
      },
      "source": [
        "from imblearn.over_sampling import SMOTE\n",
        "smote = SMOTE()"
      ],
      "execution_count": null,
      "outputs": []
    },
    {
      "cell_type": "code",
      "metadata": {
        "id": "5G1_05d7XQcJ",
        "colab_type": "code",
        "colab": {
          "base_uri": "https://localhost:8080/",
          "height": 1000
        },
        "outputId": "ffb1d58c-f0e0-43d8-f23f-9ac8fe4c20e2"
      },
      "source": [
        "err = [] \n",
        "y_pred_tot_lgm = np.zeros((len(test), 2))\n",
        "\n",
        "\n",
        "fold = StratifiedKFold(n_splits=10, shuffle=True, random_state=2020)\n",
        "i = 1\n",
        "\n",
        "for train_index, test_index in fold.split(X, y):\n",
        "    x_train, x_val = X.iloc[train_index], X.iloc[test_index]\n",
        "    y_train, y_val = y.iloc[train_index], y.iloc[test_index]\n",
        "    m = lgb.LGBMClassifier(n_estimators=200,\n",
        "                       random_state=2020,\n",
        "                       eval_metric='Accuracy',\n",
        "                       learning_rate=0.08,\n",
        "                       depth=8,\n",
        "                       bagging_temperature=0.3,\n",
        "                       class_weights = 'balanced'\n",
        "                       #num_leaves=64\n",
        "                       \n",
        "                     )\n",
        "    x_train,y_train = smote.fit_resample(x_train,y_train)\n",
        "    m.fit(x_train, y_train,eval_set=[(x_val, y_val)], early_stopping_rounds=100,verbose=200)\n",
        "    pred_y = m.predict(x_val)\n",
        "    print(i, \" err_lgm: \", accuracy_score(y_val,pred_y))\n",
        "    err.append(accuracy_score(y_val,pred_y))\n",
        "    y_pred_tot_lgm+= m.predict_proba(X_test)\n",
        "    i = i + 1\n",
        "# y_pred_tot_lgm=y_pred_tot_lgm/2\n",
        "# print(sum(err)/10)"
      ],
      "execution_count": null,
      "outputs": [
        {
          "output_type": "stream",
          "text": [
            "/usr/local/lib/python3.6/dist-packages/sklearn/utils/deprecation.py:87: FutureWarning: Function safe_indexing is deprecated; safe_indexing is deprecated in version 0.22 and will be removed in version 0.24.\n",
            "  warnings.warn(msg, category=FutureWarning)\n"
          ],
          "name": "stderr"
        },
        {
          "output_type": "stream",
          "text": [
            "Training until validation scores don't improve for 100 rounds.\n",
            "[200]\tvalid_0's binary_logloss: 0.305271\n",
            "Did not meet early stopping. Best iteration is:\n",
            "[200]\tvalid_0's binary_logloss: 0.305271\n",
            "1  err_lgm:  0.8220198892708142\n"
          ],
          "name": "stdout"
        },
        {
          "output_type": "stream",
          "text": [
            "/usr/local/lib/python3.6/dist-packages/sklearn/utils/deprecation.py:87: FutureWarning: Function safe_indexing is deprecated; safe_indexing is deprecated in version 0.22 and will be removed in version 0.24.\n",
            "  warnings.warn(msg, category=FutureWarning)\n"
          ],
          "name": "stderr"
        },
        {
          "output_type": "stream",
          "text": [
            "Training until validation scores don't improve for 100 rounds.\n",
            "[200]\tvalid_0's binary_logloss: 0.310612\n",
            "Did not meet early stopping. Best iteration is:\n",
            "[200]\tvalid_0's binary_logloss: 0.310612\n",
            "2  err_lgm:  0.8161423211146388\n"
          ],
          "name": "stdout"
        },
        {
          "output_type": "stream",
          "text": [
            "/usr/local/lib/python3.6/dist-packages/sklearn/utils/deprecation.py:87: FutureWarning: Function safe_indexing is deprecated; safe_indexing is deprecated in version 0.22 and will be removed in version 0.24.\n",
            "  warnings.warn(msg, category=FutureWarning)\n"
          ],
          "name": "stderr"
        },
        {
          "output_type": "stream",
          "text": [
            "Training until validation scores don't improve for 100 rounds.\n",
            "[200]\tvalid_0's binary_logloss: 0.305964\n",
            "Did not meet early stopping. Best iteration is:\n",
            "[200]\tvalid_0's binary_logloss: 0.305964\n",
            "3  err_lgm:  0.8199207577864659\n"
          ],
          "name": "stdout"
        },
        {
          "output_type": "stream",
          "text": [
            "/usr/local/lib/python3.6/dist-packages/sklearn/utils/deprecation.py:87: FutureWarning: Function safe_indexing is deprecated; safe_indexing is deprecated in version 0.22 and will be removed in version 0.24.\n",
            "  warnings.warn(msg, category=FutureWarning)\n"
          ],
          "name": "stderr"
        },
        {
          "output_type": "stream",
          "text": [
            "Training until validation scores don't improve for 100 rounds.\n",
            "[200]\tvalid_0's binary_logloss: 0.312523\n",
            "Did not meet early stopping. Best iteration is:\n",
            "[198]\tvalid_0's binary_logloss: 0.312462\n",
            "4  err_lgm:  0.8148041247933667\n"
          ],
          "name": "stdout"
        },
        {
          "output_type": "stream",
          "text": [
            "/usr/local/lib/python3.6/dist-packages/sklearn/utils/deprecation.py:87: FutureWarning: Function safe_indexing is deprecated; safe_indexing is deprecated in version 0.22 and will be removed in version 0.24.\n",
            "  warnings.warn(msg, category=FutureWarning)\n"
          ],
          "name": "stderr"
        },
        {
          "output_type": "stream",
          "text": [
            "Training until validation scores don't improve for 100 rounds.\n",
            "[200]\tvalid_0's binary_logloss: 0.311213\n",
            "Did not meet early stopping. Best iteration is:\n",
            "[200]\tvalid_0's binary_logloss: 0.311213\n",
            "5  err_lgm:  0.8148566030804755\n"
          ],
          "name": "stdout"
        },
        {
          "output_type": "stream",
          "text": [
            "/usr/local/lib/python3.6/dist-packages/sklearn/utils/deprecation.py:87: FutureWarning: Function safe_indexing is deprecated; safe_indexing is deprecated in version 0.22 and will be removed in version 0.24.\n",
            "  warnings.warn(msg, category=FutureWarning)\n"
          ],
          "name": "stderr"
        },
        {
          "output_type": "stream",
          "text": [
            "Training until validation scores don't improve for 100 rounds.\n",
            "[200]\tvalid_0's binary_logloss: 0.310864\n",
            "Did not meet early stopping. Best iteration is:\n",
            "[200]\tvalid_0's binary_logloss: 0.310864\n",
            "6  err_lgm:  0.8185038440345307\n"
          ],
          "name": "stdout"
        },
        {
          "output_type": "stream",
          "text": [
            "/usr/local/lib/python3.6/dist-packages/sklearn/utils/deprecation.py:87: FutureWarning: Function safe_indexing is deprecated; safe_indexing is deprecated in version 0.22 and will be removed in version 0.24.\n",
            "  warnings.warn(msg, category=FutureWarning)\n"
          ],
          "name": "stderr"
        },
        {
          "output_type": "stream",
          "text": [
            "Training until validation scores don't improve for 100 rounds.\n",
            "[200]\tvalid_0's binary_logloss: 0.317585\n",
            "Did not meet early stopping. Best iteration is:\n",
            "[176]\tvalid_0's binary_logloss: 0.311525\n",
            "7  err_lgm:  0.8114717535619638\n"
          ],
          "name": "stdout"
        },
        {
          "output_type": "stream",
          "text": [
            "/usr/local/lib/python3.6/dist-packages/sklearn/utils/deprecation.py:87: FutureWarning: Function safe_indexing is deprecated; safe_indexing is deprecated in version 0.22 and will be removed in version 0.24.\n",
            "  warnings.warn(msg, category=FutureWarning)\n"
          ],
          "name": "stderr"
        },
        {
          "output_type": "stream",
          "text": [
            "Training until validation scores don't improve for 100 rounds.\n",
            "[200]\tvalid_0's binary_logloss: 0.309265\n",
            "Did not meet early stopping. Best iteration is:\n",
            "[200]\tvalid_0's binary_logloss: 0.309265\n",
            "8  err_lgm:  0.8193172574847157\n"
          ],
          "name": "stdout"
        },
        {
          "output_type": "stream",
          "text": [
            "/usr/local/lib/python3.6/dist-packages/sklearn/utils/deprecation.py:87: FutureWarning: Function safe_indexing is deprecated; safe_indexing is deprecated in version 0.22 and will be removed in version 0.24.\n",
            "  warnings.warn(msg, category=FutureWarning)\n"
          ],
          "name": "stderr"
        },
        {
          "output_type": "stream",
          "text": [
            "Training until validation scores don't improve for 100 rounds.\n",
            "[200]\tvalid_0's binary_logloss: 0.307456\n",
            "Did not meet early stopping. Best iteration is:\n",
            "[199]\tvalid_0's binary_logloss: 0.307451\n",
            "9  err_lgm:  0.8226758678596731\n"
          ],
          "name": "stdout"
        },
        {
          "output_type": "stream",
          "text": [
            "/usr/local/lib/python3.6/dist-packages/sklearn/utils/deprecation.py:87: FutureWarning: Function safe_indexing is deprecated; safe_indexing is deprecated in version 0.22 and will be removed in version 0.24.\n",
            "  warnings.warn(msg, category=FutureWarning)\n"
          ],
          "name": "stderr"
        },
        {
          "output_type": "stream",
          "text": [
            "Training until validation scores don't improve for 100 rounds.\n",
            "[200]\tvalid_0's binary_logloss: 0.30833\n",
            "Did not meet early stopping. Best iteration is:\n",
            "[200]\tvalid_0's binary_logloss: 0.30833\n",
            "10  err_lgm:  0.8159013382314353\n"
          ],
          "name": "stdout"
        }
      ]
    },
    {
      "cell_type": "code",
      "metadata": {
        "id": "a7v7KjzCbT38",
        "colab_type": "code",
        "colab": {}
      },
      "source": [
        ""
      ],
      "execution_count": null,
      "outputs": []
    },
    {
      "cell_type": "code",
      "metadata": {
        "id": "nxZplbIqYQyl",
        "colab_type": "code",
        "colab": {
          "base_uri": "https://localhost:8080/",
          "height": 134
        },
        "outputId": "61c0a645-5ebd-4cf3-afcd-b74d330b49a4"
      },
      "source": [
        "y_pred_tot_lgm"
      ],
      "execution_count": null,
      "outputs": [
        {
          "output_type": "execute_result",
          "data": {
            "text/plain": [
              "array([[9.98675044e+00, 1.32495557e-02],\n",
              "       [5.42737671e+00, 4.57262329e+00],\n",
              "       [4.14985083e+00, 5.85014917e+00],\n",
              "       ...,\n",
              "       [9.99471285e+00, 5.28715055e-03],\n",
              "       [9.99359122e+00, 6.40878109e-03],\n",
              "       [9.97910078e+00, 2.08992194e-02]])"
            ]
          },
          "metadata": {
            "tags": []
          },
          "execution_count": 87
        }
      ]
    },
    {
      "cell_type": "code",
      "metadata": {
        "id": "F6wTeglYZMim",
        "colab_type": "code",
        "colab": {
          "base_uri": "https://localhost:8080/",
          "height": 34
        },
        "outputId": "4e5d0998-f78b-4d74-bc74-207d2cd5c26e"
      },
      "source": [
        "y_pred_tot_lgm=y_pred_tot_lgm/2\n",
        "print(sum(err)/10)"
      ],
      "execution_count": null,
      "outputs": [
        {
          "output_type": "stream",
          "text": [
            "0.8175613757218081\n"
          ],
          "name": "stdout"
        }
      ]
    },
    {
      "cell_type": "code",
      "metadata": {
        "id": "aJiE2eetZS__",
        "colab_type": "code",
        "colab": {
          "base_uri": "https://localhost:8080/",
          "height": 134
        },
        "outputId": "1fa3dafe-12c9-4bf9-b361-d2cc013e1530"
      },
      "source": [
        "y_pred_tot_lgm"
      ],
      "execution_count": null,
      "outputs": [
        {
          "output_type": "execute_result",
          "data": {
            "text/plain": [
              "array([[4.99337522e+00, 6.62477787e-03],\n",
              "       [2.71368836e+00, 2.28631164e+00],\n",
              "       [2.07492542e+00, 2.92507458e+00],\n",
              "       ...,\n",
              "       [4.99735642e+00, 2.64357528e-03],\n",
              "       [4.99679561e+00, 3.20439054e-03],\n",
              "       [4.98955039e+00, 1.04496097e-02]])"
            ]
          },
          "metadata": {
            "tags": []
          },
          "execution_count": 89
        }
      ]
    },
    {
      "cell_type": "code",
      "metadata": {
        "id": "lqJVEZNmZVSf",
        "colab_type": "code",
        "colab": {}
      },
      "source": [
        "submission['Response_pred'] = [np.argmax(x) for x in y_pred_tot_lgm]"
      ],
      "execution_count": null,
      "outputs": []
    },
    {
      "cell_type": "code",
      "metadata": {
        "colab_type": "code",
        "id": "O5XCKBdYa5M6",
        "colab": {}
      },
      "source": [
        "submission.drop(\"Response\",axis=1,inplace=True)"
      ],
      "execution_count": null,
      "outputs": []
    },
    {
      "cell_type": "code",
      "metadata": {
        "colab_type": "code",
        "id": "FRU1Fk1Qa5M-",
        "colab": {
          "base_uri": "https://localhost:8080/",
          "height": 195
        },
        "outputId": "35410dfd-3d98-4012-b3ea-60b9edb7f7fd"
      },
      "source": [
        "submission.head()"
      ],
      "execution_count": null,
      "outputs": [
        {
          "output_type": "execute_result",
          "data": {
            "text/html": [
              "<div>\n",
              "<style scoped>\n",
              "    .dataframe tbody tr th:only-of-type {\n",
              "        vertical-align: middle;\n",
              "    }\n",
              "\n",
              "    .dataframe tbody tr th {\n",
              "        vertical-align: top;\n",
              "    }\n",
              "\n",
              "    .dataframe thead th {\n",
              "        text-align: right;\n",
              "    }\n",
              "</style>\n",
              "<table border=\"1\" class=\"dataframe\">\n",
              "  <thead>\n",
              "    <tr style=\"text-align: right;\">\n",
              "      <th></th>\n",
              "      <th>id</th>\n",
              "      <th>Response_pred</th>\n",
              "    </tr>\n",
              "  </thead>\n",
              "  <tbody>\n",
              "    <tr>\n",
              "      <th>0</th>\n",
              "      <td>381110</td>\n",
              "      <td>0</td>\n",
              "    </tr>\n",
              "    <tr>\n",
              "      <th>1</th>\n",
              "      <td>381111</td>\n",
              "      <td>0</td>\n",
              "    </tr>\n",
              "    <tr>\n",
              "      <th>2</th>\n",
              "      <td>381112</td>\n",
              "      <td>1</td>\n",
              "    </tr>\n",
              "    <tr>\n",
              "      <th>3</th>\n",
              "      <td>381113</td>\n",
              "      <td>0</td>\n",
              "    </tr>\n",
              "    <tr>\n",
              "      <th>4</th>\n",
              "      <td>381114</td>\n",
              "      <td>0</td>\n",
              "    </tr>\n",
              "  </tbody>\n",
              "</table>\n",
              "</div>"
            ],
            "text/plain": [
              "       id  Response_pred\n",
              "0  381110              0\n",
              "1  381111              0\n",
              "2  381112              1\n",
              "3  381113              0\n",
              "4  381114              0"
            ]
          },
          "metadata": {
            "tags": []
          },
          "execution_count": 92
        }
      ]
    },
    {
      "cell_type": "code",
      "metadata": {
        "colab_type": "code",
        "id": "4u01jYlda5NA",
        "colab": {}
      },
      "source": [
        "submission.columns = ['id','Response']"
      ],
      "execution_count": null,
      "outputs": []
    },
    {
      "cell_type": "code",
      "metadata": {
        "colab_type": "code",
        "id": "ma9wccb1a5NC",
        "colab": {}
      },
      "source": [
        "submission.to_csv(\"lgb.csv\",index=False)"
      ],
      "execution_count": null,
      "outputs": []
    },
    {
      "cell_type": "code",
      "metadata": {
        "id": "MTkzEXaua9-T",
        "colab_type": "code",
        "colab": {
          "base_uri": "https://localhost:8080/",
          "height": 67
        },
        "outputId": "795e951e-9e81-478c-abdc-bc927fddf111"
      },
      "source": [
        "submission['Response'].value_counts()"
      ],
      "execution_count": null,
      "outputs": [
        {
          "output_type": "execute_result",
          "data": {
            "text/plain": [
              "0    103161\n",
              "1     23876\n",
              "Name: Response, dtype: int64"
            ]
          },
          "metadata": {
            "tags": []
          },
          "execution_count": 94
        }
      ]
    },
    {
      "cell_type": "code",
      "metadata": {
        "id": "5MkIVOkhbBEe",
        "colab_type": "code",
        "colab": {}
      },
      "source": [
        ""
      ],
      "execution_count": null,
      "outputs": []
    }
  ]
}